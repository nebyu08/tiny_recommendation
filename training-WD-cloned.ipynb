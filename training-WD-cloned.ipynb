{
 "cells": [
  {
   "cell_type": "code",
   "execution_count": 1,
   "id": "c3e519a6",
   "metadata": {
    "execution": {
     "iopub.execute_input": "2024-09-08T08:49:47.336828Z",
     "iopub.status.busy": "2024-09-08T08:49:47.336545Z",
     "iopub.status.idle": "2024-09-08T08:49:47.340790Z",
     "shell.execute_reply": "2024-09-08T08:49:47.339971Z"
    },
    "papermill": {
     "duration": 0.02875,
     "end_time": "2024-09-08T08:49:47.342755",
     "exception": false,
     "start_time": "2024-09-08T08:49:47.314005",
     "status": "completed"
    },
    "tags": []
   },
   "outputs": [],
   "source": [
    "# %load_ext autoreload\n",
    "# %autoreload 2"
   ]
  },
  {
   "cell_type": "code",
   "execution_count": 2,
   "id": "0db05637",
   "metadata": {
    "execution": {
     "iopub.execute_input": "2024-09-08T08:49:47.387448Z",
     "iopub.status.busy": "2024-09-08T08:49:47.386710Z",
     "iopub.status.idle": "2024-09-08T08:50:00.945978Z",
     "shell.execute_reply": "2024-09-08T08:50:00.944932Z"
    },
    "papermill": {
     "duration": 13.58358,
     "end_time": "2024-09-08T08:50:00.948485",
     "exception": false,
     "start_time": "2024-09-08T08:49:47.364905",
     "status": "completed"
    },
    "tags": []
   },
   "outputs": [],
   "source": [
    "!pip install tensorboard -qq"
   ]
  },
  {
   "cell_type": "code",
   "execution_count": 3,
   "id": "b9980f1d",
   "metadata": {
    "_cell_guid": "b1076dfc-b9ad-4769-8c92-a6c4dae69d19",
    "_uuid": "8f2839f25d086af736a60e9eeb907d3b93b6e0e5",
    "execution": {
     "iopub.execute_input": "2024-09-08T08:50:00.993957Z",
     "iopub.status.busy": "2024-09-08T08:50:00.993630Z",
     "iopub.status.idle": "2024-09-08T08:50:20.415943Z",
     "shell.execute_reply": "2024-09-08T08:50:20.415058Z"
    },
    "papermill": {
     "duration": 19.446671,
     "end_time": "2024-09-08T08:50:20.418229",
     "exception": false,
     "start_time": "2024-09-08T08:50:00.971558",
     "status": "completed"
    },
    "tags": []
   },
   "outputs": [
    {
     "name": "stderr",
     "output_type": "stream",
     "text": [
      "2024-09-08 08:50:10.388636: E external/local_xla/xla/stream_executor/cuda/cuda_dnn.cc:9261] Unable to register cuDNN factory: Attempting to register factory for plugin cuDNN when one has already been registered\n",
      "2024-09-08 08:50:10.388733: E external/local_xla/xla/stream_executor/cuda/cuda_fft.cc:607] Unable to register cuFFT factory: Attempting to register factory for plugin cuFFT when one has already been registered\n",
      "2024-09-08 08:50:10.548567: E external/local_xla/xla/stream_executor/cuda/cuda_blas.cc:1515] Unable to register cuBLAS factory: Attempting to register factory for plugin cuBLAS when one has already been registered\n"
     ]
    }
   ],
   "source": [
    "import os\n",
    "import torch\n",
    "import numpy as np\n",
    "import torch.nn as nn\n",
    "import pandas as pd\n",
    "import matplotlib.pyplot as plt\n",
    "from torch.utils.data import Dataset,DataLoader\n",
    "from datasets import load_dataset\n",
    "from sklearn.model_selection import train_test_split\n",
    "from sklearn.preprocessing import LabelEncoder\n",
    "from torch.utils.tensorboard import SummaryWriter"
   ]
  },
  {
   "cell_type": "markdown",
   "id": "a36da67e",
   "metadata": {
    "papermill": {
     "duration": 0.020967,
     "end_time": "2024-09-08T08:50:20.460541",
     "exception": false,
     "start_time": "2024-09-08T08:50:20.439574",
     "status": "completed"
    },
    "tags": []
   },
   "source": [
    "# importing the dataset"
   ]
  },
  {
   "cell_type": "code",
   "execution_count": 4,
   "id": "e4716f6e",
   "metadata": {
    "execution": {
     "iopub.execute_input": "2024-09-08T08:50:20.504658Z",
     "iopub.status.busy": "2024-09-08T08:50:20.503967Z",
     "iopub.status.idle": "2024-09-08T08:50:27.373922Z",
     "shell.execute_reply": "2024-09-08T08:50:27.373111Z"
    },
    "papermill": {
     "duration": 6.894534,
     "end_time": "2024-09-08T08:50:27.376391",
     "exception": false,
     "start_time": "2024-09-08T08:50:20.481857",
     "status": "completed"
    },
    "tags": []
   },
   "outputs": [],
   "source": [
    "#import dataset\n",
    "ds=pd.read_csv('/kaggle/input/amazon-product-reviews/Reviews.csv')"
   ]
  },
  {
   "cell_type": "code",
   "execution_count": 5,
   "id": "866c0bc5",
   "metadata": {
    "execution": {
     "iopub.execute_input": "2024-09-08T08:50:27.420379Z",
     "iopub.status.busy": "2024-09-08T08:50:27.420040Z",
     "iopub.status.idle": "2024-09-08T08:50:27.443012Z",
     "shell.execute_reply": "2024-09-08T08:50:27.442160Z"
    },
    "papermill": {
     "duration": 0.047175,
     "end_time": "2024-09-08T08:50:27.445019",
     "exception": false,
     "start_time": "2024-09-08T08:50:27.397844",
     "status": "completed"
    },
    "tags": []
   },
   "outputs": [
    {
     "data": {
      "text/html": [
       "<div>\n",
       "<style scoped>\n",
       "    .dataframe tbody tr th:only-of-type {\n",
       "        vertical-align: middle;\n",
       "    }\n",
       "\n",
       "    .dataframe tbody tr th {\n",
       "        vertical-align: top;\n",
       "    }\n",
       "\n",
       "    .dataframe thead th {\n",
       "        text-align: right;\n",
       "    }\n",
       "</style>\n",
       "<table border=\"1\" class=\"dataframe\">\n",
       "  <thead>\n",
       "    <tr style=\"text-align: right;\">\n",
       "      <th></th>\n",
       "      <th>Id</th>\n",
       "      <th>ProductId</th>\n",
       "      <th>UserId</th>\n",
       "      <th>ProfileName</th>\n",
       "      <th>HelpfulnessNumerator</th>\n",
       "      <th>HelpfulnessDenominator</th>\n",
       "      <th>Score</th>\n",
       "      <th>Time</th>\n",
       "      <th>Summary</th>\n",
       "      <th>Text</th>\n",
       "    </tr>\n",
       "  </thead>\n",
       "  <tbody>\n",
       "    <tr>\n",
       "      <th>0</th>\n",
       "      <td>1</td>\n",
       "      <td>B001E4KFG0</td>\n",
       "      <td>A3SGXH7AUHU8GW</td>\n",
       "      <td>delmartian</td>\n",
       "      <td>1</td>\n",
       "      <td>1</td>\n",
       "      <td>5</td>\n",
       "      <td>1303862400</td>\n",
       "      <td>Good Quality Dog Food</td>\n",
       "      <td>I have bought several of the Vitality canned d...</td>\n",
       "    </tr>\n",
       "    <tr>\n",
       "      <th>1</th>\n",
       "      <td>2</td>\n",
       "      <td>B00813GRG4</td>\n",
       "      <td>A1D87F6ZCVE5NK</td>\n",
       "      <td>dll pa</td>\n",
       "      <td>0</td>\n",
       "      <td>0</td>\n",
       "      <td>1</td>\n",
       "      <td>1346976000</td>\n",
       "      <td>Not as Advertised</td>\n",
       "      <td>Product arrived labeled as Jumbo Salted Peanut...</td>\n",
       "    </tr>\n",
       "    <tr>\n",
       "      <th>2</th>\n",
       "      <td>3</td>\n",
       "      <td>B000LQOCH0</td>\n",
       "      <td>ABXLMWJIXXAIN</td>\n",
       "      <td>Natalia Corres \"Natalia Corres\"</td>\n",
       "      <td>1</td>\n",
       "      <td>1</td>\n",
       "      <td>4</td>\n",
       "      <td>1219017600</td>\n",
       "      <td>\"Delight\" says it all</td>\n",
       "      <td>This is a confection that has been around a fe...</td>\n",
       "    </tr>\n",
       "    <tr>\n",
       "      <th>3</th>\n",
       "      <td>4</td>\n",
       "      <td>B000UA0QIQ</td>\n",
       "      <td>A395BORC6FGVXV</td>\n",
       "      <td>Karl</td>\n",
       "      <td>3</td>\n",
       "      <td>3</td>\n",
       "      <td>2</td>\n",
       "      <td>1307923200</td>\n",
       "      <td>Cough Medicine</td>\n",
       "      <td>If you are looking for the secret ingredient i...</td>\n",
       "    </tr>\n",
       "    <tr>\n",
       "      <th>4</th>\n",
       "      <td>5</td>\n",
       "      <td>B006K2ZZ7K</td>\n",
       "      <td>A1UQRSCLF8GW1T</td>\n",
       "      <td>Michael D. Bigham \"M. Wassir\"</td>\n",
       "      <td>0</td>\n",
       "      <td>0</td>\n",
       "      <td>5</td>\n",
       "      <td>1350777600</td>\n",
       "      <td>Great taffy</td>\n",
       "      <td>Great taffy at a great price.  There was a wid...</td>\n",
       "    </tr>\n",
       "  </tbody>\n",
       "</table>\n",
       "</div>"
      ],
      "text/plain": [
       "   Id   ProductId          UserId                      ProfileName  \\\n",
       "0   1  B001E4KFG0  A3SGXH7AUHU8GW                       delmartian   \n",
       "1   2  B00813GRG4  A1D87F6ZCVE5NK                           dll pa   \n",
       "2   3  B000LQOCH0   ABXLMWJIXXAIN  Natalia Corres \"Natalia Corres\"   \n",
       "3   4  B000UA0QIQ  A395BORC6FGVXV                             Karl   \n",
       "4   5  B006K2ZZ7K  A1UQRSCLF8GW1T    Michael D. Bigham \"M. Wassir\"   \n",
       "\n",
       "   HelpfulnessNumerator  HelpfulnessDenominator  Score        Time  \\\n",
       "0                     1                       1      5  1303862400   \n",
       "1                     0                       0      1  1346976000   \n",
       "2                     1                       1      4  1219017600   \n",
       "3                     3                       3      2  1307923200   \n",
       "4                     0                       0      5  1350777600   \n",
       "\n",
       "                 Summary                                               Text  \n",
       "0  Good Quality Dog Food  I have bought several of the Vitality canned d...  \n",
       "1      Not as Advertised  Product arrived labeled as Jumbo Salted Peanut...  \n",
       "2  \"Delight\" says it all  This is a confection that has been around a fe...  \n",
       "3         Cough Medicine  If you are looking for the secret ingredient i...  \n",
       "4            Great taffy  Great taffy at a great price.  There was a wid...  "
      ]
     },
     "execution_count": 5,
     "metadata": {},
     "output_type": "execute_result"
    }
   ],
   "source": [
    "ds.head()"
   ]
  },
  {
   "cell_type": "markdown",
   "id": "7f5dd8f0",
   "metadata": {
    "papermill": {
     "duration": 0.02111,
     "end_time": "2024-09-08T08:50:27.487302",
     "exception": false,
     "start_time": "2024-09-08T08:50:27.466192",
     "status": "completed"
    },
    "tags": []
   },
   "source": [
    "# EDA"
   ]
  },
  {
   "cell_type": "code",
   "execution_count": 6,
   "id": "3268a7d0",
   "metadata": {
    "execution": {
     "iopub.execute_input": "2024-09-08T08:50:27.531319Z",
     "iopub.status.busy": "2024-09-08T08:50:27.530785Z",
     "iopub.status.idle": "2024-09-08T08:50:27.835492Z",
     "shell.execute_reply": "2024-09-08T08:50:27.834576Z"
    },
    "papermill": {
     "duration": 0.329116,
     "end_time": "2024-09-08T08:50:27.837726",
     "exception": false,
     "start_time": "2024-09-08T08:50:27.508610",
     "status": "completed"
    },
    "tags": []
   },
   "outputs": [
    {
     "name": "stdout",
     "output_type": "stream",
     "text": [
      "<class 'pandas.core.frame.DataFrame'>\n",
      "RangeIndex: 568454 entries, 0 to 568453\n",
      "Data columns (total 10 columns):\n",
      " #   Column                  Non-Null Count   Dtype \n",
      "---  ------                  --------------   ----- \n",
      " 0   Id                      568454 non-null  int64 \n",
      " 1   ProductId               568454 non-null  object\n",
      " 2   UserId                  568454 non-null  object\n",
      " 3   ProfileName             568428 non-null  object\n",
      " 4   HelpfulnessNumerator    568454 non-null  int64 \n",
      " 5   HelpfulnessDenominator  568454 non-null  int64 \n",
      " 6   Score                   568454 non-null  int64 \n",
      " 7   Time                    568454 non-null  int64 \n",
      " 8   Summary                 568427 non-null  object\n",
      " 9   Text                    568454 non-null  object\n",
      "dtypes: int64(5), object(5)\n",
      "memory usage: 43.4+ MB\n"
     ]
    }
   ],
   "source": [
    "ds.info()"
   ]
  },
  {
   "cell_type": "code",
   "execution_count": 7,
   "id": "7fbfe992",
   "metadata": {
    "execution": {
     "iopub.execute_input": "2024-09-08T08:50:27.883134Z",
     "iopub.status.busy": "2024-09-08T08:50:27.882803Z",
     "iopub.status.idle": "2024-09-08T08:50:28.174906Z",
     "shell.execute_reply": "2024-09-08T08:50:28.173947Z"
    },
    "papermill": {
     "duration": 0.317422,
     "end_time": "2024-09-08T08:50:28.176812",
     "exception": false,
     "start_time": "2024-09-08T08:50:27.859390",
     "status": "completed"
    },
    "tags": []
   },
   "outputs": [
    {
     "data": {
      "text/plain": [
       "Id                         0\n",
       "ProductId                  0\n",
       "UserId                     0\n",
       "ProfileName               26\n",
       "HelpfulnessNumerator       0\n",
       "HelpfulnessDenominator     0\n",
       "Score                      0\n",
       "Time                       0\n",
       "Summary                   27\n",
       "Text                       0\n",
       "dtype: int64"
      ]
     },
     "execution_count": 7,
     "metadata": {},
     "output_type": "execute_result"
    }
   ],
   "source": [
    "ds.isnull().sum()"
   ]
  },
  {
   "cell_type": "code",
   "execution_count": 8,
   "id": "785bfe10",
   "metadata": {
    "execution": {
     "iopub.execute_input": "2024-09-08T08:50:28.221756Z",
     "iopub.status.busy": "2024-09-08T08:50:28.220955Z",
     "iopub.status.idle": "2024-09-08T08:50:28.564512Z",
     "shell.execute_reply": "2024-09-08T08:50:28.563483Z"
    },
    "papermill": {
     "duration": 0.3683,
     "end_time": "2024-09-08T08:50:28.566850",
     "exception": false,
     "start_time": "2024-09-08T08:50:28.198550",
     "status": "completed"
    },
    "tags": []
   },
   "outputs": [],
   "source": [
    "ds=ds.dropna(how='any')"
   ]
  },
  {
   "cell_type": "code",
   "execution_count": 9,
   "id": "dd6769c8",
   "metadata": {
    "execution": {
     "iopub.execute_input": "2024-09-08T08:50:28.653401Z",
     "iopub.status.busy": "2024-09-08T08:50:28.652670Z",
     "iopub.status.idle": "2024-09-08T08:50:28.666254Z",
     "shell.execute_reply": "2024-09-08T08:50:28.665266Z"
    },
    "papermill": {
     "duration": 0.038099,
     "end_time": "2024-09-08T08:50:28.668165",
     "exception": false,
     "start_time": "2024-09-08T08:50:28.630066",
     "status": "completed"
    },
    "tags": []
   },
   "outputs": [
    {
     "data": {
      "text/html": [
       "<div>\n",
       "<style scoped>\n",
       "    .dataframe tbody tr th:only-of-type {\n",
       "        vertical-align: middle;\n",
       "    }\n",
       "\n",
       "    .dataframe tbody tr th {\n",
       "        vertical-align: top;\n",
       "    }\n",
       "\n",
       "    .dataframe thead th {\n",
       "        text-align: right;\n",
       "    }\n",
       "</style>\n",
       "<table border=\"1\" class=\"dataframe\">\n",
       "  <thead>\n",
       "    <tr style=\"text-align: right;\">\n",
       "      <th></th>\n",
       "      <th>Id</th>\n",
       "      <th>ProductId</th>\n",
       "      <th>UserId</th>\n",
       "      <th>ProfileName</th>\n",
       "      <th>HelpfulnessNumerator</th>\n",
       "      <th>HelpfulnessDenominator</th>\n",
       "      <th>Score</th>\n",
       "      <th>Time</th>\n",
       "      <th>Summary</th>\n",
       "      <th>Text</th>\n",
       "    </tr>\n",
       "  </thead>\n",
       "  <tbody>\n",
       "    <tr>\n",
       "      <th>0</th>\n",
       "      <td>1</td>\n",
       "      <td>B001E4KFG0</td>\n",
       "      <td>A3SGXH7AUHU8GW</td>\n",
       "      <td>delmartian</td>\n",
       "      <td>1</td>\n",
       "      <td>1</td>\n",
       "      <td>5</td>\n",
       "      <td>1303862400</td>\n",
       "      <td>Good Quality Dog Food</td>\n",
       "      <td>I have bought several of the Vitality canned d...</td>\n",
       "    </tr>\n",
       "    <tr>\n",
       "      <th>1</th>\n",
       "      <td>2</td>\n",
       "      <td>B00813GRG4</td>\n",
       "      <td>A1D87F6ZCVE5NK</td>\n",
       "      <td>dll pa</td>\n",
       "      <td>0</td>\n",
       "      <td>0</td>\n",
       "      <td>1</td>\n",
       "      <td>1346976000</td>\n",
       "      <td>Not as Advertised</td>\n",
       "      <td>Product arrived labeled as Jumbo Salted Peanut...</td>\n",
       "    </tr>\n",
       "    <tr>\n",
       "      <th>2</th>\n",
       "      <td>3</td>\n",
       "      <td>B000LQOCH0</td>\n",
       "      <td>ABXLMWJIXXAIN</td>\n",
       "      <td>Natalia Corres \"Natalia Corres\"</td>\n",
       "      <td>1</td>\n",
       "      <td>1</td>\n",
       "      <td>4</td>\n",
       "      <td>1219017600</td>\n",
       "      <td>\"Delight\" says it all</td>\n",
       "      <td>This is a confection that has been around a fe...</td>\n",
       "    </tr>\n",
       "    <tr>\n",
       "      <th>3</th>\n",
       "      <td>4</td>\n",
       "      <td>B000UA0QIQ</td>\n",
       "      <td>A395BORC6FGVXV</td>\n",
       "      <td>Karl</td>\n",
       "      <td>3</td>\n",
       "      <td>3</td>\n",
       "      <td>2</td>\n",
       "      <td>1307923200</td>\n",
       "      <td>Cough Medicine</td>\n",
       "      <td>If you are looking for the secret ingredient i...</td>\n",
       "    </tr>\n",
       "    <tr>\n",
       "      <th>4</th>\n",
       "      <td>5</td>\n",
       "      <td>B006K2ZZ7K</td>\n",
       "      <td>A1UQRSCLF8GW1T</td>\n",
       "      <td>Michael D. Bigham \"M. Wassir\"</td>\n",
       "      <td>0</td>\n",
       "      <td>0</td>\n",
       "      <td>5</td>\n",
       "      <td>1350777600</td>\n",
       "      <td>Great taffy</td>\n",
       "      <td>Great taffy at a great price.  There was a wid...</td>\n",
       "    </tr>\n",
       "  </tbody>\n",
       "</table>\n",
       "</div>"
      ],
      "text/plain": [
       "   Id   ProductId          UserId                      ProfileName  \\\n",
       "0   1  B001E4KFG0  A3SGXH7AUHU8GW                       delmartian   \n",
       "1   2  B00813GRG4  A1D87F6ZCVE5NK                           dll pa   \n",
       "2   3  B000LQOCH0   ABXLMWJIXXAIN  Natalia Corres \"Natalia Corres\"   \n",
       "3   4  B000UA0QIQ  A395BORC6FGVXV                             Karl   \n",
       "4   5  B006K2ZZ7K  A1UQRSCLF8GW1T    Michael D. Bigham \"M. Wassir\"   \n",
       "\n",
       "   HelpfulnessNumerator  HelpfulnessDenominator  Score        Time  \\\n",
       "0                     1                       1      5  1303862400   \n",
       "1                     0                       0      1  1346976000   \n",
       "2                     1                       1      4  1219017600   \n",
       "3                     3                       3      2  1307923200   \n",
       "4                     0                       0      5  1350777600   \n",
       "\n",
       "                 Summary                                               Text  \n",
       "0  Good Quality Dog Food  I have bought several of the Vitality canned d...  \n",
       "1      Not as Advertised  Product arrived labeled as Jumbo Salted Peanut...  \n",
       "2  \"Delight\" says it all  This is a confection that has been around a fe...  \n",
       "3         Cough Medicine  If you are looking for the secret ingredient i...  \n",
       "4            Great taffy  Great taffy at a great price.  There was a wid...  "
      ]
     },
     "execution_count": 9,
     "metadata": {},
     "output_type": "execute_result"
    }
   ],
   "source": [
    "ds.head()"
   ]
  },
  {
   "cell_type": "code",
   "execution_count": 10,
   "id": "118abe31",
   "metadata": {
    "execution": {
     "iopub.execute_input": "2024-09-08T08:50:28.713340Z",
     "iopub.status.busy": "2024-09-08T08:50:28.713029Z",
     "iopub.status.idle": "2024-09-08T08:50:28.716723Z",
     "shell.execute_reply": "2024-09-08T08:50:28.715977Z"
    },
    "papermill": {
     "duration": 0.028168,
     "end_time": "2024-09-08T08:50:28.718488",
     "exception": false,
     "start_time": "2024-09-08T08:50:28.690320",
     "status": "completed"
    },
    "tags": []
   },
   "outputs": [],
   "source": [
    "#ds[ds['UserId']]"
   ]
  },
  {
   "cell_type": "code",
   "execution_count": 11,
   "id": "5f9f1c36",
   "metadata": {
    "execution": {
     "iopub.execute_input": "2024-09-08T08:50:28.763410Z",
     "iopub.status.busy": "2024-09-08T08:50:28.762911Z",
     "iopub.status.idle": "2024-09-08T08:50:28.781882Z",
     "shell.execute_reply": "2024-09-08T08:50:28.780867Z"
    },
    "papermill": {
     "duration": 0.044085,
     "end_time": "2024-09-08T08:50:28.784200",
     "exception": false,
     "start_time": "2024-09-08T08:50:28.740115",
     "status": "completed"
    },
    "tags": []
   },
   "outputs": [],
   "source": [
    "ds.drop(['ProfileName','HelpfulnessNumerator','HelpfulnessDenominator','Summary','Text'],axis=1,inplace=True)"
   ]
  },
  {
   "cell_type": "code",
   "execution_count": 12,
   "id": "1215953e",
   "metadata": {
    "execution": {
     "iopub.execute_input": "2024-09-08T08:50:28.829349Z",
     "iopub.status.busy": "2024-09-08T08:50:28.829023Z",
     "iopub.status.idle": "2024-09-08T08:50:28.851706Z",
     "shell.execute_reply": "2024-09-08T08:50:28.850587Z"
    },
    "papermill": {
     "duration": 0.047373,
     "end_time": "2024-09-08T08:50:28.853608",
     "exception": false,
     "start_time": "2024-09-08T08:50:28.806235",
     "status": "completed"
    },
    "tags": []
   },
   "outputs": [
    {
     "data": {
      "text/plain": [
       "Time\n",
       "1350345600    1143\n",
       "1322179200    1088\n",
       "1322438400    1070\n",
       "1346889600    1018\n",
       "1344211200     989\n",
       "              ... \n",
       "1087084800       1\n",
       "1088985600       1\n",
       "1089763200       1\n",
       "1098057600       1\n",
       "1080432000       1\n",
       "Name: count, Length: 3168, dtype: int64"
      ]
     },
     "execution_count": 12,
     "metadata": {},
     "output_type": "execute_result"
    }
   ],
   "source": [
    "ds['Time'].value_counts()"
   ]
  },
  {
   "cell_type": "code",
   "execution_count": 13,
   "id": "c3c15e1a",
   "metadata": {
    "execution": {
     "iopub.execute_input": "2024-09-08T08:50:28.899029Z",
     "iopub.status.busy": "2024-09-08T08:50:28.898353Z",
     "iopub.status.idle": "2024-09-08T08:50:29.011007Z",
     "shell.execute_reply": "2024-09-08T08:50:29.009954Z"
    },
    "papermill": {
     "duration": 0.137502,
     "end_time": "2024-09-08T08:50:29.013055",
     "exception": false,
     "start_time": "2024-09-08T08:50:28.875553",
     "status": "completed"
    },
    "tags": []
   },
   "outputs": [
    {
     "name": "stdout",
     "output_type": "stream",
     "text": [
      "<class 'pandas.core.frame.DataFrame'>\n",
      "Index: 568401 entries, 0 to 568453\n",
      "Data columns (total 5 columns):\n",
      " #   Column     Non-Null Count   Dtype \n",
      "---  ------     --------------   ----- \n",
      " 0   Id         568401 non-null  int64 \n",
      " 1   ProductId  568401 non-null  object\n",
      " 2   UserId     568401 non-null  object\n",
      " 3   Score      568401 non-null  int64 \n",
      " 4   Time       568401 non-null  int64 \n",
      "dtypes: int64(3), object(2)\n",
      "memory usage: 26.0+ MB\n"
     ]
    }
   ],
   "source": [
    "ds.info()"
   ]
  },
  {
   "cell_type": "markdown",
   "id": "9c0b33e2",
   "metadata": {
    "papermill": {
     "duration": 0.023226,
     "end_time": "2024-09-08T08:50:29.060572",
     "exception": false,
     "start_time": "2024-09-08T08:50:29.037346",
     "status": "completed"
    },
    "tags": []
   },
   "source": [
    "# Encoding the features"
   ]
  },
  {
   "cell_type": "code",
   "execution_count": 14,
   "id": "8b35a717",
   "metadata": {
    "execution": {
     "iopub.execute_input": "2024-09-08T08:50:29.106102Z",
     "iopub.status.busy": "2024-09-08T08:50:29.105801Z",
     "iopub.status.idle": "2024-09-08T08:50:30.340372Z",
     "shell.execute_reply": "2024-09-08T08:50:30.339248Z"
    },
    "papermill": {
     "duration": 1.260481,
     "end_time": "2024-09-08T08:50:30.342993",
     "exception": false,
     "start_time": "2024-09-08T08:50:29.082512",
     "status": "completed"
    },
    "tags": []
   },
   "outputs": [],
   "source": [
    "object_encoders={}\n",
    "columns=['ProductId','UserId']\n",
    "for col in columns:\n",
    "    le=LabelEncoder()\n",
    "    ds[col]=le.fit_transform(ds[col])\n",
    "    #storing the feature values and its encoded values\n",
    "    object_encoders[col]=le"
   ]
  },
  {
   "cell_type": "markdown",
   "id": "bf40fa33",
   "metadata": {
    "papermill": {
     "duration": 0.024775,
     "end_time": "2024-09-08T08:50:30.393342",
     "exception": false,
     "start_time": "2024-09-08T08:50:30.368567",
     "status": "completed"
    },
    "tags": []
   },
   "source": [
    "# lets make more features:\n",
    "    * day of the week\n",
    "    * month\n",
    "    * time of the day(Hour)"
   ]
  },
  {
   "cell_type": "code",
   "execution_count": 15,
   "id": "0ebdb00b",
   "metadata": {
    "execution": {
     "iopub.execute_input": "2024-09-08T08:50:30.441843Z",
     "iopub.status.busy": "2024-09-08T08:50:30.441469Z",
     "iopub.status.idle": "2024-09-08T08:50:30.543536Z",
     "shell.execute_reply": "2024-09-08T08:50:30.542780Z"
    },
    "papermill": {
     "duration": 0.128807,
     "end_time": "2024-09-08T08:50:30.545828",
     "exception": false,
     "start_time": "2024-09-08T08:50:30.417021",
     "status": "completed"
    },
    "tags": []
   },
   "outputs": [],
   "source": [
    "#change the time stamp into datatime\n",
    "ds['Time']=pd.to_datetime(ds['Time'],unit='s',utc=True)\n",
    "ds['Time']=ds['Time'].dt.tz_convert('America/New_York')"
   ]
  },
  {
   "cell_type": "code",
   "execution_count": 16,
   "id": "aadbd6f7",
   "metadata": {
    "execution": {
     "iopub.execute_input": "2024-09-08T08:50:30.591698Z",
     "iopub.status.busy": "2024-09-08T08:50:30.591385Z",
     "iopub.status.idle": "2024-09-08T08:50:30.608413Z",
     "shell.execute_reply": "2024-09-08T08:50:30.607454Z"
    },
    "papermill": {
     "duration": 0.042108,
     "end_time": "2024-09-08T08:50:30.610410",
     "exception": false,
     "start_time": "2024-09-08T08:50:30.568302",
     "status": "completed"
    },
    "tags": []
   },
   "outputs": [
    {
     "data": {
      "text/html": [
       "<div>\n",
       "<style scoped>\n",
       "    .dataframe tbody tr th:only-of-type {\n",
       "        vertical-align: middle;\n",
       "    }\n",
       "\n",
       "    .dataframe tbody tr th {\n",
       "        vertical-align: top;\n",
       "    }\n",
       "\n",
       "    .dataframe thead th {\n",
       "        text-align: right;\n",
       "    }\n",
       "</style>\n",
       "<table border=\"1\" class=\"dataframe\">\n",
       "  <thead>\n",
       "    <tr style=\"text-align: right;\">\n",
       "      <th></th>\n",
       "      <th>Id</th>\n",
       "      <th>ProductId</th>\n",
       "      <th>UserId</th>\n",
       "      <th>Score</th>\n",
       "      <th>Time</th>\n",
       "    </tr>\n",
       "  </thead>\n",
       "  <tbody>\n",
       "    <tr>\n",
       "      <th>0</th>\n",
       "      <td>1</td>\n",
       "      <td>27619</td>\n",
       "      <td>188633</td>\n",
       "      <td>5</td>\n",
       "      <td>2011-04-26 20:00:00-04:00</td>\n",
       "    </tr>\n",
       "    <tr>\n",
       "      <th>1</th>\n",
       "      <td>2</td>\n",
       "      <td>72383</td>\n",
       "      <td>25104</td>\n",
       "      <td>1</td>\n",
       "      <td>2012-09-06 20:00:00-04:00</td>\n",
       "    </tr>\n",
       "    <tr>\n",
       "      <th>2</th>\n",
       "      <td>3</td>\n",
       "      <td>15267</td>\n",
       "      <td>210468</td>\n",
       "      <td>4</td>\n",
       "      <td>2008-08-17 20:00:00-04:00</td>\n",
       "    </tr>\n",
       "    <tr>\n",
       "      <th>3</th>\n",
       "      <td>4</td>\n",
       "      <td>19718</td>\n",
       "      <td>152622</td>\n",
       "      <td>2</td>\n",
       "      <td>2011-06-12 20:00:00-04:00</td>\n",
       "    </tr>\n",
       "    <tr>\n",
       "      <th>4</th>\n",
       "      <td>5</td>\n",
       "      <td>69007</td>\n",
       "      <td>57800</td>\n",
       "      <td>5</td>\n",
       "      <td>2012-10-20 20:00:00-04:00</td>\n",
       "    </tr>\n",
       "  </tbody>\n",
       "</table>\n",
       "</div>"
      ],
      "text/plain": [
       "   Id  ProductId  UserId  Score                      Time\n",
       "0   1      27619  188633      5 2011-04-26 20:00:00-04:00\n",
       "1   2      72383   25104      1 2012-09-06 20:00:00-04:00\n",
       "2   3      15267  210468      4 2008-08-17 20:00:00-04:00\n",
       "3   4      19718  152622      2 2011-06-12 20:00:00-04:00\n",
       "4   5      69007   57800      5 2012-10-20 20:00:00-04:00"
      ]
     },
     "execution_count": 16,
     "metadata": {},
     "output_type": "execute_result"
    }
   ],
   "source": [
    "ds.head()"
   ]
  },
  {
   "cell_type": "code",
   "execution_count": 17,
   "id": "e073b5d2",
   "metadata": {
    "execution": {
     "iopub.execute_input": "2024-09-08T08:50:30.656154Z",
     "iopub.status.busy": "2024-09-08T08:50:30.655883Z",
     "iopub.status.idle": "2024-09-08T08:50:30.665649Z",
     "shell.execute_reply": "2024-09-08T08:50:30.664818Z"
    },
    "papermill": {
     "duration": 0.034912,
     "end_time": "2024-09-08T08:50:30.667661",
     "exception": false,
     "start_time": "2024-09-08T08:50:30.632749",
     "status": "completed"
    },
    "tags": []
   },
   "outputs": [
    {
     "data": {
      "text/html": [
       "<div>\n",
       "<style scoped>\n",
       "    .dataframe tbody tr th:only-of-type {\n",
       "        vertical-align: middle;\n",
       "    }\n",
       "\n",
       "    .dataframe tbody tr th {\n",
       "        vertical-align: top;\n",
       "    }\n",
       "\n",
       "    .dataframe thead th {\n",
       "        text-align: right;\n",
       "    }\n",
       "</style>\n",
       "<table border=\"1\" class=\"dataframe\">\n",
       "  <thead>\n",
       "    <tr style=\"text-align: right;\">\n",
       "      <th></th>\n",
       "      <th>Id</th>\n",
       "      <th>ProductId</th>\n",
       "      <th>UserId</th>\n",
       "      <th>Score</th>\n",
       "      <th>Time</th>\n",
       "    </tr>\n",
       "  </thead>\n",
       "  <tbody>\n",
       "    <tr>\n",
       "      <th>0</th>\n",
       "      <td>1</td>\n",
       "      <td>27619</td>\n",
       "      <td>188633</td>\n",
       "      <td>5</td>\n",
       "      <td>2011-04-26 20:00:00-04:00</td>\n",
       "    </tr>\n",
       "    <tr>\n",
       "      <th>1</th>\n",
       "      <td>2</td>\n",
       "      <td>72383</td>\n",
       "      <td>25104</td>\n",
       "      <td>1</td>\n",
       "      <td>2012-09-06 20:00:00-04:00</td>\n",
       "    </tr>\n",
       "    <tr>\n",
       "      <th>2</th>\n",
       "      <td>3</td>\n",
       "      <td>15267</td>\n",
       "      <td>210468</td>\n",
       "      <td>4</td>\n",
       "      <td>2008-08-17 20:00:00-04:00</td>\n",
       "    </tr>\n",
       "    <tr>\n",
       "      <th>3</th>\n",
       "      <td>4</td>\n",
       "      <td>19718</td>\n",
       "      <td>152622</td>\n",
       "      <td>2</td>\n",
       "      <td>2011-06-12 20:00:00-04:00</td>\n",
       "    </tr>\n",
       "    <tr>\n",
       "      <th>4</th>\n",
       "      <td>5</td>\n",
       "      <td>69007</td>\n",
       "      <td>57800</td>\n",
       "      <td>5</td>\n",
       "      <td>2012-10-20 20:00:00-04:00</td>\n",
       "    </tr>\n",
       "  </tbody>\n",
       "</table>\n",
       "</div>"
      ],
      "text/plain": [
       "   Id  ProductId  UserId  Score                      Time\n",
       "0   1      27619  188633      5 2011-04-26 20:00:00-04:00\n",
       "1   2      72383   25104      1 2012-09-06 20:00:00-04:00\n",
       "2   3      15267  210468      4 2008-08-17 20:00:00-04:00\n",
       "3   4      19718  152622      2 2011-06-12 20:00:00-04:00\n",
       "4   5      69007   57800      5 2012-10-20 20:00:00-04:00"
      ]
     },
     "execution_count": 17,
     "metadata": {},
     "output_type": "execute_result"
    }
   ],
   "source": [
    "ds.head()"
   ]
  },
  {
   "cell_type": "code",
   "execution_count": 18,
   "id": "0077e352",
   "metadata": {
    "execution": {
     "iopub.execute_input": "2024-09-08T08:50:30.714804Z",
     "iopub.status.busy": "2024-09-08T08:50:30.714021Z",
     "iopub.status.idle": "2024-09-08T08:50:31.227231Z",
     "shell.execute_reply": "2024-09-08T08:50:31.226212Z"
    },
    "papermill": {
     "duration": 0.539512,
     "end_time": "2024-09-08T08:50:31.229661",
     "exception": false,
     "start_time": "2024-09-08T08:50:30.690149",
     "status": "completed"
    },
    "tags": []
   },
   "outputs": [],
   "source": [
    "#year\n",
    "ds['year']=ds['Time'].dt.year\n",
    "#month\n",
    "ds['month']=ds['Time'].dt.month\n",
    "#week\n",
    "ds['day_of_week']=ds['Time'].dt.dayofweek\n",
    "#hour\n",
    "ds['hour']=ds['Time'].dt.time"
   ]
  },
  {
   "cell_type": "code",
   "execution_count": 19,
   "id": "c4f9ec52",
   "metadata": {
    "execution": {
     "iopub.execute_input": "2024-09-08T08:50:31.276376Z",
     "iopub.status.busy": "2024-09-08T08:50:31.276052Z",
     "iopub.status.idle": "2024-09-08T08:50:31.288262Z",
     "shell.execute_reply": "2024-09-08T08:50:31.287369Z"
    },
    "papermill": {
     "duration": 0.037534,
     "end_time": "2024-09-08T08:50:31.290151",
     "exception": false,
     "start_time": "2024-09-08T08:50:31.252617",
     "status": "completed"
    },
    "tags": []
   },
   "outputs": [
    {
     "data": {
      "text/html": [
       "<div>\n",
       "<style scoped>\n",
       "    .dataframe tbody tr th:only-of-type {\n",
       "        vertical-align: middle;\n",
       "    }\n",
       "\n",
       "    .dataframe tbody tr th {\n",
       "        vertical-align: top;\n",
       "    }\n",
       "\n",
       "    .dataframe thead th {\n",
       "        text-align: right;\n",
       "    }\n",
       "</style>\n",
       "<table border=\"1\" class=\"dataframe\">\n",
       "  <thead>\n",
       "    <tr style=\"text-align: right;\">\n",
       "      <th></th>\n",
       "      <th>Id</th>\n",
       "      <th>ProductId</th>\n",
       "      <th>UserId</th>\n",
       "      <th>Score</th>\n",
       "      <th>Time</th>\n",
       "      <th>year</th>\n",
       "      <th>month</th>\n",
       "      <th>day_of_week</th>\n",
       "      <th>hour</th>\n",
       "    </tr>\n",
       "  </thead>\n",
       "  <tbody>\n",
       "    <tr>\n",
       "      <th>0</th>\n",
       "      <td>1</td>\n",
       "      <td>27619</td>\n",
       "      <td>188633</td>\n",
       "      <td>5</td>\n",
       "      <td>2011-04-26 20:00:00-04:00</td>\n",
       "      <td>2011</td>\n",
       "      <td>4</td>\n",
       "      <td>1</td>\n",
       "      <td>20:00:00</td>\n",
       "    </tr>\n",
       "    <tr>\n",
       "      <th>1</th>\n",
       "      <td>2</td>\n",
       "      <td>72383</td>\n",
       "      <td>25104</td>\n",
       "      <td>1</td>\n",
       "      <td>2012-09-06 20:00:00-04:00</td>\n",
       "      <td>2012</td>\n",
       "      <td>9</td>\n",
       "      <td>3</td>\n",
       "      <td>20:00:00</td>\n",
       "    </tr>\n",
       "    <tr>\n",
       "      <th>2</th>\n",
       "      <td>3</td>\n",
       "      <td>15267</td>\n",
       "      <td>210468</td>\n",
       "      <td>4</td>\n",
       "      <td>2008-08-17 20:00:00-04:00</td>\n",
       "      <td>2008</td>\n",
       "      <td>8</td>\n",
       "      <td>6</td>\n",
       "      <td>20:00:00</td>\n",
       "    </tr>\n",
       "    <tr>\n",
       "      <th>3</th>\n",
       "      <td>4</td>\n",
       "      <td>19718</td>\n",
       "      <td>152622</td>\n",
       "      <td>2</td>\n",
       "      <td>2011-06-12 20:00:00-04:00</td>\n",
       "      <td>2011</td>\n",
       "      <td>6</td>\n",
       "      <td>6</td>\n",
       "      <td>20:00:00</td>\n",
       "    </tr>\n",
       "    <tr>\n",
       "      <th>4</th>\n",
       "      <td>5</td>\n",
       "      <td>69007</td>\n",
       "      <td>57800</td>\n",
       "      <td>5</td>\n",
       "      <td>2012-10-20 20:00:00-04:00</td>\n",
       "      <td>2012</td>\n",
       "      <td>10</td>\n",
       "      <td>5</td>\n",
       "      <td>20:00:00</td>\n",
       "    </tr>\n",
       "  </tbody>\n",
       "</table>\n",
       "</div>"
      ],
      "text/plain": [
       "   Id  ProductId  UserId  Score                      Time  year  month  \\\n",
       "0   1      27619  188633      5 2011-04-26 20:00:00-04:00  2011      4   \n",
       "1   2      72383   25104      1 2012-09-06 20:00:00-04:00  2012      9   \n",
       "2   3      15267  210468      4 2008-08-17 20:00:00-04:00  2008      8   \n",
       "3   4      19718  152622      2 2011-06-12 20:00:00-04:00  2011      6   \n",
       "4   5      69007   57800      5 2012-10-20 20:00:00-04:00  2012     10   \n",
       "\n",
       "   day_of_week      hour  \n",
       "0            1  20:00:00  \n",
       "1            3  20:00:00  \n",
       "2            6  20:00:00  \n",
       "3            6  20:00:00  \n",
       "4            5  20:00:00  "
      ]
     },
     "execution_count": 19,
     "metadata": {},
     "output_type": "execute_result"
    }
   ],
   "source": [
    "ds.head()"
   ]
  },
  {
   "cell_type": "code",
   "execution_count": 20,
   "id": "23927069",
   "metadata": {
    "execution": {
     "iopub.execute_input": "2024-09-08T08:50:31.336501Z",
     "iopub.status.busy": "2024-09-08T08:50:31.336161Z",
     "iopub.status.idle": "2024-09-08T08:50:31.398260Z",
     "shell.execute_reply": "2024-09-08T08:50:31.397330Z"
    },
    "papermill": {
     "duration": 0.087452,
     "end_time": "2024-09-08T08:50:31.400255",
     "exception": false,
     "start_time": "2024-09-08T08:50:31.312803",
     "status": "completed"
    },
    "tags": []
   },
   "outputs": [
    {
     "data": {
      "text/plain": [
       "Id             0\n",
       "ProductId      0\n",
       "UserId         0\n",
       "Score          0\n",
       "Time           0\n",
       "year           0\n",
       "month          0\n",
       "day_of_week    0\n",
       "hour           0\n",
       "dtype: int64"
      ]
     },
     "execution_count": 20,
     "metadata": {},
     "output_type": "execute_result"
    }
   ],
   "source": [
    "ds.isnull().sum()"
   ]
  },
  {
   "cell_type": "code",
   "execution_count": 21,
   "id": "c1a6c70f",
   "metadata": {
    "execution": {
     "iopub.execute_input": "2024-09-08T08:50:31.447871Z",
     "iopub.status.busy": "2024-09-08T08:50:31.447125Z",
     "iopub.status.idle": "2024-09-08T08:50:31.468727Z",
     "shell.execute_reply": "2024-09-08T08:50:31.467840Z"
    },
    "papermill": {
     "duration": 0.047361,
     "end_time": "2024-09-08T08:50:31.470705",
     "exception": false,
     "start_time": "2024-09-08T08:50:31.423344",
     "status": "completed"
    },
    "tags": []
   },
   "outputs": [],
   "source": [
    "#droping the time column\n",
    "clean_data=ds.drop(['Time'],axis=1)"
   ]
  },
  {
   "cell_type": "code",
   "execution_count": 22,
   "id": "fd1ff62e",
   "metadata": {
    "execution": {
     "iopub.execute_input": "2024-09-08T08:50:31.517470Z",
     "iopub.status.busy": "2024-09-08T08:50:31.516953Z",
     "iopub.status.idle": "2024-09-08T08:50:31.545134Z",
     "shell.execute_reply": "2024-09-08T08:50:31.544154Z"
    },
    "papermill": {
     "duration": 0.054026,
     "end_time": "2024-09-08T08:50:31.547569",
     "exception": false,
     "start_time": "2024-09-08T08:50:31.493543",
     "status": "completed"
    },
    "tags": []
   },
   "outputs": [],
   "source": [
    "#dropign the ID\n",
    "clean_data.drop(['Id'],axis=1,inplace=True)"
   ]
  },
  {
   "cell_type": "code",
   "execution_count": 23,
   "id": "2dbc493f",
   "metadata": {
    "execution": {
     "iopub.execute_input": "2024-09-08T08:50:31.595022Z",
     "iopub.status.busy": "2024-09-08T08:50:31.594688Z",
     "iopub.status.idle": "2024-09-08T08:50:31.658304Z",
     "shell.execute_reply": "2024-09-08T08:50:31.657214Z"
    },
    "papermill": {
     "duration": 0.089448,
     "end_time": "2024-09-08T08:50:31.660358",
     "exception": false,
     "start_time": "2024-09-08T08:50:31.570910",
     "status": "completed"
    },
    "tags": []
   },
   "outputs": [
    {
     "name": "stdout",
     "output_type": "stream",
     "text": [
      "<class 'pandas.core.frame.DataFrame'>\n",
      "Index: 568401 entries, 0 to 568453\n",
      "Data columns (total 7 columns):\n",
      " #   Column       Non-Null Count   Dtype \n",
      "---  ------       --------------   ----- \n",
      " 0   ProductId    568401 non-null  int64 \n",
      " 1   UserId       568401 non-null  int64 \n",
      " 2   Score        568401 non-null  int64 \n",
      " 3   year         568401 non-null  int32 \n",
      " 4   month        568401 non-null  int32 \n",
      " 5   day_of_week  568401 non-null  int32 \n",
      " 6   hour         568401 non-null  object\n",
      "dtypes: int32(3), int64(3), object(1)\n",
      "memory usage: 28.2+ MB\n"
     ]
    }
   ],
   "source": [
    "clean_data.info()"
   ]
  },
  {
   "cell_type": "code",
   "execution_count": 24,
   "id": "6493183a",
   "metadata": {
    "execution": {
     "iopub.execute_input": "2024-09-08T08:50:31.707409Z",
     "iopub.status.busy": "2024-09-08T08:50:31.707098Z",
     "iopub.status.idle": "2024-09-08T08:50:32.082082Z",
     "shell.execute_reply": "2024-09-08T08:50:32.081262Z"
    },
    "papermill": {
     "duration": 0.400956,
     "end_time": "2024-09-08T08:50:32.084411",
     "exception": false,
     "start_time": "2024-09-08T08:50:31.683455",
     "status": "completed"
    },
    "tags": []
   },
   "outputs": [],
   "source": [
    "#convert the hour feature into int\n",
    "clean_data['hour']=clean_data['hour'].apply(lambda x:x.hour )"
   ]
  },
  {
   "cell_type": "markdown",
   "id": "e961a17c",
   "metadata": {
    "papermill": {
     "duration": 0.023178,
     "end_time": "2024-09-08T08:50:32.131017",
     "exception": false,
     "start_time": "2024-09-08T08:50:32.107839",
     "status": "completed"
    },
    "tags": []
   },
   "source": [
    "# lets add another feature:\n",
    "        * Name of the feature is: recomended\n",
    "        * the feature if gonna be boolean\n",
    "        * we are gonna assign it True if its equal or greater than 3 : False other wise"
   ]
  },
  {
   "cell_type": "code",
   "execution_count": 25,
   "id": "f0c2d697",
   "metadata": {
    "execution": {
     "iopub.execute_input": "2024-09-08T08:50:32.178164Z",
     "iopub.status.busy": "2024-09-08T08:50:32.177818Z",
     "iopub.status.idle": "2024-09-08T08:50:32.183176Z",
     "shell.execute_reply": "2024-09-08T08:50:32.182452Z"
    },
    "papermill": {
     "duration": 0.031088,
     "end_time": "2024-09-08T08:50:32.185121",
     "exception": false,
     "start_time": "2024-09-08T08:50:32.154033",
     "status": "completed"
    },
    "tags": []
   },
   "outputs": [],
   "source": [
    "clean_data['Recomended']=clean_data['Score']>=3"
   ]
  },
  {
   "cell_type": "code",
   "execution_count": 26,
   "id": "770cce79",
   "metadata": {
    "execution": {
     "iopub.execute_input": "2024-09-08T08:50:32.231834Z",
     "iopub.status.busy": "2024-09-08T08:50:32.231539Z",
     "iopub.status.idle": "2024-09-08T08:50:32.237227Z",
     "shell.execute_reply": "2024-09-08T08:50:32.236429Z"
    },
    "papermill": {
     "duration": 0.031129,
     "end_time": "2024-09-08T08:50:32.239068",
     "exception": false,
     "start_time": "2024-09-08T08:50:32.207939",
     "status": "completed"
    },
    "tags": []
   },
   "outputs": [
    {
     "data": {
      "text/plain": [
       "Index(['ProductId', 'UserId', 'Score', 'year', 'month', 'day_of_week', 'hour',\n",
       "       'Recomended'],\n",
       "      dtype='object')"
      ]
     },
     "execution_count": 26,
     "metadata": {},
     "output_type": "execute_result"
    }
   ],
   "source": [
    "clean_data.columns"
   ]
  },
  {
   "cell_type": "markdown",
   "id": "40dd4310",
   "metadata": {
    "papermill": {
     "duration": 0.022788,
     "end_time": "2024-09-08T08:50:32.284720",
     "exception": false,
     "start_time": "2024-09-08T08:50:32.261932",
     "status": "completed"
    },
    "tags": []
   },
   "source": [
    "## droping the 'Rate'---> Score"
   ]
  },
  {
   "cell_type": "code",
   "execution_count": 27,
   "id": "b8bd7e2b",
   "metadata": {
    "execution": {
     "iopub.execute_input": "2024-09-08T08:50:32.332022Z",
     "iopub.status.busy": "2024-09-08T08:50:32.331669Z",
     "iopub.status.idle": "2024-09-08T08:50:32.346810Z",
     "shell.execute_reply": "2024-09-08T08:50:32.346110Z"
    },
    "papermill": {
     "duration": 0.041083,
     "end_time": "2024-09-08T08:50:32.348767",
     "exception": false,
     "start_time": "2024-09-08T08:50:32.307684",
     "status": "completed"
    },
    "tags": []
   },
   "outputs": [],
   "source": [
    "clean_data.drop(['Score'],axis=1,inplace=True)"
   ]
  },
  {
   "cell_type": "markdown",
   "id": "50806442",
   "metadata": {
    "papermill": {
     "duration": 0.022697,
     "end_time": "2024-09-08T08:50:32.394359",
     "exception": false,
     "start_time": "2024-09-08T08:50:32.371662",
     "status": "completed"
    },
    "tags": []
   },
   "source": [
    "# mapping features"
   ]
  },
  {
   "cell_type": "code",
   "execution_count": 28,
   "id": "973d16ee",
   "metadata": {
    "execution": {
     "iopub.execute_input": "2024-09-08T08:50:32.444095Z",
     "iopub.status.busy": "2024-09-08T08:50:32.443780Z",
     "iopub.status.idle": "2024-09-08T08:50:32.453771Z",
     "shell.execute_reply": "2024-09-08T08:50:32.452956Z"
    },
    "papermill": {
     "duration": 0.037017,
     "end_time": "2024-09-08T08:50:32.455626",
     "exception": false,
     "start_time": "2024-09-08T08:50:32.418609",
     "status": "completed"
    },
    "tags": []
   },
   "outputs": [
    {
     "data": {
      "text/plain": [
       "year\n",
       "2012    198050\n",
       "2011    163536\n",
       "2010     86088\n",
       "2009     55403\n",
       "2008     34144\n",
       "2007     22333\n",
       "2006      6686\n",
       "2005      1344\n",
       "2004       560\n",
       "2003       133\n",
       "2002        73\n",
       "2000        32\n",
       "2001        13\n",
       "1999         6\n",
       "Name: count, dtype: int64"
      ]
     },
     "execution_count": 28,
     "metadata": {},
     "output_type": "execute_result"
    }
   ],
   "source": [
    "clean_data['year'].value_counts()"
   ]
  },
  {
   "cell_type": "code",
   "execution_count": 29,
   "id": "b58bfa0e",
   "metadata": {
    "execution": {
     "iopub.execute_input": "2024-09-08T08:50:32.503007Z",
     "iopub.status.busy": "2024-09-08T08:50:32.502734Z",
     "iopub.status.idle": "2024-09-08T08:50:32.506837Z",
     "shell.execute_reply": "2024-09-08T08:50:32.506012Z"
    },
    "papermill": {
     "duration": 0.029995,
     "end_time": "2024-09-08T08:50:32.508697",
     "exception": false,
     "start_time": "2024-09-08T08:50:32.478702",
     "status": "completed"
    },
    "tags": []
   },
   "outputs": [],
   "source": [
    "def mapping_function_year(year):\n",
    "    return year-1999"
   ]
  },
  {
   "cell_type": "code",
   "execution_count": 30,
   "id": "03c2f125",
   "metadata": {
    "execution": {
     "iopub.execute_input": "2024-09-08T08:50:32.555955Z",
     "iopub.status.busy": "2024-09-08T08:50:32.555649Z",
     "iopub.status.idle": "2024-09-08T08:50:32.559427Z",
     "shell.execute_reply": "2024-09-08T08:50:32.558546Z"
    },
    "papermill": {
     "duration": 0.029767,
     "end_time": "2024-09-08T08:50:32.561557",
     "exception": false,
     "start_time": "2024-09-08T08:50:32.531790",
     "status": "completed"
    },
    "tags": []
   },
   "outputs": [],
   "source": [
    "#clone=clean_data.copy()"
   ]
  },
  {
   "cell_type": "code",
   "execution_count": 31,
   "id": "38027a60",
   "metadata": {
    "execution": {
     "iopub.execute_input": "2024-09-08T08:50:32.608765Z",
     "iopub.status.busy": "2024-09-08T08:50:32.608504Z",
     "iopub.status.idle": "2024-09-08T08:50:32.990196Z",
     "shell.execute_reply": "2024-09-08T08:50:32.989336Z"
    },
    "papermill": {
     "duration": 0.407959,
     "end_time": "2024-09-08T08:50:32.992515",
     "exception": false,
     "start_time": "2024-09-08T08:50:32.584556",
     "status": "completed"
    },
    "tags": []
   },
   "outputs": [],
   "source": [
    "clean_data['year']=clean_data['year'].apply(mapping_function_year)"
   ]
  },
  {
   "cell_type": "markdown",
   "id": "20024b7a",
   "metadata": {
    "papermill": {
     "duration": 0.022896,
     "end_time": "2024-09-08T08:50:33.039075",
     "exception": false,
     "start_time": "2024-09-08T08:50:33.016179",
     "status": "completed"
    },
    "tags": []
   },
   "source": [
    "# mapping hour"
   ]
  },
  {
   "cell_type": "code",
   "execution_count": 32,
   "id": "99282171",
   "metadata": {
    "execution": {
     "iopub.execute_input": "2024-09-08T08:50:33.087817Z",
     "iopub.status.busy": "2024-09-08T08:50:33.087461Z",
     "iopub.status.idle": "2024-09-08T08:50:33.091740Z",
     "shell.execute_reply": "2024-09-08T08:50:33.090850Z"
    },
    "papermill": {
     "duration": 0.031585,
     "end_time": "2024-09-08T08:50:33.093677",
     "exception": false,
     "start_time": "2024-09-08T08:50:33.062092",
     "status": "completed"
    },
    "tags": []
   },
   "outputs": [],
   "source": [
    "def mapping_function_hour(hour):\n",
    "    return hour-19"
   ]
  },
  {
   "cell_type": "code",
   "execution_count": 33,
   "id": "4de9ba4f",
   "metadata": {
    "execution": {
     "iopub.execute_input": "2024-09-08T08:50:33.141899Z",
     "iopub.status.busy": "2024-09-08T08:50:33.141579Z",
     "iopub.status.idle": "2024-09-08T08:50:33.153381Z",
     "shell.execute_reply": "2024-09-08T08:50:33.152549Z"
    },
    "papermill": {
     "duration": 0.038529,
     "end_time": "2024-09-08T08:50:33.155337",
     "exception": false,
     "start_time": "2024-09-08T08:50:33.116808",
     "status": "completed"
    },
    "tags": []
   },
   "outputs": [
    {
     "data": {
      "text/plain": [
       "hour\n",
       "20    382504\n",
       "19    185897\n",
       "Name: count, dtype: int64"
      ]
     },
     "execution_count": 33,
     "metadata": {},
     "output_type": "execute_result"
    }
   ],
   "source": [
    "clean_data['hour'].value_counts()"
   ]
  },
  {
   "cell_type": "code",
   "execution_count": 34,
   "id": "49a90592",
   "metadata": {
    "execution": {
     "iopub.execute_input": "2024-09-08T08:50:33.205027Z",
     "iopub.status.busy": "2024-09-08T08:50:33.204336Z",
     "iopub.status.idle": "2024-09-08T08:50:33.570735Z",
     "shell.execute_reply": "2024-09-08T08:50:33.569936Z"
    },
    "papermill": {
     "duration": 0.393198,
     "end_time": "2024-09-08T08:50:33.573064",
     "exception": false,
     "start_time": "2024-09-08T08:50:33.179866",
     "status": "completed"
    },
    "tags": []
   },
   "outputs": [],
   "source": [
    "clean_data['hour']=clean_data['hour'].apply(mapping_function_hour)"
   ]
  },
  {
   "cell_type": "code",
   "execution_count": 35,
   "id": "5b9dc029",
   "metadata": {
    "execution": {
     "iopub.execute_input": "2024-09-08T08:50:33.621945Z",
     "iopub.status.busy": "2024-09-08T08:50:33.621626Z",
     "iopub.status.idle": "2024-09-08T08:50:33.632777Z",
     "shell.execute_reply": "2024-09-08T08:50:33.631943Z"
    },
    "papermill": {
     "duration": 0.037405,
     "end_time": "2024-09-08T08:50:33.634718",
     "exception": false,
     "start_time": "2024-09-08T08:50:33.597313",
     "status": "completed"
    },
    "tags": []
   },
   "outputs": [
    {
     "data": {
      "text/html": [
       "<div>\n",
       "<style scoped>\n",
       "    .dataframe tbody tr th:only-of-type {\n",
       "        vertical-align: middle;\n",
       "    }\n",
       "\n",
       "    .dataframe tbody tr th {\n",
       "        vertical-align: top;\n",
       "    }\n",
       "\n",
       "    .dataframe thead th {\n",
       "        text-align: right;\n",
       "    }\n",
       "</style>\n",
       "<table border=\"1\" class=\"dataframe\">\n",
       "  <thead>\n",
       "    <tr style=\"text-align: right;\">\n",
       "      <th></th>\n",
       "      <th>ProductId</th>\n",
       "      <th>UserId</th>\n",
       "      <th>year</th>\n",
       "      <th>month</th>\n",
       "      <th>day_of_week</th>\n",
       "      <th>hour</th>\n",
       "      <th>Recomended</th>\n",
       "    </tr>\n",
       "  </thead>\n",
       "  <tbody>\n",
       "    <tr>\n",
       "      <th>0</th>\n",
       "      <td>27619</td>\n",
       "      <td>188633</td>\n",
       "      <td>12</td>\n",
       "      <td>4</td>\n",
       "      <td>1</td>\n",
       "      <td>1</td>\n",
       "      <td>True</td>\n",
       "    </tr>\n",
       "    <tr>\n",
       "      <th>1</th>\n",
       "      <td>72383</td>\n",
       "      <td>25104</td>\n",
       "      <td>13</td>\n",
       "      <td>9</td>\n",
       "      <td>3</td>\n",
       "      <td>1</td>\n",
       "      <td>False</td>\n",
       "    </tr>\n",
       "    <tr>\n",
       "      <th>2</th>\n",
       "      <td>15267</td>\n",
       "      <td>210468</td>\n",
       "      <td>9</td>\n",
       "      <td>8</td>\n",
       "      <td>6</td>\n",
       "      <td>1</td>\n",
       "      <td>True</td>\n",
       "    </tr>\n",
       "    <tr>\n",
       "      <th>3</th>\n",
       "      <td>19718</td>\n",
       "      <td>152622</td>\n",
       "      <td>12</td>\n",
       "      <td>6</td>\n",
       "      <td>6</td>\n",
       "      <td>1</td>\n",
       "      <td>False</td>\n",
       "    </tr>\n",
       "    <tr>\n",
       "      <th>4</th>\n",
       "      <td>69007</td>\n",
       "      <td>57800</td>\n",
       "      <td>13</td>\n",
       "      <td>10</td>\n",
       "      <td>5</td>\n",
       "      <td>1</td>\n",
       "      <td>True</td>\n",
       "    </tr>\n",
       "  </tbody>\n",
       "</table>\n",
       "</div>"
      ],
      "text/plain": [
       "   ProductId  UserId  year  month  day_of_week  hour  Recomended\n",
       "0      27619  188633    12      4            1     1        True\n",
       "1      72383   25104    13      9            3     1       False\n",
       "2      15267  210468     9      8            6     1        True\n",
       "3      19718  152622    12      6            6     1       False\n",
       "4      69007   57800    13     10            5     1        True"
      ]
     },
     "execution_count": 35,
     "metadata": {},
     "output_type": "execute_result"
    }
   ],
   "source": [
    "clean_data.head()"
   ]
  },
  {
   "cell_type": "code",
   "execution_count": 36,
   "id": "7284227f",
   "metadata": {
    "execution": {
     "iopub.execute_input": "2024-09-08T08:50:33.682839Z",
     "iopub.status.busy": "2024-09-08T08:50:33.682542Z",
     "iopub.status.idle": "2024-09-08T08:50:33.686377Z",
     "shell.execute_reply": "2024-09-08T08:50:33.685494Z"
    },
    "papermill": {
     "duration": 0.029965,
     "end_time": "2024-09-08T08:50:33.688256",
     "exception": false,
     "start_time": "2024-09-08T08:50:33.658291",
     "status": "completed"
    },
    "tags": []
   },
   "outputs": [],
   "source": [
    "# scaler=MinMaxScaler()\n",
    "\n",
    "# columns_to_scale=['year','month','hour','day_of_week']\n",
    "# clean_data[columns_to_scale]=scaler.fit_transform(clean_data[columns_to_scale])"
   ]
  },
  {
   "cell_type": "code",
   "execution_count": 37,
   "id": "4f277778",
   "metadata": {
    "execution": {
     "iopub.execute_input": "2024-09-08T08:50:33.736889Z",
     "iopub.status.busy": "2024-09-08T08:50:33.736593Z",
     "iopub.status.idle": "2024-09-08T08:50:33.742129Z",
     "shell.execute_reply": "2024-09-08T08:50:33.741460Z"
    },
    "papermill": {
     "duration": 0.032415,
     "end_time": "2024-09-08T08:50:33.744012",
     "exception": false,
     "start_time": "2024-09-08T08:50:33.711597",
     "status": "completed"
    },
    "tags": []
   },
   "outputs": [],
   "source": [
    "# lets change the boolean into number\n",
    "clean_data['Recomended']=clean_data['Recomended'].astype(int)"
   ]
  },
  {
   "cell_type": "markdown",
   "id": "e4ec3ff8",
   "metadata": {
    "papermill": {
     "duration": 0.023336,
     "end_time": "2024-09-08T08:50:33.790729",
     "exception": false,
     "start_time": "2024-09-08T08:50:33.767393",
     "status": "completed"
    },
    "tags": []
   },
   "source": [
    "# split into train and test"
   ]
  },
  {
   "cell_type": "code",
   "execution_count": 38,
   "id": "a45aeea7",
   "metadata": {
    "execution": {
     "iopub.execute_input": "2024-09-08T08:50:33.838893Z",
     "iopub.status.busy": "2024-09-08T08:50:33.838583Z",
     "iopub.status.idle": "2024-09-08T08:50:34.082313Z",
     "shell.execute_reply": "2024-09-08T08:50:34.081479Z"
    },
    "papermill": {
     "duration": 0.27048,
     "end_time": "2024-09-08T08:50:34.084749",
     "exception": false,
     "start_time": "2024-09-08T08:50:33.814269",
     "status": "completed"
    },
    "tags": []
   },
   "outputs": [],
   "source": [
    "#split into train and test\n",
    "train,test=train_test_split(\n",
    "    clean_data,\n",
    "    random_state=42,\n",
    "    test_size=0.2,\n",
    "    stratify=clean_data['Recomended']\n",
    ")"
   ]
  },
  {
   "cell_type": "markdown",
   "id": "211969c4",
   "metadata": {
    "papermill": {
     "duration": 0.023784,
     "end_time": "2024-09-08T08:50:34.133773",
     "exception": false,
     "start_time": "2024-09-08T08:50:34.109989",
     "status": "completed"
    },
    "tags": []
   },
   "source": [
    "# lets check for data distribution"
   ]
  },
  {
   "cell_type": "code",
   "execution_count": 39,
   "id": "dc34f536",
   "metadata": {
    "execution": {
     "iopub.execute_input": "2024-09-08T08:50:34.182121Z",
     "iopub.status.busy": "2024-09-08T08:50:34.181757Z",
     "iopub.status.idle": "2024-09-08T08:50:34.461262Z",
     "shell.execute_reply": "2024-09-08T08:50:34.460398Z"
    },
    "papermill": {
     "duration": 0.306082,
     "end_time": "2024-09-08T08:50:34.463363",
     "exception": false,
     "start_time": "2024-09-08T08:50:34.157281",
     "status": "completed"
    },
    "tags": []
   },
   "outputs": [
    {
     "data": {
      "image/png": "[encoded data removed]",
      "text/plain": [
       "<Figure size 640x480 with 1 Axes>"
      ]
     },
     "metadata": {},
     "output_type": "display_data"
    }
   ],
   "source": [
    "plt.hist(clean_data['year'],edgecolor='black')\n",
    "plt.show()"
   ]
  },
  {
   "cell_type": "code",
   "execution_count": 40,
   "id": "cebd0be5",
   "metadata": {
    "execution": {
     "iopub.execute_input": "2024-09-08T08:50:34.513160Z",
     "iopub.status.busy": "2024-09-08T08:50:34.512817Z",
     "iopub.status.idle": "2024-09-08T08:50:34.770159Z",
     "shell.execute_reply": "2024-09-08T08:50:34.769249Z"
    },
    "papermill": {
     "duration": 0.284277,
     "end_time": "2024-09-08T08:50:34.772148",
     "exception": false,
     "start_time": "2024-09-08T08:50:34.487871",
     "status": "completed"
    },
    "tags": []
   },
   "outputs": [
    {
     "data": {
      "image/png": "[encoded data removed]",
      "text/plain": [
       "<Figure size 640x480 with 1 Axes>"
      ]
     },
     "metadata": {},
     "output_type": "display_data"
    }
   ],
   "source": [
    "plt.hist(clean_data['hour'],edgecolor='black')\n",
    "plt.show()"
   ]
  },
  {
   "cell_type": "markdown",
   "id": "d12be439",
   "metadata": {
    "papermill": {
     "duration": 0.024035,
     "end_time": "2024-09-08T08:50:34.820872",
     "exception": false,
     "start_time": "2024-09-08T08:50:34.796837",
     "status": "completed"
    },
    "tags": []
   },
   "source": [
    "# turn them into torch dataset"
   ]
  },
  {
   "cell_type": "code",
   "execution_count": 41,
   "id": "dcad5808",
   "metadata": {
    "execution": {
     "iopub.execute_input": "2024-09-08T08:50:34.870891Z",
     "iopub.status.busy": "2024-09-08T08:50:34.870108Z",
     "iopub.status.idle": "2024-09-08T08:50:34.969535Z",
     "shell.execute_reply": "2024-09-08T08:50:34.968663Z"
    },
    "papermill": {
     "duration": 0.12656,
     "end_time": "2024-09-08T08:50:34.971477",
     "exception": false,
     "start_time": "2024-09-08T08:50:34.844917",
     "status": "completed"
    },
    "tags": []
   },
   "outputs": [],
   "source": [
    "device=torch.device('cuda' if torch.cuda.is_available() else 'cpu')"
   ]
  },
  {
   "cell_type": "code",
   "execution_count": 42,
   "id": "b68e4014",
   "metadata": {
    "execution": {
     "iopub.execute_input": "2024-09-08T08:50:35.021935Z",
     "iopub.status.busy": "2024-09-08T08:50:35.021108Z",
     "iopub.status.idle": "2024-09-08T08:50:35.036447Z",
     "shell.execute_reply": "2024-09-08T08:50:35.035782Z"
    },
    "papermill": {
     "duration": 0.042183,
     "end_time": "2024-09-08T08:50:35.038342",
     "exception": false,
     "start_time": "2024-09-08T08:50:34.996159",
     "status": "completed"
    },
    "tags": []
   },
   "outputs": [],
   "source": [
    "p=torch.tensor(90,dtype=torch.long)"
   ]
  },
  {
   "cell_type": "code",
   "execution_count": 43,
   "id": "a067f047",
   "metadata": {
    "execution": {
     "iopub.execute_input": "2024-09-08T08:50:35.089658Z",
     "iopub.status.busy": "2024-09-08T08:50:35.089389Z",
     "iopub.status.idle": "2024-09-08T08:50:35.097907Z",
     "shell.execute_reply": "2024-09-08T08:50:35.097052Z"
    },
    "papermill": {
     "duration": 0.037335,
     "end_time": "2024-09-08T08:50:35.099861",
     "exception": false,
     "start_time": "2024-09-08T08:50:35.062526",
     "status": "completed"
    },
    "tags": []
   },
   "outputs": [],
   "source": [
    "class Mydataset(Dataset):\n",
    "    def __init__(self,data):\n",
    "        super().__init__()\n",
    "        self.data=data\n",
    "        \n",
    "    def __len__(self):\n",
    "        return len(self.data)\n",
    "    \n",
    "    def __getitem__(self,idx):\n",
    "        #element to extract\n",
    "        item=self.data.iloc[idx]\n",
    "        \n",
    "        return {\n",
    "            \"product_id\":torch.tensor([item['ProductId']],dtype=torch.long).to(device),\n",
    "            \"user_id\":torch.tensor([item['UserId']],dtype=torch.long).to(device) ,\n",
    "            \"year\":torch.tensor([item['year']],dtype=torch.long).to(device) ,\n",
    "            \"month\":torch.tensor([item['month']],dtype=torch.long).to(device) ,\n",
    "            \"day_of_week\":torch.tensor([item['day_of_week']],dtype=torch.long).to(device) ,\n",
    "            \"hour\":torch.tensor([item['hour']],dtype=torch.long).to(device) ,\n",
    "            \"recomended\":torch.tensor([item['Recomended']],dtype=torch.float).to(device)\n",
    "        }"
   ]
  },
  {
   "cell_type": "markdown",
   "id": "39c997fb",
   "metadata": {
    "papermill": {
     "duration": 0.024016,
     "end_time": "2024-09-08T08:50:35.148436",
     "exception": false,
     "start_time": "2024-09-08T08:50:35.124420",
     "status": "completed"
    },
    "tags": []
   },
   "source": [
    "## loading the torch dataset format"
   ]
  },
  {
   "cell_type": "code",
   "execution_count": 44,
   "id": "f3a4a3aa",
   "metadata": {
    "execution": {
     "iopub.execute_input": "2024-09-08T08:50:35.198152Z",
     "iopub.status.busy": "2024-09-08T08:50:35.197485Z",
     "iopub.status.idle": "2024-09-08T08:50:35.201762Z",
     "shell.execute_reply": "2024-09-08T08:50:35.200925Z"
    },
    "papermill": {
     "duration": 0.03138,
     "end_time": "2024-09-08T08:50:35.203641",
     "exception": false,
     "start_time": "2024-09-08T08:50:35.172261",
     "status": "completed"
    },
    "tags": []
   },
   "outputs": [],
   "source": [
    "#trainig dataset\n",
    "train_dataset=Mydataset(train)\n",
    "test_dataset=Mydataset(test)"
   ]
  },
  {
   "cell_type": "code",
   "execution_count": 45,
   "id": "5998c93b",
   "metadata": {
    "execution": {
     "iopub.execute_input": "2024-09-08T08:50:35.252938Z",
     "iopub.status.busy": "2024-09-08T08:50:35.252647Z",
     "iopub.status.idle": "2024-09-08T08:50:35.256990Z",
     "shell.execute_reply": "2024-09-08T08:50:35.256158Z"
    },
    "papermill": {
     "duration": 0.031348,
     "end_time": "2024-09-08T08:50:35.259015",
     "exception": false,
     "start_time": "2024-09-08T08:50:35.227667",
     "status": "completed"
    },
    "tags": []
   },
   "outputs": [
    {
     "name": "stdout",
     "output_type": "stream",
     "text": [
      "<__main__.Mydataset object at 0x79665f2af850>\n",
      "<__main__.Mydataset object at 0x79665f2afca0>\n"
     ]
    }
   ],
   "source": [
    "print(train_dataset)\n",
    "print(test_dataset)"
   ]
  },
  {
   "cell_type": "markdown",
   "id": "115d141d",
   "metadata": {
    "papermill": {
     "duration": 0.02387,
     "end_time": "2024-09-08T08:50:35.306788",
     "exception": false,
     "start_time": "2024-09-08T08:50:35.282918",
     "status": "completed"
    },
    "tags": []
   },
   "source": [
    "# turning it into torch dataloader"
   ]
  },
  {
   "cell_type": "code",
   "execution_count": 46,
   "id": "9844930b",
   "metadata": {
    "execution": {
     "iopub.execute_input": "2024-09-08T08:50:35.356975Z",
     "iopub.status.busy": "2024-09-08T08:50:35.356260Z",
     "iopub.status.idle": "2024-09-08T08:50:35.361079Z",
     "shell.execute_reply": "2024-09-08T08:50:35.360257Z"
    },
    "papermill": {
     "duration": 0.031862,
     "end_time": "2024-09-08T08:50:35.363026",
     "exception": false,
     "start_time": "2024-09-08T08:50:35.331164",
     "status": "completed"
    },
    "tags": []
   },
   "outputs": [],
   "source": [
    "#making the train dataloader\n",
    "train_dataloader=DataLoader(\n",
    "    dataset=train_dataset,\n",
    "    batch_size=32\n",
    ")\n",
    "\n",
    "#making test dataloader\n",
    "test_dataloader=DataLoader(\n",
    "    dataset=test_dataset,\n",
    "    batch_size=32\n",
    ")"
   ]
  },
  {
   "cell_type": "code",
   "execution_count": 47,
   "id": "cfcf4ed5",
   "metadata": {
    "execution": {
     "iopub.execute_input": "2024-09-08T08:50:35.412221Z",
     "iopub.status.busy": "2024-09-08T08:50:35.411944Z",
     "iopub.status.idle": "2024-09-08T08:50:35.670608Z",
     "shell.execute_reply": "2024-09-08T08:50:35.669617Z"
    },
    "papermill": {
     "duration": 0.285815,
     "end_time": "2024-09-08T08:50:35.672918",
     "exception": false,
     "start_time": "2024-09-08T08:50:35.387103",
     "status": "completed"
    },
    "scrolled": true,
    "tags": []
   },
   "outputs": [
    {
     "name": "stdout",
     "output_type": "stream",
     "text": [
      "torch.Size([32, 1])\n",
      "torch.Size([32, 1])\n"
     ]
    }
   ],
   "source": [
    "# acessing elements of the dataloader\n",
    "for batch in train_dataloader:\n",
    "    print(batch['product_id'].shape)\n",
    "    print(batch['user_id'].shape)\n",
    "    break"
   ]
  },
  {
   "cell_type": "code",
   "execution_count": 48,
   "id": "c10833a1",
   "metadata": {
    "execution": {
     "iopub.execute_input": "2024-09-08T08:50:35.723262Z",
     "iopub.status.busy": "2024-09-08T08:50:35.722535Z",
     "iopub.status.idle": "2024-09-08T08:50:35.726547Z",
     "shell.execute_reply": "2024-09-08T08:50:35.725700Z"
    },
    "papermill": {
     "duration": 0.031014,
     "end_time": "2024-09-08T08:50:35.728487",
     "exception": false,
     "start_time": "2024-09-08T08:50:35.697473",
     "status": "completed"
    },
    "tags": []
   },
   "outputs": [],
   "source": [
    "import shutil"
   ]
  },
  {
   "cell_type": "code",
   "execution_count": 49,
   "id": "0fafb853",
   "metadata": {
    "execution": {
     "iopub.execute_input": "2024-09-08T08:50:35.779245Z",
     "iopub.status.busy": "2024-09-08T08:50:35.778544Z",
     "iopub.status.idle": "2024-09-08T08:50:35.782589Z",
     "shell.execute_reply": "2024-09-08T08:50:35.781753Z"
    },
    "papermill": {
     "duration": 0.031067,
     "end_time": "2024-09-08T08:50:35.784405",
     "exception": false,
     "start_time": "2024-09-08T08:50:35.753338",
     "status": "completed"
    },
    "tags": []
   },
   "outputs": [],
   "source": [
    "#shutil.rmtree(\"/kaggle/working/tiny_recommendation\")"
   ]
  },
  {
   "cell_type": "code",
   "execution_count": 50,
   "id": "692d0d26",
   "metadata": {
    "execution": {
     "iopub.execute_input": "2024-09-08T08:50:35.834489Z",
     "iopub.status.busy": "2024-09-08T08:50:35.833776Z",
     "iopub.status.idle": "2024-09-08T08:50:38.461286Z",
     "shell.execute_reply": "2024-09-08T08:50:38.460146Z"
    },
    "papermill": {
     "duration": 2.654974,
     "end_time": "2024-09-08T08:50:38.463644",
     "exception": false,
     "start_time": "2024-09-08T08:50:35.808670",
     "status": "completed"
    },
    "tags": []
   },
   "outputs": [
    {
     "name": "stderr",
     "output_type": "stream",
     "text": [
      "/opt/conda/lib/python3.10/pty.py:89: RuntimeWarning: os.fork() was called. os.fork() is incompatible with multithreaded code, and JAX is multithreaded, so this will likely lead to a deadlock.\n",
      "  pid, fd = os.forkpty()\n"
     ]
    },
    {
     "name": "stdout",
     "output_type": "stream",
     "text": [
      "Cloning into 'tiny_recommendation'...\r\n",
      "remote: Enumerating objects: 234, done.\u001b[K\r\n",
      "remote: Counting objects: 100% (234/234), done.\u001b[K\r\n",
      "remote: Compressing objects: 100% (139/139), done.\u001b[K\r\n",
      "remote: Total 234 (delta 115), reused 192 (delta 77), pack-reused 0 (from 0)\u001b[K\r\n",
      "Receiving objects: 100% (234/234), 2.55 MiB | 8.12 MiB/s, done.\r\n",
      "Resolving deltas: 100% (115/115), done.\r\n"
     ]
    }
   ],
   "source": [
    "!git clone https://github.com/nebyu08/tiny_recommendation.git"
   ]
  },
  {
   "cell_type": "markdown",
   "id": "4b4153ae",
   "metadata": {
    "papermill": {
     "duration": 0.025072,
     "end_time": "2024-09-08T08:50:38.514812",
     "exception": false,
     "start_time": "2024-09-08T08:50:38.489740",
     "status": "completed"
    },
    "tags": []
   },
   "source": [
    "# model package importing"
   ]
  },
  {
   "cell_type": "code",
   "execution_count": 51,
   "id": "23145664",
   "metadata": {
    "execution": {
     "iopub.execute_input": "2024-09-08T08:50:38.568277Z",
     "iopub.status.busy": "2024-09-08T08:50:38.567460Z",
     "iopub.status.idle": "2024-09-08T08:50:38.576548Z",
     "shell.execute_reply": "2024-09-08T08:50:38.575841Z"
    },
    "papermill": {
     "duration": 0.038443,
     "end_time": "2024-09-08T08:50:38.578515",
     "exception": false,
     "start_time": "2024-09-08T08:50:38.540072",
     "status": "completed"
    },
    "tags": []
   },
   "outputs": [],
   "source": [
    "#import sys\n",
    "#sys.path.append('C:/Users/nebiy/Documents/recommendation_system/tiny_recommendation/jupyter_notes/main.py')\n",
    "from tiny_recommendation.main import WideDeep,WD_Config"
   ]
  },
  {
   "cell_type": "code",
   "execution_count": 52,
   "id": "518a9b89",
   "metadata": {
    "execution": {
     "iopub.execute_input": "2024-09-08T08:50:38.630438Z",
     "iopub.status.busy": "2024-09-08T08:50:38.629712Z",
     "iopub.status.idle": "2024-09-08T08:50:38.671005Z",
     "shell.execute_reply": "2024-09-08T08:50:38.670260Z"
    },
    "papermill": {
     "duration": 0.069434,
     "end_time": "2024-09-08T08:50:38.673057",
     "exception": false,
     "start_time": "2024-09-08T08:50:38.603623",
     "status": "completed"
    },
    "tags": []
   },
   "outputs": [],
   "source": [
    "config=WD_Config()\n",
    "config.num_product=clean_data['ProductId'].nunique()\n",
    "config.num_users=clean_data['UserId'].nunique() \n",
    "config.num_year=clean_data[\"year\"].nunique()\n",
    "config.num_time_day=clean_data[\"hour\"].nunique()\n",
    "config.num_month=clean_data['month'].nunique()+1   #since in this column it start from 1\n",
    "config.num_day_week=clean_data[\"day_of_week\"].nunique()\n",
    "config.embedding_dim=100"
   ]
  },
  {
   "cell_type": "code",
   "execution_count": 53,
   "id": "f1ced4e3",
   "metadata": {
    "execution": {
     "iopub.execute_input": "2024-09-08T08:50:38.725024Z",
     "iopub.status.busy": "2024-09-08T08:50:38.724729Z",
     "iopub.status.idle": "2024-09-08T08:50:38.729475Z",
     "shell.execute_reply": "2024-09-08T08:50:38.728594Z"
    },
    "papermill": {
     "duration": 0.032933,
     "end_time": "2024-09-08T08:50:38.731576",
     "exception": false,
     "start_time": "2024-09-08T08:50:38.698643",
     "status": "completed"
    },
    "tags": []
   },
   "outputs": [
    {
     "name": "stdout",
     "output_type": "stream",
     "text": [
      "WD_Config(num_product=74257, num_users=256042, num_day_week=7, num_month=13, num_time_day=2, num_feature=6, embedding_dim=100, num_year=14)\n"
     ]
    }
   ],
   "source": [
    "print(config)"
   ]
  },
  {
   "cell_type": "code",
   "execution_count": 54,
   "id": "63d36729",
   "metadata": {
    "execution": {
     "iopub.execute_input": "2024-09-08T08:50:38.784854Z",
     "iopub.status.busy": "2024-09-08T08:50:38.784579Z",
     "iopub.status.idle": "2024-09-08T08:50:39.398284Z",
     "shell.execute_reply": "2024-09-08T08:50:39.397454Z"
    },
    "papermill": {
     "duration": 0.642466,
     "end_time": "2024-09-08T08:50:39.400619",
     "exception": false,
     "start_time": "2024-09-08T08:50:38.758153",
     "status": "completed"
    },
    "tags": []
   },
   "outputs": [],
   "source": [
    "model=WideDeep(config)"
   ]
  },
  {
   "cell_type": "markdown",
   "id": "6ca840f7",
   "metadata": {
    "papermill": {
     "duration": 0.024937,
     "end_time": "2024-09-08T08:50:39.451616",
     "exception": false,
     "start_time": "2024-09-08T08:50:39.426679",
     "status": "completed"
    },
    "tags": []
   },
   "source": [
    "# setup the config of the model"
   ]
  },
  {
   "cell_type": "code",
   "execution_count": 55,
   "id": "7f03ed4e",
   "metadata": {
    "execution": {
     "iopub.execute_input": "2024-09-08T08:50:39.503841Z",
     "iopub.status.busy": "2024-09-08T08:50:39.503135Z",
     "iopub.status.idle": "2024-09-08T08:50:39.513973Z",
     "shell.execute_reply": "2024-09-08T08:50:39.513148Z"
    },
    "papermill": {
     "duration": 0.039528,
     "end_time": "2024-09-08T08:50:39.516247",
     "exception": false,
     "start_time": "2024-09-08T08:50:39.476719",
     "status": "completed"
    },
    "tags": []
   },
   "outputs": [
    {
     "data": {
      "text/plain": [
       "day_of_week\n",
       "2    87051\n",
       "1    85986\n",
       "0    85850\n",
       "6    85360\n",
       "3    79679\n",
       "5    72791\n",
       "4    71684\n",
       "Name: count, dtype: int64"
      ]
     },
     "execution_count": 55,
     "metadata": {},
     "output_type": "execute_result"
    }
   ],
   "source": [
    "clean_data[\"day_of_week\"].value_counts()"
   ]
  },
  {
   "cell_type": "code",
   "execution_count": 56,
   "id": "a02357ee",
   "metadata": {
    "execution": {
     "iopub.execute_input": "2024-09-08T08:50:39.569834Z",
     "iopub.status.busy": "2024-09-08T08:50:39.569550Z",
     "iopub.status.idle": "2024-09-08T08:50:39.573460Z",
     "shell.execute_reply": "2024-09-08T08:50:39.572666Z"
    },
    "papermill": {
     "duration": 0.03199,
     "end_time": "2024-09-08T08:50:39.575282",
     "exception": false,
     "start_time": "2024-09-08T08:50:39.543292",
     "status": "completed"
    },
    "tags": []
   },
   "outputs": [],
   "source": [
    "# config.num_product=clean_data['ProductId'].nunique()+1\n",
    "# config.num_users=clean_data['UserId'].nunique() +1\n",
    "# config.num_year=clean_data[\"year\"].nunique()+1\n",
    "# config.num_time_day=clean_data[\"hour\"].nunique()+1\n",
    "# config.num_month=clean_data['month'].nunique()+1\n",
    "# config.num_day_week=clean_data[\"day_of_week\"].nunique()+1\n",
    "# config.embedding_dim=100"
   ]
  },
  {
   "cell_type": "code",
   "execution_count": 57,
   "id": "e48cd040",
   "metadata": {
    "execution": {
     "iopub.execute_input": "2024-09-08T08:50:39.626917Z",
     "iopub.status.busy": "2024-09-08T08:50:39.626656Z",
     "iopub.status.idle": "2024-09-08T08:50:39.670953Z",
     "shell.execute_reply": "2024-09-08T08:50:39.670250Z"
    },
    "papermill": {
     "duration": 0.072498,
     "end_time": "2024-09-08T08:50:39.672974",
     "exception": false,
     "start_time": "2024-09-08T08:50:39.600476",
     "status": "completed"
    },
    "tags": []
   },
   "outputs": [],
   "source": [
    "model=model.to(device)"
   ]
  },
  {
   "cell_type": "code",
   "execution_count": 58,
   "id": "c817a57c",
   "metadata": {
    "execution": {
     "iopub.execute_input": "2024-09-08T08:50:39.726314Z",
     "iopub.status.busy": "2024-09-08T08:50:39.725603Z",
     "iopub.status.idle": "2024-09-08T08:50:39.729817Z",
     "shell.execute_reply": "2024-09-08T08:50:39.728964Z"
    },
    "papermill": {
     "duration": 0.032919,
     "end_time": "2024-09-08T08:50:39.731742",
     "exception": false,
     "start_time": "2024-09-08T08:50:39.698823",
     "status": "completed"
    },
    "tags": []
   },
   "outputs": [],
   "source": [
    "# for name,param in model.named_parameters():\n",
    "#     if(param.requires_grad):\n",
    "#         print(name)"
   ]
  },
  {
   "cell_type": "code",
   "execution_count": 59,
   "id": "335e77f2",
   "metadata": {
    "execution": {
     "iopub.execute_input": "2024-09-08T08:50:39.786774Z",
     "iopub.status.busy": "2024-09-08T08:50:39.785717Z",
     "iopub.status.idle": "2024-09-08T08:50:39.789895Z",
     "shell.execute_reply": "2024-09-08T08:50:39.789119Z"
    },
    "papermill": {
     "duration": 0.034764,
     "end_time": "2024-09-08T08:50:39.792121",
     "exception": false,
     "start_time": "2024-09-08T08:50:39.757357",
     "status": "completed"
    },
    "tags": []
   },
   "outputs": [],
   "source": [
    "# for name,param in model.named_parameters():\n",
    "#     if not(param.requires_grad):\n",
    "#         print(name)"
   ]
  },
  {
   "cell_type": "code",
   "execution_count": 60,
   "id": "1c65e859",
   "metadata": {
    "execution": {
     "iopub.execute_input": "2024-09-08T08:50:39.846772Z",
     "iopub.status.busy": "2024-09-08T08:50:39.846417Z",
     "iopub.status.idle": "2024-09-08T08:50:40.674874Z",
     "shell.execute_reply": "2024-09-08T08:50:40.674048Z"
    },
    "papermill": {
     "duration": 0.858177,
     "end_time": "2024-09-08T08:50:40.677179",
     "exception": false,
     "start_time": "2024-09-08T08:50:39.819002",
     "status": "completed"
    },
    "tags": []
   },
   "outputs": [],
   "source": [
    "optim=torch.optim.AdamW(model.parameters(),lr=0.01,weight_decay=0.01)  #the deep component\n",
    "loss_fn=torch.nn.BCEWithLogitsLoss() "
   ]
  },
  {
   "cell_type": "markdown",
   "id": "83618b73",
   "metadata": {
    "papermill": {
     "duration": 0.02538,
     "end_time": "2024-09-08T08:50:40.728545",
     "exception": false,
     "start_time": "2024-09-08T08:50:40.703165",
     "status": "completed"
    },
    "tags": []
   },
   "source": [
    "# lets debug some stuff with data and model"
   ]
  },
  {
   "cell_type": "code",
   "execution_count": 61,
   "id": "beadac5b",
   "metadata": {
    "execution": {
     "iopub.execute_input": "2024-09-08T08:50:40.782123Z",
     "iopub.status.busy": "2024-09-08T08:50:40.781035Z",
     "iopub.status.idle": "2024-09-08T08:50:40.799590Z",
     "shell.execute_reply": "2024-09-08T08:50:40.798614Z"
    },
    "papermill": {
     "duration": 0.047566,
     "end_time": "2024-09-08T08:50:40.801640",
     "exception": false,
     "start_time": "2024-09-08T08:50:40.754074",
     "status": "completed"
    },
    "scrolled": true,
    "tags": []
   },
   "outputs": [
    {
     "name": "stdout",
     "output_type": "stream",
     "text": [
      "32\n",
      "torch.Size([32, 1])\n",
      "torch.Size([32, 1])\n",
      "torch.Size([32, 1])\n",
      "torch.Size([32, 1])\n",
      "torch.Size([32, 1])\n",
      "torch.Size([32, 1])\n"
     ]
    }
   ],
   "source": [
    "# lets access 10 elements from one batch\n",
    "for batch in train_dataloader:\n",
    "    product_id=batch[\"product_id\"]\n",
    "    user_id=batch[\"user_id\"]\n",
    "    year=batch[\"year\"]\n",
    "    month=batch[\"month\"]\n",
    "    day_of_week=batch[\"day_of_week\"]\n",
    "    hour=batch[\"hour\"]\n",
    "    recomended=batch[\"recomended\"]\n",
    "    \n",
    "    print(product_id.size(0))\n",
    "    print(user_id.shape)\n",
    "    print(year.shape)\n",
    "    print(recomended.shape)\n",
    "    print(month.shape)\n",
    "    print(year.shape)\n",
    "    print(day_of_week.shape)\n",
    "\n",
    "    break"
   ]
  },
  {
   "cell_type": "code",
   "execution_count": 62,
   "id": "9a922ad3",
   "metadata": {
    "execution": {
     "iopub.execute_input": "2024-09-08T08:50:40.853967Z",
     "iopub.status.busy": "2024-09-08T08:50:40.853658Z",
     "iopub.status.idle": "2024-09-08T08:50:40.858408Z",
     "shell.execute_reply": "2024-09-08T08:50:40.857446Z"
    },
    "papermill": {
     "duration": 0.0331,
     "end_time": "2024-09-08T08:50:40.860292",
     "exception": false,
     "start_time": "2024-09-08T08:50:40.827192",
     "status": "completed"
    },
    "tags": []
   },
   "outputs": [
    {
     "name": "stdout",
     "output_type": "stream",
     "text": [
      "cuda\n"
     ]
    }
   ],
   "source": [
    "print(device)"
   ]
  },
  {
   "cell_type": "code",
   "execution_count": 63,
   "id": "37951e0c",
   "metadata": {
    "execution": {
     "iopub.execute_input": "2024-09-08T08:50:40.924377Z",
     "iopub.status.busy": "2024-09-08T08:50:40.923654Z",
     "iopub.status.idle": "2024-09-08T08:50:40.929154Z",
     "shell.execute_reply": "2024-09-08T08:50:40.928259Z"
    },
    "papermill": {
     "duration": 0.0402,
     "end_time": "2024-09-08T08:50:40.931183",
     "exception": false,
     "start_time": "2024-09-08T08:50:40.890983",
     "status": "completed"
    },
    "tags": []
   },
   "outputs": [],
   "source": [
    "model=model.to(device)"
   ]
  },
  {
   "cell_type": "markdown",
   "id": "e150e881",
   "metadata": {
    "papermill": {
     "duration": 0.025305,
     "end_time": "2024-09-08T08:50:40.983052",
     "exception": false,
     "start_time": "2024-09-08T08:50:40.957747",
     "status": "completed"
    },
    "tags": []
   },
   "source": [
    "# train my model"
   ]
  },
  {
   "cell_type": "code",
   "execution_count": 64,
   "id": "1ecc940e",
   "metadata": {
    "execution": {
     "iopub.execute_input": "2024-09-08T08:50:41.035773Z",
     "iopub.status.busy": "2024-09-08T08:50:41.035426Z",
     "iopub.status.idle": "2024-09-08T08:50:41.051111Z",
     "shell.execute_reply": "2024-09-08T08:50:41.050234Z"
    },
    "papermill": {
     "duration": 0.044414,
     "end_time": "2024-09-08T08:50:41.053110",
     "exception": false,
     "start_time": "2024-09-08T08:50:41.008696",
     "status": "completed"
    },
    "tags": []
   },
   "outputs": [],
   "source": [
    "# extraxt one batch \n",
    "for batch in train_dataloader:\n",
    "    one_batch=batch\n",
    "    break"
   ]
  },
  {
   "cell_type": "code",
   "execution_count": 65,
   "id": "b42fe82a",
   "metadata": {
    "execution": {
     "iopub.execute_input": "2024-09-08T08:50:41.125425Z",
     "iopub.status.busy": "2024-09-08T08:50:41.125054Z",
     "iopub.status.idle": "2024-09-08T08:50:41.129117Z",
     "shell.execute_reply": "2024-09-08T08:50:41.128272Z"
    },
    "papermill": {
     "duration": 0.04274,
     "end_time": "2024-09-08T08:50:41.131079",
     "exception": false,
     "start_time": "2024-09-08T08:50:41.088339",
     "status": "completed"
    },
    "scrolled": true,
    "tags": []
   },
   "outputs": [],
   "source": [
    "# reco=batch['recomended']\n",
    "# print(reco)"
   ]
  },
  {
   "cell_type": "code",
   "execution_count": 66,
   "id": "5d576401",
   "metadata": {
    "execution": {
     "iopub.execute_input": "2024-09-08T08:50:41.184835Z",
     "iopub.status.busy": "2024-09-08T08:50:41.183998Z",
     "iopub.status.idle": "2024-09-08T08:50:41.190724Z",
     "shell.execute_reply": "2024-09-08T08:50:41.190000Z"
    },
    "papermill": {
     "duration": 0.035446,
     "end_time": "2024-09-08T08:50:41.192568",
     "exception": false,
     "start_time": "2024-09-08T08:50:41.157122",
     "status": "completed"
    },
    "tags": []
   },
   "outputs": [],
   "source": [
    "writer=SummaryWriter('runs/wide_deep_model')"
   ]
  },
  {
   "cell_type": "code",
   "execution_count": 67,
   "id": "fd8e37ac",
   "metadata": {
    "execution": {
     "iopub.execute_input": "2024-09-08T08:50:41.245591Z",
     "iopub.status.busy": "2024-09-08T08:50:41.244917Z",
     "iopub.status.idle": "2024-09-08T08:50:41.260440Z",
     "shell.execute_reply": "2024-09-08T08:50:41.259776Z"
    },
    "papermill": {
     "duration": 0.044182,
     "end_time": "2024-09-08T08:50:41.262370",
     "exception": false,
     "start_time": "2024-09-08T08:50:41.218188",
     "status": "completed"
    },
    "tags": []
   },
   "outputs": [],
   "source": [
    "batches=[]\n",
    "for idx,batch in enumerate(train_dataloader):\n",
    "    if(idx<10):\n",
    "        batches.append(batch)\n",
    "    break"
   ]
  },
  {
   "cell_type": "code",
   "execution_count": 68,
   "id": "f5f24b3f",
   "metadata": {
    "execution": {
     "iopub.execute_input": "2024-09-08T08:50:41.314570Z",
     "iopub.status.busy": "2024-09-08T08:50:41.314298Z",
     "iopub.status.idle": "2024-09-08T08:50:41.317929Z",
     "shell.execute_reply": "2024-09-08T08:50:41.317095Z"
    },
    "papermill": {
     "duration": 0.032027,
     "end_time": "2024-09-08T08:50:41.319822",
     "exception": false,
     "start_time": "2024-09-08T08:50:41.287795",
     "status": "completed"
    },
    "tags": []
   },
   "outputs": [],
   "source": [
    "# devices={param.is_cuda for param in model.parameters()}"
   ]
  },
  {
   "cell_type": "code",
   "execution_count": 69,
   "id": "8264c362",
   "metadata": {
    "execution": {
     "iopub.execute_input": "2024-09-08T08:50:41.372069Z",
     "iopub.status.busy": "2024-09-08T08:50:41.371770Z",
     "iopub.status.idle": "2024-09-08T08:50:41.375604Z",
     "shell.execute_reply": "2024-09-08T08:50:41.374773Z"
    },
    "papermill": {
     "duration": 0.032199,
     "end_time": "2024-09-08T08:50:41.377551",
     "exception": false,
     "start_time": "2024-09-08T08:50:41.345352",
     "status": "completed"
    },
    "tags": []
   },
   "outputs": [],
   "source": [
    "#print(devices)"
   ]
  },
  {
   "cell_type": "code",
   "execution_count": 70,
   "id": "495a796c",
   "metadata": {
    "execution": {
     "iopub.execute_input": "2024-09-08T08:50:41.429628Z",
     "iopub.status.busy": "2024-09-08T08:50:41.429353Z",
     "iopub.status.idle": "2024-09-08T08:50:41.433183Z",
     "shell.execute_reply": "2024-09-08T08:50:41.432363Z"
    },
    "papermill": {
     "duration": 0.031919,
     "end_time": "2024-09-08T08:50:41.435053",
     "exception": false,
     "start_time": "2024-09-08T08:50:41.403134",
     "status": "completed"
    },
    "tags": []
   },
   "outputs": [],
   "source": [
    "# for idx,items in enumerate(train_dataloader):\n",
    "#     print(items['product_id'].is_cuda)\n",
    "#     print(items['user_id'].is_cuda)\n",
    "#     print(items['year'].is_cuda)\n",
    "#     print(items['month'].is_cuda)\n",
    "#     print(items['day_of_week'].is_cuda)\n",
    "#     print(items['recomended'].is_cuda)\n",
    "#     break"
   ]
  },
  {
   "cell_type": "code",
   "execution_count": null,
   "id": "fc3508ca",
   "metadata": {
    "papermill": {
     "duration": 0.025384,
     "end_time": "2024-09-08T08:50:41.485848",
     "exception": false,
     "start_time": "2024-09-08T08:50:41.460464",
     "status": "completed"
    },
    "tags": []
   },
   "outputs": [],
   "source": []
  },
  {
   "cell_type": "code",
   "execution_count": 71,
   "id": "0706abc9",
   "metadata": {
    "execution": {
     "iopub.execute_input": "2024-09-08T08:50:41.538850Z",
     "iopub.status.busy": "2024-09-08T08:50:41.538066Z",
     "iopub.status.idle": "2024-09-08T09:07:00.169552Z",
     "shell.execute_reply": "2024-09-08T09:07:00.167933Z"
    },
    "papermill": {
     "duration": 978.663488,
     "end_time": "2024-09-08T09:07:00.174791",
     "exception": false,
     "start_time": "2024-09-08T08:50:41.511303",
     "status": "completed"
    },
    "scrolled": true,
    "tags": []
   },
   "outputs": [
    {
     "name": "stdout",
     "output_type": "stream",
     "text": [
      "the loss is 84985.953125\n",
      "the loss is 0.0\n",
      "the loss is 0.0\n",
      "the loss is 19.563232421875\n",
      "the loss is 0.0\n",
      "the loss is 0.0\n",
      "the loss is 0.0\n",
      "the loss is 0.0\n",
      "the loss is 0.0\n",
      "the loss is 0.0\n"
     ]
    }
   ],
   "source": [
    "#lets start the training\n",
    "n_epoch=1000\n",
    "for epoch in range(n_epoch):\n",
    "    for batch in batches:\n",
    "        #getting the shape right\n",
    "        product_id=batch['product_id']\n",
    "        user_id=batch['user_id']\n",
    "        year=batch['year']\n",
    "        month=batch['month']\n",
    "        day_of_week=batch['day_of_week']\n",
    "        hour=batch['hour']\n",
    "        recomended=batch['recomended']\n",
    "    \n",
    "        #changing the value of the recomended\n",
    "        recomended=recomended.float()\n",
    "        \n",
    "        #feed forward model\n",
    "        model_pred=model(\n",
    "            product_id,\n",
    "            user_id,\n",
    "            year,\n",
    "            month,\n",
    "            day_of_week,\n",
    "            hour\n",
    "        )\n",
    "    \n",
    "        #print(f\"loss at {epoch} epoch : is {model_pred} \")\n",
    "    \n",
    "        #calculate the loss\n",
    "        loss=loss_fn(model_pred,recomended)\n",
    "        \n",
    "        #zero grad\n",
    "        optim.zero_grad()\n",
    "        loss.backward()\n",
    "    \n",
    "        #lets clip the gradient of the module\n",
    "        #torch.nn.utils.clip_grad_norm_(model.parameters(), max_norm=1)\n",
    "        \n",
    "        optim.step() #update the gradient \n",
    "\n",
    "        #lets see the weights\n",
    "        for name,param in model.named_parameters():\n",
    "            writer.add_histogram(name,param,epoch)\n",
    "\n",
    "        #lets see the gradient norm\n",
    "        total_norm=0\n",
    "        for param in model.parameters():\n",
    "            param_norm=param.grad.data.norm(2)\n",
    "            total_norm+=param_norm.item()**2\n",
    "        \n",
    "        total_norm=total_norm**0.5\n",
    "        writer.add_scalar('gradient norm',total_norm,epoch)\n",
    "\n",
    "\n",
    "        #lets recoord the loss\n",
    "        writer.add_scalar('loss/train',loss.item(),epoch)\n",
    "        \n",
    "        \n",
    "        #display the loss every 5 epoch\n",
    "    if(epoch%100==0):\n",
    "        print(f\"the loss is {loss.item()}\")\n",
    "\n",
    "#lets close the tenosrboard\n",
    "writer.close()"
   ]
  },
  {
   "cell_type": "code",
   "execution_count": 72,
   "id": "1f2f6d18",
   "metadata": {
    "execution": {
     "iopub.execute_input": "2024-09-08T09:07:00.245189Z",
     "iopub.status.busy": "2024-09-08T09:07:00.244875Z",
     "iopub.status.idle": "2024-09-08T09:07:06.777518Z",
     "shell.execute_reply": "2024-09-08T09:07:06.776591Z"
    },
    "papermill": {
     "duration": 6.562489,
     "end_time": "2024-09-08T09:07:06.779561",
     "exception": false,
     "start_time": "2024-09-08T09:07:00.217072",
     "status": "completed"
    },
    "tags": []
   },
   "outputs": [
    {
     "data": {
      "text/plain": [
       "ERROR: Failed to launch TensorBoard (exited with 2).\n",
       "Contents of stderr:\n",
       "2024-09-08 09:07:02.197152: E external/local_xla/xla/stream_executor/cuda/cuda_dnn.cc:9261] Unable to register cuDNN factory: Attempting to register factory for plugin cuDNN when one has already been registered\n",
       "2024-09-08 09:07:02.197245: E external/local_xla/xla/stream_executor/cuda/cuda_fft.cc:607] Unable to register cuFFT factory: Attempting to register factory for plugin cuFFT when one has already been registered\n",
       "2024-09-08 09:07:02.198742: E external/local_xla/xla/stream_executor/cuda/cuda_blas.cc:1515] Unable to register cuBLAS factory: Attempting to register factory for plugin cuBLAS when one has already been registered\n",
       "usage: tensorboard [-h] [--helpfull] [--logdir PATH] [--logdir_spec PATH_SPEC]\n",
       "                   [--host ADDR] [--bind_all] [--port PORT]\n",
       "                   [--reuse_port BOOL] [--load_fast {false,auto,true}]\n",
       "                   [--extra_data_server_flags EXTRA_DATA_SERVER_FLAGS]\n",
       "                   [--grpc_creds_type {local,ssl,ssl_dev}]\n",
       "                   [--grpc_data_provider PORT] [--purge_orphaned_data BOOL]\n",
       "                   [--db URI] [--db_import] [--inspect] [--version_tb]\n",
       "                   [--tag TAG] [--event_file PATH] [--path_prefix PATH]\n",
       "                   [--window_title TEXT] [--max_reload_threads COUNT]\n",
       "                   [--reload_interval SECONDS] [--reload_task TYPE]\n",
       "                   [--reload_multifile BOOL]\n",
       "                   [--reload_multifile_inactive_secs SECONDS]\n",
       "                   [--generic_data TYPE]\n",
       "                   [--samples_per_plugin SAMPLES_PER_PLUGIN]\n",
       "                   [--detect_file_replacement BOOL]\n",
       "                   [--master_tpu_unsecure_channel ADDR]\n",
       "                   {serve,dev} ...\n",
       "tensorboard: error: argument {serve,dev}: invalid choice: 'runs/wide_deep_model' (choose from 'serve', 'dev')"
      ]
     },
     "metadata": {},
     "output_type": "display_data"
    }
   ],
   "source": [
    "%load_ext tensorboard\n",
    "\n",
    "%tensorboard -logdir runs/wide_deep_model"
   ]
  },
  {
   "cell_type": "code",
   "execution_count": null,
   "id": "7050553b",
   "metadata": {
    "papermill": {
     "duration": 0.026073,
     "end_time": "2024-09-08T09:07:06.833019",
     "exception": false,
     "start_time": "2024-09-08T09:07:06.806946",
     "status": "completed"
    },
    "tags": []
   },
   "outputs": [],
   "source": []
  },
  {
   "cell_type": "code",
   "execution_count": null,
   "id": "e72a2ff3",
   "metadata": {
    "papermill": {
     "duration": 0.025897,
     "end_time": "2024-09-08T09:07:06.885124",
     "exception": false,
     "start_time": "2024-09-08T09:07:06.859227",
     "status": "completed"
    },
    "tags": []
   },
   "outputs": [],
   "source": []
  },
  {
   "cell_type": "code",
   "execution_count": null,
   "id": "d1ee700a",
   "metadata": {
    "papermill": {
     "duration": 0.026144,
     "end_time": "2024-09-08T09:07:06.937310",
     "exception": false,
     "start_time": "2024-09-08T09:07:06.911166",
     "status": "completed"
    },
    "tags": []
   },
   "outputs": [],
   "source": []
  }
 ],
 "metadata": {
  "kaggle": {
   "accelerator": "nvidiaTeslaT4",
   "dataSources": [
    {
     "datasetId": 2038205,
     "sourceId": 3380672,
     "sourceType": "datasetVersion"
    },
    {
     "datasetId": 5468798,
     "sourceId": 9067293,
     "sourceType": "datasetVersion"
    }
   ],
   "dockerImageVersionId": 30747,
   "isGpuEnabled": true,
   "isInternetEnabled": true,
   "language": "python",
   "sourceType": "notebook"
  },
  "kernelspec": {
   "display_name": "Python 3",
   "language": "python",
   "name": "python3"
  },
  "language_info": {
   "codemirror_mode": {
    "name": "ipython",
    "version": 3
   },
   "file_extension": ".py",
   "mimetype": "text/x-python",
   "name": "python",
   "nbconvert_exporter": "python",
   "pygments_lexer": "ipython3",
   "version": "3.10.13"
  },
  "papermill": {
   "default_parameters": {},
   "duration": 1046.006162,
   "end_time": "2024-09-08T09:07:10.340272",
   "environment_variables": {},
   "exception": null,
   "input_path": "__notebook__.ipynb",
   "output_path": "__notebook__.ipynb",
   "parameters": {},
   "start_time": "2024-09-08T08:49:44.334110",
   "version": "2.5.0"
  }
 },
 "nbformat": 4,
 "nbformat_minor": 5
}
