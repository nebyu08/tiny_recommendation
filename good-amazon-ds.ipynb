{
 "cells": [
  {
   "cell_type": "code",
   "execution_count": 1,
   "id": "41642a91",
   "metadata": {
    "_cell_guid": "b1076dfc-b9ad-4769-8c92-a6c4dae69d19",
    "_uuid": "8f2839f25d086af736a60e9eeb907d3b93b6e0e5",
    "execution": {
     "iopub.execute_input": "2024-07-31T08:17:42.281184Z",
     "iopub.status.busy": "2024-07-31T08:17:42.280690Z",
     "iopub.status.idle": "2024-07-31T08:17:49.972124Z",
     "shell.execute_reply": "2024-07-31T08:17:49.970969Z"
    },
    "papermill": {
     "duration": 7.708278,
     "end_time": "2024-07-31T08:17:49.974919",
     "exception": false,
     "start_time": "2024-07-31T08:17:42.266641",
     "status": "completed"
    },
    "tags": []
   },
   "outputs": [],
   "source": [
    "import os\n",
    "import torch\n",
    "import pandas as pd\n",
    "import matplotlib.pyplot as plt\n",
    "from torch.utils.data import Dataset,DataLoader\n",
    "from datasets import load_dataset\n",
    "from sklearn.model_selection import train_test_split"
   ]
  },
  {
   "cell_type": "markdown",
   "id": "03fe3f5b",
   "metadata": {
    "papermill": {
     "duration": 0.01157,
     "end_time": "2024-07-31T08:17:49.998182",
     "exception": false,
     "start_time": "2024-07-31T08:17:49.986612",
     "status": "completed"
    },
    "tags": []
   },
   "source": [
    "# importing the dataset"
   ]
  },
  {
   "cell_type": "code",
   "execution_count": 2,
   "id": "de5f632c",
   "metadata": {
    "execution": {
     "iopub.execute_input": "2024-07-31T08:17:50.024054Z",
     "iopub.status.busy": "2024-07-31T08:17:50.022412Z",
     "iopub.status.idle": "2024-07-31T08:17:58.750277Z",
     "shell.execute_reply": "2024-07-31T08:17:58.749147Z"
    },
    "papermill": {
     "duration": 8.74337,
     "end_time": "2024-07-31T08:17:58.753064",
     "exception": false,
     "start_time": "2024-07-31T08:17:50.009694",
     "status": "completed"
    },
    "tags": []
   },
   "outputs": [],
   "source": [
    "#import dataset\n",
    "ds=pd.read_csv('/kaggle/input/amazon-product-reviews/Reviews.csv')"
   ]
  },
  {
   "cell_type": "code",
   "execution_count": 3,
   "id": "b7c3bcb1",
   "metadata": {
    "execution": {
     "iopub.execute_input": "2024-07-31T08:17:58.778554Z",
     "iopub.status.busy": "2024-07-31T08:17:58.778170Z",
     "iopub.status.idle": "2024-07-31T08:17:58.804951Z",
     "shell.execute_reply": "2024-07-31T08:17:58.803790Z"
    },
    "papermill": {
     "duration": 0.042471,
     "end_time": "2024-07-31T08:17:58.807558",
     "exception": false,
     "start_time": "2024-07-31T08:17:58.765087",
     "status": "completed"
    },
    "tags": []
   },
   "outputs": [
    {
     "data": {
      "text/html": [
       "<div>\n",
       "<style scoped>\n",
       "    .dataframe tbody tr th:only-of-type {\n",
       "        vertical-align: middle;\n",
       "    }\n",
       "\n",
       "    .dataframe tbody tr th {\n",
       "        vertical-align: top;\n",
       "    }\n",
       "\n",
       "    .dataframe thead th {\n",
       "        text-align: right;\n",
       "    }\n",
       "</style>\n",
       "<table border=\"1\" class=\"dataframe\">\n",
       "  <thead>\n",
       "    <tr style=\"text-align: right;\">\n",
       "      <th></th>\n",
       "      <th>Id</th>\n",
       "      <th>ProductId</th>\n",
       "      <th>UserId</th>\n",
       "      <th>ProfileName</th>\n",
       "      <th>HelpfulnessNumerator</th>\n",
       "      <th>HelpfulnessDenominator</th>\n",
       "      <th>Score</th>\n",
       "      <th>Time</th>\n",
       "      <th>Summary</th>\n",
       "      <th>Text</th>\n",
       "    </tr>\n",
       "  </thead>\n",
       "  <tbody>\n",
       "    <tr>\n",
       "      <th>0</th>\n",
       "      <td>1</td>\n",
       "      <td>B001E4KFG0</td>\n",
       "      <td>A3SGXH7AUHU8GW</td>\n",
       "      <td>delmartian</td>\n",
       "      <td>1</td>\n",
       "      <td>1</td>\n",
       "      <td>5</td>\n",
       "      <td>1303862400</td>\n",
       "      <td>Good Quality Dog Food</td>\n",
       "      <td>I have bought several of the Vitality canned d...</td>\n",
       "    </tr>\n",
       "    <tr>\n",
       "      <th>1</th>\n",
       "      <td>2</td>\n",
       "      <td>B00813GRG4</td>\n",
       "      <td>A1D87F6ZCVE5NK</td>\n",
       "      <td>dll pa</td>\n",
       "      <td>0</td>\n",
       "      <td>0</td>\n",
       "      <td>1</td>\n",
       "      <td>1346976000</td>\n",
       "      <td>Not as Advertised</td>\n",
       "      <td>Product arrived labeled as Jumbo Salted Peanut...</td>\n",
       "    </tr>\n",
       "    <tr>\n",
       "      <th>2</th>\n",
       "      <td>3</td>\n",
       "      <td>B000LQOCH0</td>\n",
       "      <td>ABXLMWJIXXAIN</td>\n",
       "      <td>Natalia Corres \"Natalia Corres\"</td>\n",
       "      <td>1</td>\n",
       "      <td>1</td>\n",
       "      <td>4</td>\n",
       "      <td>1219017600</td>\n",
       "      <td>\"Delight\" says it all</td>\n",
       "      <td>This is a confection that has been around a fe...</td>\n",
       "    </tr>\n",
       "    <tr>\n",
       "      <th>3</th>\n",
       "      <td>4</td>\n",
       "      <td>B000UA0QIQ</td>\n",
       "      <td>A395BORC6FGVXV</td>\n",
       "      <td>Karl</td>\n",
       "      <td>3</td>\n",
       "      <td>3</td>\n",
       "      <td>2</td>\n",
       "      <td>1307923200</td>\n",
       "      <td>Cough Medicine</td>\n",
       "      <td>If you are looking for the secret ingredient i...</td>\n",
       "    </tr>\n",
       "    <tr>\n",
       "      <th>4</th>\n",
       "      <td>5</td>\n",
       "      <td>B006K2ZZ7K</td>\n",
       "      <td>A1UQRSCLF8GW1T</td>\n",
       "      <td>Michael D. Bigham \"M. Wassir\"</td>\n",
       "      <td>0</td>\n",
       "      <td>0</td>\n",
       "      <td>5</td>\n",
       "      <td>1350777600</td>\n",
       "      <td>Great taffy</td>\n",
       "      <td>Great taffy at a great price.  There was a wid...</td>\n",
       "    </tr>\n",
       "  </tbody>\n",
       "</table>\n",
       "</div>"
      ],
      "text/plain": [
       "   Id   ProductId          UserId                      ProfileName  \\\n",
       "0   1  B001E4KFG0  A3SGXH7AUHU8GW                       delmartian   \n",
       "1   2  B00813GRG4  A1D87F6ZCVE5NK                           dll pa   \n",
       "2   3  B000LQOCH0   ABXLMWJIXXAIN  Natalia Corres \"Natalia Corres\"   \n",
       "3   4  B000UA0QIQ  A395BORC6FGVXV                             Karl   \n",
       "4   5  B006K2ZZ7K  A1UQRSCLF8GW1T    Michael D. Bigham \"M. Wassir\"   \n",
       "\n",
       "   HelpfulnessNumerator  HelpfulnessDenominator  Score        Time  \\\n",
       "0                     1                       1      5  1303862400   \n",
       "1                     0                       0      1  1346976000   \n",
       "2                     1                       1      4  1219017600   \n",
       "3                     3                       3      2  1307923200   \n",
       "4                     0                       0      5  1350777600   \n",
       "\n",
       "                 Summary                                               Text  \n",
       "0  Good Quality Dog Food  I have bought several of the Vitality canned d...  \n",
       "1      Not as Advertised  Product arrived labeled as Jumbo Salted Peanut...  \n",
       "2  \"Delight\" says it all  This is a confection that has been around a fe...  \n",
       "3         Cough Medicine  If you are looking for the secret ingredient i...  \n",
       "4            Great taffy  Great taffy at a great price.  There was a wid...  "
      ]
     },
     "execution_count": 3,
     "metadata": {},
     "output_type": "execute_result"
    }
   ],
   "source": [
    "ds.head()"
   ]
  },
  {
   "cell_type": "markdown",
   "id": "5b7c9f09",
   "metadata": {
    "papermill": {
     "duration": 0.01134,
     "end_time": "2024-07-31T08:17:58.830645",
     "exception": false,
     "start_time": "2024-07-31T08:17:58.819305",
     "status": "completed"
    },
    "tags": []
   },
   "source": [
    "# EDA"
   ]
  },
  {
   "cell_type": "code",
   "execution_count": 4,
   "id": "b690ff74",
   "metadata": {
    "execution": {
     "iopub.execute_input": "2024-07-31T08:17:58.856316Z",
     "iopub.status.busy": "2024-07-31T08:17:58.855894Z",
     "iopub.status.idle": "2024-07-31T08:17:59.218089Z",
     "shell.execute_reply": "2024-07-31T08:17:59.216958Z"
    },
    "papermill": {
     "duration": 0.377752,
     "end_time": "2024-07-31T08:17:59.220775",
     "exception": false,
     "start_time": "2024-07-31T08:17:58.843023",
     "status": "completed"
    },
    "tags": []
   },
   "outputs": [
    {
     "name": "stdout",
     "output_type": "stream",
     "text": [
      "<class 'pandas.core.frame.DataFrame'>\n",
      "RangeIndex: 568454 entries, 0 to 568453\n",
      "Data columns (total 10 columns):\n",
      " #   Column                  Non-Null Count   Dtype \n",
      "---  ------                  --------------   ----- \n",
      " 0   Id                      568454 non-null  int64 \n",
      " 1   ProductId               568454 non-null  object\n",
      " 2   UserId                  568454 non-null  object\n",
      " 3   ProfileName             568428 non-null  object\n",
      " 4   HelpfulnessNumerator    568454 non-null  int64 \n",
      " 5   HelpfulnessDenominator  568454 non-null  int64 \n",
      " 6   Score                   568454 non-null  int64 \n",
      " 7   Time                    568454 non-null  int64 \n",
      " 8   Summary                 568427 non-null  object\n",
      " 9   Text                    568454 non-null  object\n",
      "dtypes: int64(5), object(5)\n",
      "memory usage: 43.4+ MB\n"
     ]
    }
   ],
   "source": [
    "ds.info()"
   ]
  },
  {
   "cell_type": "code",
   "execution_count": 5,
   "id": "51a50e2f",
   "metadata": {
    "execution": {
     "iopub.execute_input": "2024-07-31T08:17:59.246430Z",
     "iopub.status.busy": "2024-07-31T08:17:59.246026Z",
     "iopub.status.idle": "2024-07-31T08:17:59.591252Z",
     "shell.execute_reply": "2024-07-31T08:17:59.590037Z"
    },
    "papermill": {
     "duration": 0.361146,
     "end_time": "2024-07-31T08:17:59.593853",
     "exception": false,
     "start_time": "2024-07-31T08:17:59.232707",
     "status": "completed"
    },
    "tags": []
   },
   "outputs": [
    {
     "data": {
      "text/plain": [
       "Id                         0\n",
       "ProductId                  0\n",
       "UserId                     0\n",
       "ProfileName               26\n",
       "HelpfulnessNumerator       0\n",
       "HelpfulnessDenominator     0\n",
       "Score                      0\n",
       "Time                       0\n",
       "Summary                   27\n",
       "Text                       0\n",
       "dtype: int64"
      ]
     },
     "execution_count": 5,
     "metadata": {},
     "output_type": "execute_result"
    }
   ],
   "source": [
    "ds.isnull().sum()"
   ]
  },
  {
   "cell_type": "code",
   "execution_count": 6,
   "id": "238c0c76",
   "metadata": {
    "execution": {
     "iopub.execute_input": "2024-07-31T08:17:59.621223Z",
     "iopub.status.busy": "2024-07-31T08:17:59.620297Z",
     "iopub.status.idle": "2024-07-31T08:18:00.025547Z",
     "shell.execute_reply": "2024-07-31T08:18:00.024357Z"
    },
    "papermill": {
     "duration": 0.421641,
     "end_time": "2024-07-31T08:18:00.028486",
     "exception": false,
     "start_time": "2024-07-31T08:17:59.606845",
     "status": "completed"
    },
    "tags": []
   },
   "outputs": [],
   "source": [
    "ds=ds.dropna(how='any')"
   ]
  },
  {
   "cell_type": "code",
   "execution_count": 7,
   "id": "a4ffbf44",
   "metadata": {
    "execution": {
     "iopub.execute_input": "2024-07-31T08:18:00.054367Z",
     "iopub.status.busy": "2024-07-31T08:18:00.053947Z",
     "iopub.status.idle": "2024-07-31T08:18:00.069368Z",
     "shell.execute_reply": "2024-07-31T08:18:00.068263Z"
    },
    "papermill": {
     "duration": 0.03114,
     "end_time": "2024-07-31T08:18:00.071896",
     "exception": false,
     "start_time": "2024-07-31T08:18:00.040756",
     "status": "completed"
    },
    "tags": []
   },
   "outputs": [
    {
     "data": {
      "text/html": [
       "<div>\n",
       "<style scoped>\n",
       "    .dataframe tbody tr th:only-of-type {\n",
       "        vertical-align: middle;\n",
       "    }\n",
       "\n",
       "    .dataframe tbody tr th {\n",
       "        vertical-align: top;\n",
       "    }\n",
       "\n",
       "    .dataframe thead th {\n",
       "        text-align: right;\n",
       "    }\n",
       "</style>\n",
       "<table border=\"1\" class=\"dataframe\">\n",
       "  <thead>\n",
       "    <tr style=\"text-align: right;\">\n",
       "      <th></th>\n",
       "      <th>Id</th>\n",
       "      <th>ProductId</th>\n",
       "      <th>UserId</th>\n",
       "      <th>ProfileName</th>\n",
       "      <th>HelpfulnessNumerator</th>\n",
       "      <th>HelpfulnessDenominator</th>\n",
       "      <th>Score</th>\n",
       "      <th>Time</th>\n",
       "      <th>Summary</th>\n",
       "      <th>Text</th>\n",
       "    </tr>\n",
       "  </thead>\n",
       "  <tbody>\n",
       "    <tr>\n",
       "      <th>0</th>\n",
       "      <td>1</td>\n",
       "      <td>B001E4KFG0</td>\n",
       "      <td>A3SGXH7AUHU8GW</td>\n",
       "      <td>delmartian</td>\n",
       "      <td>1</td>\n",
       "      <td>1</td>\n",
       "      <td>5</td>\n",
       "      <td>1303862400</td>\n",
       "      <td>Good Quality Dog Food</td>\n",
       "      <td>I have bought several of the Vitality canned d...</td>\n",
       "    </tr>\n",
       "    <tr>\n",
       "      <th>1</th>\n",
       "      <td>2</td>\n",
       "      <td>B00813GRG4</td>\n",
       "      <td>A1D87F6ZCVE5NK</td>\n",
       "      <td>dll pa</td>\n",
       "      <td>0</td>\n",
       "      <td>0</td>\n",
       "      <td>1</td>\n",
       "      <td>1346976000</td>\n",
       "      <td>Not as Advertised</td>\n",
       "      <td>Product arrived labeled as Jumbo Salted Peanut...</td>\n",
       "    </tr>\n",
       "    <tr>\n",
       "      <th>2</th>\n",
       "      <td>3</td>\n",
       "      <td>B000LQOCH0</td>\n",
       "      <td>ABXLMWJIXXAIN</td>\n",
       "      <td>Natalia Corres \"Natalia Corres\"</td>\n",
       "      <td>1</td>\n",
       "      <td>1</td>\n",
       "      <td>4</td>\n",
       "      <td>1219017600</td>\n",
       "      <td>\"Delight\" says it all</td>\n",
       "      <td>This is a confection that has been around a fe...</td>\n",
       "    </tr>\n",
       "    <tr>\n",
       "      <th>3</th>\n",
       "      <td>4</td>\n",
       "      <td>B000UA0QIQ</td>\n",
       "      <td>A395BORC6FGVXV</td>\n",
       "      <td>Karl</td>\n",
       "      <td>3</td>\n",
       "      <td>3</td>\n",
       "      <td>2</td>\n",
       "      <td>1307923200</td>\n",
       "      <td>Cough Medicine</td>\n",
       "      <td>If you are looking for the secret ingredient i...</td>\n",
       "    </tr>\n",
       "    <tr>\n",
       "      <th>4</th>\n",
       "      <td>5</td>\n",
       "      <td>B006K2ZZ7K</td>\n",
       "      <td>A1UQRSCLF8GW1T</td>\n",
       "      <td>Michael D. Bigham \"M. Wassir\"</td>\n",
       "      <td>0</td>\n",
       "      <td>0</td>\n",
       "      <td>5</td>\n",
       "      <td>1350777600</td>\n",
       "      <td>Great taffy</td>\n",
       "      <td>Great taffy at a great price.  There was a wid...</td>\n",
       "    </tr>\n",
       "  </tbody>\n",
       "</table>\n",
       "</div>"
      ],
      "text/plain": [
       "   Id   ProductId          UserId                      ProfileName  \\\n",
       "0   1  B001E4KFG0  A3SGXH7AUHU8GW                       delmartian   \n",
       "1   2  B00813GRG4  A1D87F6ZCVE5NK                           dll pa   \n",
       "2   3  B000LQOCH0   ABXLMWJIXXAIN  Natalia Corres \"Natalia Corres\"   \n",
       "3   4  B000UA0QIQ  A395BORC6FGVXV                             Karl   \n",
       "4   5  B006K2ZZ7K  A1UQRSCLF8GW1T    Michael D. Bigham \"M. Wassir\"   \n",
       "\n",
       "   HelpfulnessNumerator  HelpfulnessDenominator  Score        Time  \\\n",
       "0                     1                       1      5  1303862400   \n",
       "1                     0                       0      1  1346976000   \n",
       "2                     1                       1      4  1219017600   \n",
       "3                     3                       3      2  1307923200   \n",
       "4                     0                       0      5  1350777600   \n",
       "\n",
       "                 Summary                                               Text  \n",
       "0  Good Quality Dog Food  I have bought several of the Vitality canned d...  \n",
       "1      Not as Advertised  Product arrived labeled as Jumbo Salted Peanut...  \n",
       "2  \"Delight\" says it all  This is a confection that has been around a fe...  \n",
       "3         Cough Medicine  If you are looking for the secret ingredient i...  \n",
       "4            Great taffy  Great taffy at a great price.  There was a wid...  "
      ]
     },
     "execution_count": 7,
     "metadata": {},
     "output_type": "execute_result"
    }
   ],
   "source": [
    "ds.head()"
   ]
  },
  {
   "cell_type": "code",
   "execution_count": 8,
   "id": "7e9557c9",
   "metadata": {
    "execution": {
     "iopub.execute_input": "2024-07-31T08:18:00.098860Z",
     "iopub.status.busy": "2024-07-31T08:18:00.098418Z",
     "iopub.status.idle": "2024-07-31T08:18:00.103335Z",
     "shell.execute_reply": "2024-07-31T08:18:00.102170Z"
    },
    "papermill": {
     "duration": 0.02115,
     "end_time": "2024-07-31T08:18:00.105674",
     "exception": false,
     "start_time": "2024-07-31T08:18:00.084524",
     "status": "completed"
    },
    "tags": []
   },
   "outputs": [],
   "source": [
    "#ds[ds['UserId']]"
   ]
  },
  {
   "cell_type": "code",
   "execution_count": 9,
   "id": "d53b104d",
   "metadata": {
    "execution": {
     "iopub.execute_input": "2024-07-31T08:18:00.132561Z",
     "iopub.status.busy": "2024-07-31T08:18:00.132181Z",
     "iopub.status.idle": "2024-07-31T08:18:00.157388Z",
     "shell.execute_reply": "2024-07-31T08:18:00.156433Z"
    },
    "papermill": {
     "duration": 0.041994,
     "end_time": "2024-07-31T08:18:00.160182",
     "exception": false,
     "start_time": "2024-07-31T08:18:00.118188",
     "status": "completed"
    },
    "tags": []
   },
   "outputs": [],
   "source": [
    "ds.drop(['ProfileName','HelpfulnessNumerator','HelpfulnessDenominator','Summary','Text'],axis=1,inplace=True)"
   ]
  },
  {
   "cell_type": "code",
   "execution_count": 10,
   "id": "5aff2f55",
   "metadata": {
    "execution": {
     "iopub.execute_input": "2024-07-31T08:18:00.186939Z",
     "iopub.status.busy": "2024-07-31T08:18:00.186431Z",
     "iopub.status.idle": "2024-07-31T08:18:00.218762Z",
     "shell.execute_reply": "2024-07-31T08:18:00.217587Z"
    },
    "papermill": {
     "duration": 0.048516,
     "end_time": "2024-07-31T08:18:00.221127",
     "exception": false,
     "start_time": "2024-07-31T08:18:00.172611",
     "status": "completed"
    },
    "tags": []
   },
   "outputs": [
    {
     "data": {
      "text/plain": [
       "Time\n",
       "1350345600    1143\n",
       "1322179200    1088\n",
       "1322438400    1070\n",
       "1346889600    1018\n",
       "1344211200     989\n",
       "              ... \n",
       "1095638400       1\n",
       "1102636800       1\n",
       "1080259200       1\n",
       "1087689600       1\n",
       "1069718400       1\n",
       "Name: count, Length: 3168, dtype: int64"
      ]
     },
     "execution_count": 10,
     "metadata": {},
     "output_type": "execute_result"
    }
   ],
   "source": [
    "ds['Time'].value_counts()"
   ]
  },
  {
   "cell_type": "code",
   "execution_count": 11,
   "id": "faf2b25c",
   "metadata": {
    "execution": {
     "iopub.execute_input": "2024-07-31T08:18:00.247961Z",
     "iopub.status.busy": "2024-07-31T08:18:00.247482Z",
     "iopub.status.idle": "2024-07-31T08:18:00.383583Z",
     "shell.execute_reply": "2024-07-31T08:18:00.382125Z"
    },
    "papermill": {
     "duration": 0.152684,
     "end_time": "2024-07-31T08:18:00.386372",
     "exception": false,
     "start_time": "2024-07-31T08:18:00.233688",
     "status": "completed"
    },
    "tags": []
   },
   "outputs": [
    {
     "name": "stdout",
     "output_type": "stream",
     "text": [
      "<class 'pandas.core.frame.DataFrame'>\n",
      "Index: 568401 entries, 0 to 568453\n",
      "Data columns (total 5 columns):\n",
      " #   Column     Non-Null Count   Dtype \n",
      "---  ------     --------------   ----- \n",
      " 0   Id         568401 non-null  int64 \n",
      " 1   ProductId  568401 non-null  object\n",
      " 2   UserId     568401 non-null  object\n",
      " 3   Score      568401 non-null  int64 \n",
      " 4   Time       568401 non-null  int64 \n",
      "dtypes: int64(3), object(2)\n",
      "memory usage: 26.0+ MB\n"
     ]
    }
   ],
   "source": [
    "ds.info()"
   ]
  },
  {
   "cell_type": "markdown",
   "id": "6f050de5",
   "metadata": {
    "papermill": {
     "duration": 0.01308,
     "end_time": "2024-07-31T08:18:00.412989",
     "exception": false,
     "start_time": "2024-07-31T08:18:00.399909",
     "status": "completed"
    },
    "tags": []
   },
   "source": [
    "# lets make more features:\n",
    "    * day of the week\n",
    "    * month\n",
    "    *time of the day(Hour)"
   ]
  },
  {
   "cell_type": "code",
   "execution_count": 12,
   "id": "0f7820d2",
   "metadata": {
    "execution": {
     "iopub.execute_input": "2024-07-31T08:18:00.440023Z",
     "iopub.status.busy": "2024-07-31T08:18:00.439551Z",
     "iopub.status.idle": "2024-07-31T08:18:00.561191Z",
     "shell.execute_reply": "2024-07-31T08:18:00.560168Z"
    },
    "papermill": {
     "duration": 0.138275,
     "end_time": "2024-07-31T08:18:00.563937",
     "exception": false,
     "start_time": "2024-07-31T08:18:00.425662",
     "status": "completed"
    },
    "tags": []
   },
   "outputs": [],
   "source": [
    "#change the time stamp into datatime\n",
    "ds['Time']=pd.to_datetime(ds['Time'],unit='s',utc=True)\n",
    "ds['Time']=ds['Time'].dt.tz_convert('America/New_York')"
   ]
  },
  {
   "cell_type": "code",
   "execution_count": 13,
   "id": "7848626f",
   "metadata": {
    "execution": {
     "iopub.execute_input": "2024-07-31T08:18:00.591682Z",
     "iopub.status.busy": "2024-07-31T08:18:00.590753Z",
     "iopub.status.idle": "2024-07-31T08:18:00.609688Z",
     "shell.execute_reply": "2024-07-31T08:18:00.608616Z"
    },
    "papermill": {
     "duration": 0.035731,
     "end_time": "2024-07-31T08:18:00.612410",
     "exception": false,
     "start_time": "2024-07-31T08:18:00.576679",
     "status": "completed"
    },
    "tags": []
   },
   "outputs": [
    {
     "data": {
      "text/html": [
       "<div>\n",
       "<style scoped>\n",
       "    .dataframe tbody tr th:only-of-type {\n",
       "        vertical-align: middle;\n",
       "    }\n",
       "\n",
       "    .dataframe tbody tr th {\n",
       "        vertical-align: top;\n",
       "    }\n",
       "\n",
       "    .dataframe thead th {\n",
       "        text-align: right;\n",
       "    }\n",
       "</style>\n",
       "<table border=\"1\" class=\"dataframe\">\n",
       "  <thead>\n",
       "    <tr style=\"text-align: right;\">\n",
       "      <th></th>\n",
       "      <th>Id</th>\n",
       "      <th>ProductId</th>\n",
       "      <th>UserId</th>\n",
       "      <th>Score</th>\n",
       "      <th>Time</th>\n",
       "    </tr>\n",
       "  </thead>\n",
       "  <tbody>\n",
       "    <tr>\n",
       "      <th>0</th>\n",
       "      <td>1</td>\n",
       "      <td>B001E4KFG0</td>\n",
       "      <td>A3SGXH7AUHU8GW</td>\n",
       "      <td>5</td>\n",
       "      <td>2011-04-26 20:00:00-04:00</td>\n",
       "    </tr>\n",
       "    <tr>\n",
       "      <th>1</th>\n",
       "      <td>2</td>\n",
       "      <td>B00813GRG4</td>\n",
       "      <td>A1D87F6ZCVE5NK</td>\n",
       "      <td>1</td>\n",
       "      <td>2012-09-06 20:00:00-04:00</td>\n",
       "    </tr>\n",
       "    <tr>\n",
       "      <th>2</th>\n",
       "      <td>3</td>\n",
       "      <td>B000LQOCH0</td>\n",
       "      <td>ABXLMWJIXXAIN</td>\n",
       "      <td>4</td>\n",
       "      <td>2008-08-17 20:00:00-04:00</td>\n",
       "    </tr>\n",
       "    <tr>\n",
       "      <th>3</th>\n",
       "      <td>4</td>\n",
       "      <td>B000UA0QIQ</td>\n",
       "      <td>A395BORC6FGVXV</td>\n",
       "      <td>2</td>\n",
       "      <td>2011-06-12 20:00:00-04:00</td>\n",
       "    </tr>\n",
       "    <tr>\n",
       "      <th>4</th>\n",
       "      <td>5</td>\n",
       "      <td>B006K2ZZ7K</td>\n",
       "      <td>A1UQRSCLF8GW1T</td>\n",
       "      <td>5</td>\n",
       "      <td>2012-10-20 20:00:00-04:00</td>\n",
       "    </tr>\n",
       "  </tbody>\n",
       "</table>\n",
       "</div>"
      ],
      "text/plain": [
       "   Id   ProductId          UserId  Score                      Time\n",
       "0   1  B001E4KFG0  A3SGXH7AUHU8GW      5 2011-04-26 20:00:00-04:00\n",
       "1   2  B00813GRG4  A1D87F6ZCVE5NK      1 2012-09-06 20:00:00-04:00\n",
       "2   3  B000LQOCH0   ABXLMWJIXXAIN      4 2008-08-17 20:00:00-04:00\n",
       "3   4  B000UA0QIQ  A395BORC6FGVXV      2 2011-06-12 20:00:00-04:00\n",
       "4   5  B006K2ZZ7K  A1UQRSCLF8GW1T      5 2012-10-20 20:00:00-04:00"
      ]
     },
     "execution_count": 13,
     "metadata": {},
     "output_type": "execute_result"
    }
   ],
   "source": [
    "ds.head()"
   ]
  },
  {
   "cell_type": "code",
   "execution_count": 14,
   "id": "48c8fc73",
   "metadata": {
    "execution": {
     "iopub.execute_input": "2024-07-31T08:18:00.640008Z",
     "iopub.status.busy": "2024-07-31T08:18:00.639575Z",
     "iopub.status.idle": "2024-07-31T08:18:00.653001Z",
     "shell.execute_reply": "2024-07-31T08:18:00.651551Z"
    },
    "papermill": {
     "duration": 0.030039,
     "end_time": "2024-07-31T08:18:00.655529",
     "exception": false,
     "start_time": "2024-07-31T08:18:00.625490",
     "status": "completed"
    },
    "tags": []
   },
   "outputs": [
    {
     "data": {
      "text/html": [
       "<div>\n",
       "<style scoped>\n",
       "    .dataframe tbody tr th:only-of-type {\n",
       "        vertical-align: middle;\n",
       "    }\n",
       "\n",
       "    .dataframe tbody tr th {\n",
       "        vertical-align: top;\n",
       "    }\n",
       "\n",
       "    .dataframe thead th {\n",
       "        text-align: right;\n",
       "    }\n",
       "</style>\n",
       "<table border=\"1\" class=\"dataframe\">\n",
       "  <thead>\n",
       "    <tr style=\"text-align: right;\">\n",
       "      <th></th>\n",
       "      <th>Id</th>\n",
       "      <th>ProductId</th>\n",
       "      <th>UserId</th>\n",
       "      <th>Score</th>\n",
       "      <th>Time</th>\n",
       "    </tr>\n",
       "  </thead>\n",
       "  <tbody>\n",
       "    <tr>\n",
       "      <th>0</th>\n",
       "      <td>1</td>\n",
       "      <td>B001E4KFG0</td>\n",
       "      <td>A3SGXH7AUHU8GW</td>\n",
       "      <td>5</td>\n",
       "      <td>2011-04-26 20:00:00-04:00</td>\n",
       "    </tr>\n",
       "    <tr>\n",
       "      <th>1</th>\n",
       "      <td>2</td>\n",
       "      <td>B00813GRG4</td>\n",
       "      <td>A1D87F6ZCVE5NK</td>\n",
       "      <td>1</td>\n",
       "      <td>2012-09-06 20:00:00-04:00</td>\n",
       "    </tr>\n",
       "    <tr>\n",
       "      <th>2</th>\n",
       "      <td>3</td>\n",
       "      <td>B000LQOCH0</td>\n",
       "      <td>ABXLMWJIXXAIN</td>\n",
       "      <td>4</td>\n",
       "      <td>2008-08-17 20:00:00-04:00</td>\n",
       "    </tr>\n",
       "    <tr>\n",
       "      <th>3</th>\n",
       "      <td>4</td>\n",
       "      <td>B000UA0QIQ</td>\n",
       "      <td>A395BORC6FGVXV</td>\n",
       "      <td>2</td>\n",
       "      <td>2011-06-12 20:00:00-04:00</td>\n",
       "    </tr>\n",
       "    <tr>\n",
       "      <th>4</th>\n",
       "      <td>5</td>\n",
       "      <td>B006K2ZZ7K</td>\n",
       "      <td>A1UQRSCLF8GW1T</td>\n",
       "      <td>5</td>\n",
       "      <td>2012-10-20 20:00:00-04:00</td>\n",
       "    </tr>\n",
       "  </tbody>\n",
       "</table>\n",
       "</div>"
      ],
      "text/plain": [
       "   Id   ProductId          UserId  Score                      Time\n",
       "0   1  B001E4KFG0  A3SGXH7AUHU8GW      5 2011-04-26 20:00:00-04:00\n",
       "1   2  B00813GRG4  A1D87F6ZCVE5NK      1 2012-09-06 20:00:00-04:00\n",
       "2   3  B000LQOCH0   ABXLMWJIXXAIN      4 2008-08-17 20:00:00-04:00\n",
       "3   4  B000UA0QIQ  A395BORC6FGVXV      2 2011-06-12 20:00:00-04:00\n",
       "4   5  B006K2ZZ7K  A1UQRSCLF8GW1T      5 2012-10-20 20:00:00-04:00"
      ]
     },
     "execution_count": 14,
     "metadata": {},
     "output_type": "execute_result"
    }
   ],
   "source": [
    "ds.head()"
   ]
  },
  {
   "cell_type": "code",
   "execution_count": 15,
   "id": "b98e5cf2",
   "metadata": {
    "execution": {
     "iopub.execute_input": "2024-07-31T08:18:00.684408Z",
     "iopub.status.busy": "2024-07-31T08:18:00.684028Z",
     "iopub.status.idle": "2024-07-31T08:18:01.283549Z",
     "shell.execute_reply": "2024-07-31T08:18:01.282359Z"
    },
    "papermill": {
     "duration": 0.617674,
     "end_time": "2024-07-31T08:18:01.286361",
     "exception": false,
     "start_time": "2024-07-31T08:18:00.668687",
     "status": "completed"
    },
    "tags": []
   },
   "outputs": [],
   "source": [
    "#year\n",
    "ds['year']=ds['Time'].dt.year\n",
    "#month\n",
    "ds['month']=ds['Time'].dt.month\n",
    "#week\n",
    "ds['day_of_week']=ds['Time'].dt.dayofweek\n",
    "#hour\n",
    "ds['hour']=ds['Time'].dt.time"
   ]
  },
  {
   "cell_type": "code",
   "execution_count": 16,
   "id": "c3372d28",
   "metadata": {
    "execution": {
     "iopub.execute_input": "2024-07-31T08:18:01.314907Z",
     "iopub.status.busy": "2024-07-31T08:18:01.314437Z",
     "iopub.status.idle": "2024-07-31T08:18:01.329247Z",
     "shell.execute_reply": "2024-07-31T08:18:01.328165Z"
    },
    "papermill": {
     "duration": 0.032374,
     "end_time": "2024-07-31T08:18:01.331995",
     "exception": false,
     "start_time": "2024-07-31T08:18:01.299621",
     "status": "completed"
    },
    "tags": []
   },
   "outputs": [
    {
     "data": {
      "text/html": [
       "<div>\n",
       "<style scoped>\n",
       "    .dataframe tbody tr th:only-of-type {\n",
       "        vertical-align: middle;\n",
       "    }\n",
       "\n",
       "    .dataframe tbody tr th {\n",
       "        vertical-align: top;\n",
       "    }\n",
       "\n",
       "    .dataframe thead th {\n",
       "        text-align: right;\n",
       "    }\n",
       "</style>\n",
       "<table border=\"1\" class=\"dataframe\">\n",
       "  <thead>\n",
       "    <tr style=\"text-align: right;\">\n",
       "      <th></th>\n",
       "      <th>Id</th>\n",
       "      <th>ProductId</th>\n",
       "      <th>UserId</th>\n",
       "      <th>Score</th>\n",
       "      <th>Time</th>\n",
       "      <th>year</th>\n",
       "      <th>month</th>\n",
       "      <th>day_of_week</th>\n",
       "      <th>hour</th>\n",
       "    </tr>\n",
       "  </thead>\n",
       "  <tbody>\n",
       "    <tr>\n",
       "      <th>0</th>\n",
       "      <td>1</td>\n",
       "      <td>B001E4KFG0</td>\n",
       "      <td>A3SGXH7AUHU8GW</td>\n",
       "      <td>5</td>\n",
       "      <td>2011-04-26 20:00:00-04:00</td>\n",
       "      <td>2011</td>\n",
       "      <td>4</td>\n",
       "      <td>1</td>\n",
       "      <td>20:00:00</td>\n",
       "    </tr>\n",
       "    <tr>\n",
       "      <th>1</th>\n",
       "      <td>2</td>\n",
       "      <td>B00813GRG4</td>\n",
       "      <td>A1D87F6ZCVE5NK</td>\n",
       "      <td>1</td>\n",
       "      <td>2012-09-06 20:00:00-04:00</td>\n",
       "      <td>2012</td>\n",
       "      <td>9</td>\n",
       "      <td>3</td>\n",
       "      <td>20:00:00</td>\n",
       "    </tr>\n",
       "    <tr>\n",
       "      <th>2</th>\n",
       "      <td>3</td>\n",
       "      <td>B000LQOCH0</td>\n",
       "      <td>ABXLMWJIXXAIN</td>\n",
       "      <td>4</td>\n",
       "      <td>2008-08-17 20:00:00-04:00</td>\n",
       "      <td>2008</td>\n",
       "      <td>8</td>\n",
       "      <td>6</td>\n",
       "      <td>20:00:00</td>\n",
       "    </tr>\n",
       "    <tr>\n",
       "      <th>3</th>\n",
       "      <td>4</td>\n",
       "      <td>B000UA0QIQ</td>\n",
       "      <td>A395BORC6FGVXV</td>\n",
       "      <td>2</td>\n",
       "      <td>2011-06-12 20:00:00-04:00</td>\n",
       "      <td>2011</td>\n",
       "      <td>6</td>\n",
       "      <td>6</td>\n",
       "      <td>20:00:00</td>\n",
       "    </tr>\n",
       "    <tr>\n",
       "      <th>4</th>\n",
       "      <td>5</td>\n",
       "      <td>B006K2ZZ7K</td>\n",
       "      <td>A1UQRSCLF8GW1T</td>\n",
       "      <td>5</td>\n",
       "      <td>2012-10-20 20:00:00-04:00</td>\n",
       "      <td>2012</td>\n",
       "      <td>10</td>\n",
       "      <td>5</td>\n",
       "      <td>20:00:00</td>\n",
       "    </tr>\n",
       "  </tbody>\n",
       "</table>\n",
       "</div>"
      ],
      "text/plain": [
       "   Id   ProductId          UserId  Score                      Time  year  \\\n",
       "0   1  B001E4KFG0  A3SGXH7AUHU8GW      5 2011-04-26 20:00:00-04:00  2011   \n",
       "1   2  B00813GRG4  A1D87F6ZCVE5NK      1 2012-09-06 20:00:00-04:00  2012   \n",
       "2   3  B000LQOCH0   ABXLMWJIXXAIN      4 2008-08-17 20:00:00-04:00  2008   \n",
       "3   4  B000UA0QIQ  A395BORC6FGVXV      2 2011-06-12 20:00:00-04:00  2011   \n",
       "4   5  B006K2ZZ7K  A1UQRSCLF8GW1T      5 2012-10-20 20:00:00-04:00  2012   \n",
       "\n",
       "   month  day_of_week      hour  \n",
       "0      4            1  20:00:00  \n",
       "1      9            3  20:00:00  \n",
       "2      8            6  20:00:00  \n",
       "3      6            6  20:00:00  \n",
       "4     10            5  20:00:00  "
      ]
     },
     "execution_count": 16,
     "metadata": {},
     "output_type": "execute_result"
    }
   ],
   "source": [
    "ds.head()"
   ]
  },
  {
   "cell_type": "code",
   "execution_count": 17,
   "id": "1e462c4e",
   "metadata": {
    "execution": {
     "iopub.execute_input": "2024-07-31T08:18:01.362204Z",
     "iopub.status.busy": "2024-07-31T08:18:01.361812Z",
     "iopub.status.idle": "2024-07-31T08:18:01.556877Z",
     "shell.execute_reply": "2024-07-31T08:18:01.555744Z"
    },
    "papermill": {
     "duration": 0.214153,
     "end_time": "2024-07-31T08:18:01.559615",
     "exception": false,
     "start_time": "2024-07-31T08:18:01.345462",
     "status": "completed"
    },
    "tags": []
   },
   "outputs": [
    {
     "data": {
      "text/plain": [
       "Id             0\n",
       "ProductId      0\n",
       "UserId         0\n",
       "Score          0\n",
       "Time           0\n",
       "year           0\n",
       "month          0\n",
       "day_of_week    0\n",
       "hour           0\n",
       "dtype: int64"
      ]
     },
     "execution_count": 17,
     "metadata": {},
     "output_type": "execute_result"
    }
   ],
   "source": [
    "ds.isnull().sum()"
   ]
  },
  {
   "cell_type": "code",
   "execution_count": 18,
   "id": "3a3e8159",
   "metadata": {
    "execution": {
     "iopub.execute_input": "2024-07-31T08:18:01.588565Z",
     "iopub.status.busy": "2024-07-31T08:18:01.588164Z",
     "iopub.status.idle": "2024-07-31T08:18:01.626912Z",
     "shell.execute_reply": "2024-07-31T08:18:01.625694Z"
    },
    "papermill": {
     "duration": 0.056283,
     "end_time": "2024-07-31T08:18:01.629484",
     "exception": false,
     "start_time": "2024-07-31T08:18:01.573201",
     "status": "completed"
    },
    "tags": []
   },
   "outputs": [],
   "source": [
    "#droping the time column\n",
    "clean_data=ds.drop(['Time'],axis=1)"
   ]
  },
  {
   "cell_type": "code",
   "execution_count": 19,
   "id": "a7b704d2",
   "metadata": {
    "execution": {
     "iopub.execute_input": "2024-07-31T08:18:01.658756Z",
     "iopub.status.busy": "2024-07-31T08:18:01.658256Z",
     "iopub.status.idle": "2024-07-31T08:18:01.713918Z",
     "shell.execute_reply": "2024-07-31T08:18:01.712678Z"
    },
    "papermill": {
     "duration": 0.073619,
     "end_time": "2024-07-31T08:18:01.716750",
     "exception": false,
     "start_time": "2024-07-31T08:18:01.643131",
     "status": "completed"
    },
    "tags": []
   },
   "outputs": [],
   "source": [
    "#dropign the ID\n",
    "clean_data.drop(['Id'],axis=1,inplace=True)"
   ]
  },
  {
   "cell_type": "code",
   "execution_count": 20,
   "id": "8dc77e6d",
   "metadata": {
    "execution": {
     "iopub.execute_input": "2024-07-31T08:18:01.746004Z",
     "iopub.status.busy": "2024-07-31T08:18:01.745206Z",
     "iopub.status.idle": "2024-07-31T08:18:01.940768Z",
     "shell.execute_reply": "2024-07-31T08:18:01.939633Z"
    },
    "papermill": {
     "duration": 0.213197,
     "end_time": "2024-07-31T08:18:01.943593",
     "exception": false,
     "start_time": "2024-07-31T08:18:01.730396",
     "status": "completed"
    },
    "tags": []
   },
   "outputs": [
    {
     "name": "stdout",
     "output_type": "stream",
     "text": [
      "<class 'pandas.core.frame.DataFrame'>\n",
      "Index: 568401 entries, 0 to 568453\n",
      "Data columns (total 7 columns):\n",
      " #   Column       Non-Null Count   Dtype \n",
      "---  ------       --------------   ----- \n",
      " 0   ProductId    568401 non-null  object\n",
      " 1   UserId       568401 non-null  object\n",
      " 2   Score        568401 non-null  int64 \n",
      " 3   year         568401 non-null  int32 \n",
      " 4   month        568401 non-null  int32 \n",
      " 5   day_of_week  568401 non-null  int32 \n",
      " 6   hour         568401 non-null  object\n",
      "dtypes: int32(3), int64(1), object(3)\n",
      "memory usage: 28.2+ MB\n"
     ]
    }
   ],
   "source": [
    "clean_data.info()"
   ]
  },
  {
   "cell_type": "code",
   "execution_count": 21,
   "id": "6de227fc",
   "metadata": {
    "execution": {
     "iopub.execute_input": "2024-07-31T08:18:01.974467Z",
     "iopub.status.busy": "2024-07-31T08:18:01.973526Z",
     "iopub.status.idle": "2024-07-31T08:18:02.421367Z",
     "shell.execute_reply": "2024-07-31T08:18:02.420085Z"
    },
    "papermill": {
     "duration": 0.466623,
     "end_time": "2024-07-31T08:18:02.424213",
     "exception": false,
     "start_time": "2024-07-31T08:18:01.957590",
     "status": "completed"
    },
    "tags": []
   },
   "outputs": [],
   "source": [
    "#convert the hour feature into int\n",
    "clean_data['hour']=clean_data['hour'].apply(lambda x:x.hour )"
   ]
  },
  {
   "cell_type": "markdown",
   "id": "d3c7bad1",
   "metadata": {
    "papermill": {
     "duration": 0.01349,
     "end_time": "2024-07-31T08:18:02.451882",
     "exception": false,
     "start_time": "2024-07-31T08:18:02.438392",
     "status": "completed"
    },
    "tags": []
   },
   "source": [
    "# lets add another feature:\n",
    "    * Name of the feature is: recomended\n",
    "        *the feature if gonna be boolean\n",
    "        * we are gonna assign it True if its equal or greater than 3 : False other wise"
   ]
  },
  {
   "cell_type": "code",
   "execution_count": 22,
   "id": "d4aa6a8f",
   "metadata": {
    "execution": {
     "iopub.execute_input": "2024-07-31T08:18:02.481339Z",
     "iopub.status.busy": "2024-07-31T08:18:02.480933Z",
     "iopub.status.idle": "2024-07-31T08:18:02.487888Z",
     "shell.execute_reply": "2024-07-31T08:18:02.486587Z"
    },
    "papermill": {
     "duration": 0.024652,
     "end_time": "2024-07-31T08:18:02.490510",
     "exception": false,
     "start_time": "2024-07-31T08:18:02.465858",
     "status": "completed"
    },
    "tags": []
   },
   "outputs": [],
   "source": [
    "clean_data['Recomended']=clean_data['Score']>=3"
   ]
  },
  {
   "cell_type": "code",
   "execution_count": 23,
   "id": "0c0854cc",
   "metadata": {
    "execution": {
     "iopub.execute_input": "2024-07-31T08:18:02.521091Z",
     "iopub.status.busy": "2024-07-31T08:18:02.519862Z",
     "iopub.status.idle": "2024-07-31T08:18:02.527509Z",
     "shell.execute_reply": "2024-07-31T08:18:02.526543Z"
    },
    "papermill": {
     "duration": 0.025856,
     "end_time": "2024-07-31T08:18:02.530143",
     "exception": false,
     "start_time": "2024-07-31T08:18:02.504287",
     "status": "completed"
    },
    "tags": []
   },
   "outputs": [
    {
     "data": {
      "text/plain": [
       "Index(['ProductId', 'UserId', 'Score', 'year', 'month', 'day_of_week', 'hour',\n",
       "       'Recomended'],\n",
       "      dtype='object')"
      ]
     },
     "execution_count": 23,
     "metadata": {},
     "output_type": "execute_result"
    }
   ],
   "source": [
    "clean_data.columns"
   ]
  },
  {
   "cell_type": "markdown",
   "id": "4b015648",
   "metadata": {
    "papermill": {
     "duration": 0.013438,
     "end_time": "2024-07-31T08:18:02.557604",
     "exception": false,
     "start_time": "2024-07-31T08:18:02.544166",
     "status": "completed"
    },
    "tags": []
   },
   "source": [
    "# split into train and test"
   ]
  },
  {
   "cell_type": "code",
   "execution_count": 24,
   "id": "8abb0f83",
   "metadata": {
    "execution": {
     "iopub.execute_input": "2024-07-31T08:18:02.588014Z",
     "iopub.status.busy": "2024-07-31T08:18:02.587465Z",
     "iopub.status.idle": "2024-07-31T08:18:03.000062Z",
     "shell.execute_reply": "2024-07-31T08:18:02.998970Z"
    },
    "papermill": {
     "duration": 0.43086,
     "end_time": "2024-07-31T08:18:03.003150",
     "exception": false,
     "start_time": "2024-07-31T08:18:02.572290",
     "status": "completed"
    },
    "tags": []
   },
   "outputs": [],
   "source": [
    "#split into train and test\n",
    "train,test=train_test_split(\n",
    "    clean_data,\n",
    "    random_state=42,\n",
    "    test_size=0.2,\n",
    "    stratify=clean_data['Recomended']\n",
    ")"
   ]
  },
  {
   "cell_type": "markdown",
   "id": "876d7ec2",
   "metadata": {
    "papermill": {
     "duration": 0.013714,
     "end_time": "2024-07-31T08:18:03.030890",
     "exception": false,
     "start_time": "2024-07-31T08:18:03.017176",
     "status": "completed"
    },
    "tags": []
   },
   "source": [
    "# turn them into torch dataset"
   ]
  },
  {
   "cell_type": "code",
   "execution_count": 25,
   "id": "674254ec",
   "metadata": {
    "execution": {
     "iopub.execute_input": "2024-07-31T08:18:03.060383Z",
     "iopub.status.busy": "2024-07-31T08:18:03.059955Z",
     "iopub.status.idle": "2024-07-31T08:18:03.068832Z",
     "shell.execute_reply": "2024-07-31T08:18:03.067695Z"
    },
    "papermill": {
     "duration": 0.026573,
     "end_time": "2024-07-31T08:18:03.071328",
     "exception": false,
     "start_time": "2024-07-31T08:18:03.044755",
     "status": "completed"
    },
    "tags": []
   },
   "outputs": [],
   "source": [
    "class Mydataset(Dataset):\n",
    "    def __init__(self,data):\n",
    "        super().__init__()\n",
    "        self.data=data\n",
    "        \n",
    "    def __len__(self):\n",
    "        return len(self.data)\n",
    "    \n",
    "    def __getitem__(self,idx):\n",
    "        #element to extract\n",
    "        item=self.data.iloc[idx]\n",
    "        \n",
    "        #extracting features from the dataset\n",
    "        productid=item['ProductId']\n",
    "        userid=item['UserId']\n",
    "        rate=item['Score']\n",
    "        year=item['year']\n",
    "        month=item['month']\n",
    "        day_of_week=item['day_of_week']\n",
    "        hour=item['hour']\n",
    "        recomended=item['Recomended']\n",
    "        \n",
    "        return productid,userid,rate,year,month,day_of_week,hour,recomended"
   ]
  },
  {
   "cell_type": "markdown",
   "id": "9cf3d9a7",
   "metadata": {
    "papermill": {
     "duration": 0.013483,
     "end_time": "2024-07-31T08:18:03.099038",
     "exception": false,
     "start_time": "2024-07-31T08:18:03.085555",
     "status": "completed"
    },
    "tags": []
   },
   "source": [
    "## loading the torch dataset format"
   ]
  },
  {
   "cell_type": "code",
   "execution_count": 26,
   "id": "d1d2dcd1",
   "metadata": {
    "execution": {
     "iopub.execute_input": "2024-07-31T08:18:03.128322Z",
     "iopub.status.busy": "2024-07-31T08:18:03.127902Z",
     "iopub.status.idle": "2024-07-31T08:18:03.133018Z",
     "shell.execute_reply": "2024-07-31T08:18:03.131839Z"
    },
    "papermill": {
     "duration": 0.022494,
     "end_time": "2024-07-31T08:18:03.135384",
     "exception": false,
     "start_time": "2024-07-31T08:18:03.112890",
     "status": "completed"
    },
    "tags": []
   },
   "outputs": [],
   "source": [
    "#trainig dataset\n",
    "train_dataset=Mydataset(train)\n",
    "test_dataset=Mydataset(test)"
   ]
  },
  {
   "cell_type": "code",
   "execution_count": 27,
   "id": "7e0924bb",
   "metadata": {
    "execution": {
     "iopub.execute_input": "2024-07-31T08:18:03.164918Z",
     "iopub.status.busy": "2024-07-31T08:18:03.164193Z",
     "iopub.status.idle": "2024-07-31T08:18:03.169641Z",
     "shell.execute_reply": "2024-07-31T08:18:03.168578Z"
    },
    "papermill": {
     "duration": 0.023508,
     "end_time": "2024-07-31T08:18:03.172672",
     "exception": false,
     "start_time": "2024-07-31T08:18:03.149164",
     "status": "completed"
    },
    "tags": []
   },
   "outputs": [
    {
     "name": "stdout",
     "output_type": "stream",
     "text": [
      "<__main__.Mydataset object at 0x7940afae3d30>\n",
      "<__main__.Mydataset object at 0x7940afae1540>\n"
     ]
    }
   ],
   "source": [
    "print(train_dataset)\n",
    "print(test_dataset)"
   ]
  },
  {
   "cell_type": "markdown",
   "id": "4f3f5407",
   "metadata": {
    "papermill": {
     "duration": 0.013516,
     "end_time": "2024-07-31T08:18:03.200493",
     "exception": false,
     "start_time": "2024-07-31T08:18:03.186977",
     "status": "completed"
    },
    "tags": []
   },
   "source": [
    "# turning it into torch dataloader"
   ]
  },
  {
   "cell_type": "code",
   "execution_count": 28,
   "id": "88c8a2b1",
   "metadata": {
    "execution": {
     "iopub.execute_input": "2024-07-31T08:18:03.230505Z",
     "iopub.status.busy": "2024-07-31T08:18:03.230135Z",
     "iopub.status.idle": "2024-07-31T08:18:03.237181Z",
     "shell.execute_reply": "2024-07-31T08:18:03.235954Z"
    },
    "papermill": {
     "duration": 0.025701,
     "end_time": "2024-07-31T08:18:03.240029",
     "exception": false,
     "start_time": "2024-07-31T08:18:03.214328",
     "status": "completed"
    },
    "tags": []
   },
   "outputs": [],
   "source": [
    "#making the train dataloader\n",
    "train_dataloader=DataLoader(\n",
    "    dataset=train_dataset,\n",
    "    batch_size=32,\n",
    "    num_workers=os.cpu_count()\n",
    ")\n",
    "\n",
    "#making test dataloader\n",
    "test_dataloader=DataLoader(\n",
    "    dataset=test_dataset,\n",
    "    batch_size=32,\n",
    "    num_workers=os.cpu_count()\n",
    ")"
   ]
  },
  {
   "cell_type": "code",
   "execution_count": null,
   "id": "2bd98dc7",
   "metadata": {
    "papermill": {
     "duration": 0.013723,
     "end_time": "2024-07-31T08:18:03.268739",
     "exception": false,
     "start_time": "2024-07-31T08:18:03.255016",
     "status": "completed"
    },
    "tags": []
   },
   "outputs": [],
   "source": []
  },
  {
   "cell_type": "code",
   "execution_count": null,
   "id": "40c7b6fc",
   "metadata": {
    "papermill": {
     "duration": 0.014086,
     "end_time": "2024-07-31T08:18:03.297039",
     "exception": false,
     "start_time": "2024-07-31T08:18:03.282953",
     "status": "completed"
    },
    "tags": []
   },
   "outputs": [],
   "source": []
  }
 ],
 "metadata": {
  "kaggle": {
   "accelerator": "none",
   "dataSources": [
    {
     "datasetId": 2038205,
     "sourceId": 3380672,
     "sourceType": "datasetVersion"
    },
    {
     "datasetId": 5468798,
     "sourceId": 9067293,
     "sourceType": "datasetVersion"
    }
   ],
   "dockerImageVersionId": 30746,
   "isGpuEnabled": false,
   "isInternetEnabled": true,
   "language": "python",
   "sourceType": "notebook"
  },
  "kernelspec": {
   "display_name": "Python 3",
   "language": "python",
   "name": "python3"
  },
  "language_info": {
   "codemirror_mode": {
    "name": "ipython",
    "version": 3
   },
   "file_extension": ".py",
   "mimetype": "text/x-python",
   "name": "python",
   "nbconvert_exporter": "python",
   "pygments_lexer": "ipython3",
   "version": "3.10.13"
  },
  "papermill": {
   "default_parameters": {},
   "duration": 25.610004,
   "end_time": "2024-07-31T08:18:04.735322",
   "environment_variables": {},
   "exception": null,
   "input_path": "__notebook__.ipynb",
   "output_path": "__notebook__.ipynb",
   "parameters": {},
   "start_time": "2024-07-31T08:17:39.125318",
   "version": "2.5.0"
  }
 },
 "nbformat": 4,
 "nbformat_minor": 5
}
