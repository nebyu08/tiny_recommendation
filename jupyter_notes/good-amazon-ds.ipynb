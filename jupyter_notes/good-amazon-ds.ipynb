{
 "cells": [
  {
   "cell_type": "code",
   "execution_count": 1,
   "id": "0d170cb0-f477-4734-9fb0-3fd9f26f981b",
   "metadata": {},
   "outputs": [],
   "source": [
    "%load_ext autoreload\n",
    "%autoreload 2"
   ]
  },
  {
   "cell_type": "code",
   "execution_count": 2,
   "id": "41642a91",
   "metadata": {
    "_cell_guid": "b1076dfc-b9ad-4769-8c92-a6c4dae69d19",
    "_uuid": "8f2839f25d086af736a60e9eeb907d3b93b6e0e5",
    "papermill": {
     "duration": 7.708278,
     "end_time": "2024-07-31T08:17:49.974919",
     "exception": false,
     "start_time": "2024-07-31T08:17:42.266641",
     "status": "completed"
    },
    "tags": []
   },
   "outputs": [],
   "source": [
    "import os\n",
    "import torch\n",
    "import numpy as np\n",
    "import torch.nn as nn\n",
    "import pandas as pd\n",
    "import matplotlib.pyplot as plt\n",
    "from torch.utils.data import Dataset,DataLoader\n",
    "from datasets import load_dataset\n",
    "from sklearn.model_selection import train_test_split\n",
    "from sklearn.preprocessing import LabelEncoder\n",
    "from torch.utils.tensorboard import SummaryWriter\n",
    "#from sklearn.preprocessing import MinMaxScaler"
   ]
  },
  {
   "cell_type": "markdown",
   "id": "03fe3f5b",
   "metadata": {
    "papermill": {
     "duration": 0.01157,
     "end_time": "2024-07-31T08:17:49.998182",
     "exception": false,
     "start_time": "2024-07-31T08:17:49.986612",
     "status": "completed"
    },
    "tags": []
   },
   "source": [
    "# importing the dataset"
   ]
  },
  {
   "cell_type": "code",
   "execution_count": 3,
   "id": "de5f632c",
   "metadata": {
    "papermill": {
     "duration": 8.74337,
     "end_time": "2024-07-31T08:17:58.753064",
     "exception": false,
     "start_time": "2024-07-31T08:17:50.009694",
     "status": "completed"
    },
    "tags": []
   },
   "outputs": [],
   "source": [
    "#import dataset\n",
    "ds=pd.read_csv('C:/Users/nebiy/Documents/Dataset/datasets/Reviews.csv')"
   ]
  },
  {
   "cell_type": "code",
   "execution_count": 4,
   "id": "b7c3bcb1",
   "metadata": {
    "papermill": {
     "duration": 0.042471,
     "end_time": "2024-07-31T08:17:58.807558",
     "exception": false,
     "start_time": "2024-07-31T08:17:58.765087",
     "status": "completed"
    },
    "tags": []
   },
   "outputs": [
    {
     "data": {
      "text/html": [
       "<div>\n",
       "<style scoped>\n",
       "    .dataframe tbody tr th:only-of-type {\n",
       "        vertical-align: middle;\n",
       "    }\n",
       "\n",
       "    .dataframe tbody tr th {\n",
       "        vertical-align: top;\n",
       "    }\n",
       "\n",
       "    .dataframe thead th {\n",
       "        text-align: right;\n",
       "    }\n",
       "</style>\n",
       "<table border=\"1\" class=\"dataframe\">\n",
       "  <thead>\n",
       "    <tr style=\"text-align: right;\">\n",
       "      <th></th>\n",
       "      <th>Id</th>\n",
       "      <th>ProductId</th>\n",
       "      <th>UserId</th>\n",
       "      <th>ProfileName</th>\n",
       "      <th>HelpfulnessNumerator</th>\n",
       "      <th>HelpfulnessDenominator</th>\n",
       "      <th>Score</th>\n",
       "      <th>Time</th>\n",
       "      <th>Summary</th>\n",
       "      <th>Text</th>\n",
       "    </tr>\n",
       "  </thead>\n",
       "  <tbody>\n",
       "    <tr>\n",
       "      <th>0</th>\n",
       "      <td>1</td>\n",
       "      <td>B001E4KFG0</td>\n",
       "      <td>A3SGXH7AUHU8GW</td>\n",
       "      <td>delmartian</td>\n",
       "      <td>1</td>\n",
       "      <td>1</td>\n",
       "      <td>5</td>\n",
       "      <td>1303862400</td>\n",
       "      <td>Good Quality Dog Food</td>\n",
       "      <td>I have bought several of the Vitality canned d...</td>\n",
       "    </tr>\n",
       "    <tr>\n",
       "      <th>1</th>\n",
       "      <td>2</td>\n",
       "      <td>B00813GRG4</td>\n",
       "      <td>A1D87F6ZCVE5NK</td>\n",
       "      <td>dll pa</td>\n",
       "      <td>0</td>\n",
       "      <td>0</td>\n",
       "      <td>1</td>\n",
       "      <td>1346976000</td>\n",
       "      <td>Not as Advertised</td>\n",
       "      <td>Product arrived labeled as Jumbo Salted Peanut...</td>\n",
       "    </tr>\n",
       "    <tr>\n",
       "      <th>2</th>\n",
       "      <td>3</td>\n",
       "      <td>B000LQOCH0</td>\n",
       "      <td>ABXLMWJIXXAIN</td>\n",
       "      <td>Natalia Corres \"Natalia Corres\"</td>\n",
       "      <td>1</td>\n",
       "      <td>1</td>\n",
       "      <td>4</td>\n",
       "      <td>1219017600</td>\n",
       "      <td>\"Delight\" says it all</td>\n",
       "      <td>This is a confection that has been around a fe...</td>\n",
       "    </tr>\n",
       "    <tr>\n",
       "      <th>3</th>\n",
       "      <td>4</td>\n",
       "      <td>B000UA0QIQ</td>\n",
       "      <td>A395BORC6FGVXV</td>\n",
       "      <td>Karl</td>\n",
       "      <td>3</td>\n",
       "      <td>3</td>\n",
       "      <td>2</td>\n",
       "      <td>1307923200</td>\n",
       "      <td>Cough Medicine</td>\n",
       "      <td>If you are looking for the secret ingredient i...</td>\n",
       "    </tr>\n",
       "    <tr>\n",
       "      <th>4</th>\n",
       "      <td>5</td>\n",
       "      <td>B006K2ZZ7K</td>\n",
       "      <td>A1UQRSCLF8GW1T</td>\n",
       "      <td>Michael D. Bigham \"M. Wassir\"</td>\n",
       "      <td>0</td>\n",
       "      <td>0</td>\n",
       "      <td>5</td>\n",
       "      <td>1350777600</td>\n",
       "      <td>Great taffy</td>\n",
       "      <td>Great taffy at a great price.  There was a wid...</td>\n",
       "    </tr>\n",
       "  </tbody>\n",
       "</table>\n",
       "</div>"
      ],
      "text/plain": [
       "   Id   ProductId          UserId                      ProfileName  \\\n",
       "0   1  B001E4KFG0  A3SGXH7AUHU8GW                       delmartian   \n",
       "1   2  B00813GRG4  A1D87F6ZCVE5NK                           dll pa   \n",
       "2   3  B000LQOCH0   ABXLMWJIXXAIN  Natalia Corres \"Natalia Corres\"   \n",
       "3   4  B000UA0QIQ  A395BORC6FGVXV                             Karl   \n",
       "4   5  B006K2ZZ7K  A1UQRSCLF8GW1T    Michael D. Bigham \"M. Wassir\"   \n",
       "\n",
       "   HelpfulnessNumerator  HelpfulnessDenominator  Score        Time  \\\n",
       "0                     1                       1      5  1303862400   \n",
       "1                     0                       0      1  1346976000   \n",
       "2                     1                       1      4  1219017600   \n",
       "3                     3                       3      2  1307923200   \n",
       "4                     0                       0      5  1350777600   \n",
       "\n",
       "                 Summary                                               Text  \n",
       "0  Good Quality Dog Food  I have bought several of the Vitality canned d...  \n",
       "1      Not as Advertised  Product arrived labeled as Jumbo Salted Peanut...  \n",
       "2  \"Delight\" says it all  This is a confection that has been around a fe...  \n",
       "3         Cough Medicine  If you are looking for the secret ingredient i...  \n",
       "4            Great taffy  Great taffy at a great price.  There was a wid...  "
      ]
     },
     "execution_count": 4,
     "metadata": {},
     "output_type": "execute_result"
    }
   ],
   "source": [
    "ds.head()"
   ]
  },
  {
   "cell_type": "markdown",
   "id": "5b7c9f09",
   "metadata": {
    "papermill": {
     "duration": 0.01134,
     "end_time": "2024-07-31T08:17:58.830645",
     "exception": false,
     "start_time": "2024-07-31T08:17:58.819305",
     "status": "completed"
    },
    "tags": []
   },
   "source": [
    "# EDA"
   ]
  },
  {
   "cell_type": "code",
   "execution_count": 5,
   "id": "b690ff74",
   "metadata": {
    "papermill": {
     "duration": 0.377752,
     "end_time": "2024-07-31T08:17:59.220775",
     "exception": false,
     "start_time": "2024-07-31T08:17:58.843023",
     "status": "completed"
    },
    "tags": []
   },
   "outputs": [
    {
     "name": "stdout",
     "output_type": "stream",
     "text": [
      "<class 'pandas.core.frame.DataFrame'>\n",
      "RangeIndex: 568454 entries, 0 to 568453\n",
      "Data columns (total 10 columns):\n",
      " #   Column                  Non-Null Count   Dtype \n",
      "---  ------                  --------------   ----- \n",
      " 0   Id                      568454 non-null  int64 \n",
      " 1   ProductId               568454 non-null  object\n",
      " 2   UserId                  568454 non-null  object\n",
      " 3   ProfileName             568428 non-null  object\n",
      " 4   HelpfulnessNumerator    568454 non-null  int64 \n",
      " 5   HelpfulnessDenominator  568454 non-null  int64 \n",
      " 6   Score                   568454 non-null  int64 \n",
      " 7   Time                    568454 non-null  int64 \n",
      " 8   Summary                 568427 non-null  object\n",
      " 9   Text                    568454 non-null  object\n",
      "dtypes: int64(5), object(5)\n",
      "memory usage: 43.4+ MB\n"
     ]
    }
   ],
   "source": [
    "ds.info()"
   ]
  },
  {
   "cell_type": "code",
   "execution_count": 6,
   "id": "51a50e2f",
   "metadata": {
    "papermill": {
     "duration": 0.361146,
     "end_time": "2024-07-31T08:17:59.593853",
     "exception": false,
     "start_time": "2024-07-31T08:17:59.232707",
     "status": "completed"
    },
    "tags": []
   },
   "outputs": [
    {
     "data": {
      "text/plain": [
       "Id                         0\n",
       "ProductId                  0\n",
       "UserId                     0\n",
       "ProfileName               26\n",
       "HelpfulnessNumerator       0\n",
       "HelpfulnessDenominator     0\n",
       "Score                      0\n",
       "Time                       0\n",
       "Summary                   27\n",
       "Text                       0\n",
       "dtype: int64"
      ]
     },
     "execution_count": 6,
     "metadata": {},
     "output_type": "execute_result"
    }
   ],
   "source": [
    "ds.isnull().sum()"
   ]
  },
  {
   "cell_type": "code",
   "execution_count": 7,
   "id": "238c0c76",
   "metadata": {
    "papermill": {
     "duration": 0.421641,
     "end_time": "2024-07-31T08:18:00.028486",
     "exception": false,
     "start_time": "2024-07-31T08:17:59.606845",
     "status": "completed"
    },
    "tags": []
   },
   "outputs": [],
   "source": [
    "ds=ds.dropna(how='any')"
   ]
  },
  {
   "cell_type": "code",
   "execution_count": 8,
   "id": "a4ffbf44",
   "metadata": {
    "papermill": {
     "duration": 0.03114,
     "end_time": "2024-07-31T08:18:00.071896",
     "exception": false,
     "start_time": "2024-07-31T08:18:00.040756",
     "status": "completed"
    },
    "tags": []
   },
   "outputs": [
    {
     "data": {
      "text/html": [
       "<div>\n",
       "<style scoped>\n",
       "    .dataframe tbody tr th:only-of-type {\n",
       "        vertical-align: middle;\n",
       "    }\n",
       "\n",
       "    .dataframe tbody tr th {\n",
       "        vertical-align: top;\n",
       "    }\n",
       "\n",
       "    .dataframe thead th {\n",
       "        text-align: right;\n",
       "    }\n",
       "</style>\n",
       "<table border=\"1\" class=\"dataframe\">\n",
       "  <thead>\n",
       "    <tr style=\"text-align: right;\">\n",
       "      <th></th>\n",
       "      <th>Id</th>\n",
       "      <th>ProductId</th>\n",
       "      <th>UserId</th>\n",
       "      <th>ProfileName</th>\n",
       "      <th>HelpfulnessNumerator</th>\n",
       "      <th>HelpfulnessDenominator</th>\n",
       "      <th>Score</th>\n",
       "      <th>Time</th>\n",
       "      <th>Summary</th>\n",
       "      <th>Text</th>\n",
       "    </tr>\n",
       "  </thead>\n",
       "  <tbody>\n",
       "    <tr>\n",
       "      <th>0</th>\n",
       "      <td>1</td>\n",
       "      <td>B001E4KFG0</td>\n",
       "      <td>A3SGXH7AUHU8GW</td>\n",
       "      <td>delmartian</td>\n",
       "      <td>1</td>\n",
       "      <td>1</td>\n",
       "      <td>5</td>\n",
       "      <td>1303862400</td>\n",
       "      <td>Good Quality Dog Food</td>\n",
       "      <td>I have bought several of the Vitality canned d...</td>\n",
       "    </tr>\n",
       "    <tr>\n",
       "      <th>1</th>\n",
       "      <td>2</td>\n",
       "      <td>B00813GRG4</td>\n",
       "      <td>A1D87F6ZCVE5NK</td>\n",
       "      <td>dll pa</td>\n",
       "      <td>0</td>\n",
       "      <td>0</td>\n",
       "      <td>1</td>\n",
       "      <td>1346976000</td>\n",
       "      <td>Not as Advertised</td>\n",
       "      <td>Product arrived labeled as Jumbo Salted Peanut...</td>\n",
       "    </tr>\n",
       "    <tr>\n",
       "      <th>2</th>\n",
       "      <td>3</td>\n",
       "      <td>B000LQOCH0</td>\n",
       "      <td>ABXLMWJIXXAIN</td>\n",
       "      <td>Natalia Corres \"Natalia Corres\"</td>\n",
       "      <td>1</td>\n",
       "      <td>1</td>\n",
       "      <td>4</td>\n",
       "      <td>1219017600</td>\n",
       "      <td>\"Delight\" says it all</td>\n",
       "      <td>This is a confection that has been around a fe...</td>\n",
       "    </tr>\n",
       "    <tr>\n",
       "      <th>3</th>\n",
       "      <td>4</td>\n",
       "      <td>B000UA0QIQ</td>\n",
       "      <td>A395BORC6FGVXV</td>\n",
       "      <td>Karl</td>\n",
       "      <td>3</td>\n",
       "      <td>3</td>\n",
       "      <td>2</td>\n",
       "      <td>1307923200</td>\n",
       "      <td>Cough Medicine</td>\n",
       "      <td>If you are looking for the secret ingredient i...</td>\n",
       "    </tr>\n",
       "    <tr>\n",
       "      <th>4</th>\n",
       "      <td>5</td>\n",
       "      <td>B006K2ZZ7K</td>\n",
       "      <td>A1UQRSCLF8GW1T</td>\n",
       "      <td>Michael D. Bigham \"M. Wassir\"</td>\n",
       "      <td>0</td>\n",
       "      <td>0</td>\n",
       "      <td>5</td>\n",
       "      <td>1350777600</td>\n",
       "      <td>Great taffy</td>\n",
       "      <td>Great taffy at a great price.  There was a wid...</td>\n",
       "    </tr>\n",
       "  </tbody>\n",
       "</table>\n",
       "</div>"
      ],
      "text/plain": [
       "   Id   ProductId          UserId                      ProfileName  \\\n",
       "0   1  B001E4KFG0  A3SGXH7AUHU8GW                       delmartian   \n",
       "1   2  B00813GRG4  A1D87F6ZCVE5NK                           dll pa   \n",
       "2   3  B000LQOCH0   ABXLMWJIXXAIN  Natalia Corres \"Natalia Corres\"   \n",
       "3   4  B000UA0QIQ  A395BORC6FGVXV                             Karl   \n",
       "4   5  B006K2ZZ7K  A1UQRSCLF8GW1T    Michael D. Bigham \"M. Wassir\"   \n",
       "\n",
       "   HelpfulnessNumerator  HelpfulnessDenominator  Score        Time  \\\n",
       "0                     1                       1      5  1303862400   \n",
       "1                     0                       0      1  1346976000   \n",
       "2                     1                       1      4  1219017600   \n",
       "3                     3                       3      2  1307923200   \n",
       "4                     0                       0      5  1350777600   \n",
       "\n",
       "                 Summary                                               Text  \n",
       "0  Good Quality Dog Food  I have bought several of the Vitality canned d...  \n",
       "1      Not as Advertised  Product arrived labeled as Jumbo Salted Peanut...  \n",
       "2  \"Delight\" says it all  This is a confection that has been around a fe...  \n",
       "3         Cough Medicine  If you are looking for the secret ingredient i...  \n",
       "4            Great taffy  Great taffy at a great price.  There was a wid...  "
      ]
     },
     "execution_count": 8,
     "metadata": {},
     "output_type": "execute_result"
    }
   ],
   "source": [
    "ds.head()"
   ]
  },
  {
   "cell_type": "code",
   "execution_count": 9,
   "id": "7e9557c9",
   "metadata": {
    "papermill": {
     "duration": 0.02115,
     "end_time": "2024-07-31T08:18:00.105674",
     "exception": false,
     "start_time": "2024-07-31T08:18:00.084524",
     "status": "completed"
    },
    "tags": []
   },
   "outputs": [],
   "source": [
    "#ds[ds['UserId']]"
   ]
  },
  {
   "cell_type": "code",
   "execution_count": 10,
   "id": "d53b104d",
   "metadata": {
    "papermill": {
     "duration": 0.041994,
     "end_time": "2024-07-31T08:18:00.160182",
     "exception": false,
     "start_time": "2024-07-31T08:18:00.118188",
     "status": "completed"
    },
    "tags": []
   },
   "outputs": [],
   "source": [
    "ds.drop(['ProfileName','HelpfulnessNumerator','HelpfulnessDenominator','Summary','Text'],axis=1,inplace=True)"
   ]
  },
  {
   "cell_type": "code",
   "execution_count": 11,
   "id": "5aff2f55",
   "metadata": {
    "papermill": {
     "duration": 0.048516,
     "end_time": "2024-07-31T08:18:00.221127",
     "exception": false,
     "start_time": "2024-07-31T08:18:00.172611",
     "status": "completed"
    },
    "tags": []
   },
   "outputs": [
    {
     "data": {
      "text/plain": [
       "Time\n",
       "1350345600    1143\n",
       "1322179200    1088\n",
       "1322438400    1070\n",
       "1346889600    1018\n",
       "1344211200     989\n",
       "              ... \n",
       "1095638400       1\n",
       "1102636800       1\n",
       "1080259200       1\n",
       "1087689600       1\n",
       "1069718400       1\n",
       "Name: count, Length: 3168, dtype: int64"
      ]
     },
     "execution_count": 11,
     "metadata": {},
     "output_type": "execute_result"
    }
   ],
   "source": [
    "ds['Time'].value_counts()"
   ]
  },
  {
   "cell_type": "code",
   "execution_count": 12,
   "id": "faf2b25c",
   "metadata": {
    "papermill": {
     "duration": 0.152684,
     "end_time": "2024-07-31T08:18:00.386372",
     "exception": false,
     "start_time": "2024-07-31T08:18:00.233688",
     "status": "completed"
    },
    "tags": []
   },
   "outputs": [
    {
     "name": "stdout",
     "output_type": "stream",
     "text": [
      "<class 'pandas.core.frame.DataFrame'>\n",
      "Index: 568401 entries, 0 to 568453\n",
      "Data columns (total 5 columns):\n",
      " #   Column     Non-Null Count   Dtype \n",
      "---  ------     --------------   ----- \n",
      " 0   Id         568401 non-null  int64 \n",
      " 1   ProductId  568401 non-null  object\n",
      " 2   UserId     568401 non-null  object\n",
      " 3   Score      568401 non-null  int64 \n",
      " 4   Time       568401 non-null  int64 \n",
      "dtypes: int64(3), object(2)\n",
      "memory usage: 26.0+ MB\n"
     ]
    }
   ],
   "source": [
    "ds.info()"
   ]
  },
  {
   "cell_type": "markdown",
   "id": "281f1db3-9035-46b3-ac5d-fb6d02b33f21",
   "metadata": {},
   "source": [
    "# Encoding the features"
   ]
  },
  {
   "cell_type": "code",
   "execution_count": 13,
   "id": "71cc3cfd-3596-44e3-83c4-1db12f3fd957",
   "metadata": {},
   "outputs": [],
   "source": [
    "object_encoders={}\n",
    "columns=['ProductId','UserId']\n",
    "for col in columns:\n",
    "    le=LabelEncoder()\n",
    "    ds[col]=le.fit_transform(ds[col])\n",
    "    #storing the feature values and its encoded values\n",
    "    object_encoders[col]=le"
   ]
  },
  {
   "cell_type": "markdown",
   "id": "6f050de5",
   "metadata": {
    "papermill": {
     "duration": 0.01308,
     "end_time": "2024-07-31T08:18:00.412989",
     "exception": false,
     "start_time": "2024-07-31T08:18:00.399909",
     "status": "completed"
    },
    "tags": []
   },
   "source": [
    "# lets make more features:\n",
    "    * day of the week\n",
    "    * month\n",
    "    * time of the day(Hour)"
   ]
  },
  {
   "cell_type": "code",
   "execution_count": 14,
   "id": "0f7820d2",
   "metadata": {
    "papermill": {
     "duration": 0.138275,
     "end_time": "2024-07-31T08:18:00.563937",
     "exception": false,
     "start_time": "2024-07-31T08:18:00.425662",
     "status": "completed"
    },
    "tags": []
   },
   "outputs": [],
   "source": [
    "#change the time stamp into datatime\n",
    "ds['Time']=pd.to_datetime(ds['Time'],unit='s',utc=True)\n",
    "ds['Time']=ds['Time'].dt.tz_convert('America/New_York')"
   ]
  },
  {
   "cell_type": "code",
   "execution_count": 15,
   "id": "7848626f",
   "metadata": {
    "papermill": {
     "duration": 0.035731,
     "end_time": "2024-07-31T08:18:00.612410",
     "exception": false,
     "start_time": "2024-07-31T08:18:00.576679",
     "status": "completed"
    },
    "tags": []
   },
   "outputs": [
    {
     "data": {
      "text/html": [
       "<div>\n",
       "<style scoped>\n",
       "    .dataframe tbody tr th:only-of-type {\n",
       "        vertical-align: middle;\n",
       "    }\n",
       "\n",
       "    .dataframe tbody tr th {\n",
       "        vertical-align: top;\n",
       "    }\n",
       "\n",
       "    .dataframe thead th {\n",
       "        text-align: right;\n",
       "    }\n",
       "</style>\n",
       "<table border=\"1\" class=\"dataframe\">\n",
       "  <thead>\n",
       "    <tr style=\"text-align: right;\">\n",
       "      <th></th>\n",
       "      <th>Id</th>\n",
       "      <th>ProductId</th>\n",
       "      <th>UserId</th>\n",
       "      <th>Score</th>\n",
       "      <th>Time</th>\n",
       "    </tr>\n",
       "  </thead>\n",
       "  <tbody>\n",
       "    <tr>\n",
       "      <th>0</th>\n",
       "      <td>1</td>\n",
       "      <td>27619</td>\n",
       "      <td>188633</td>\n",
       "      <td>5</td>\n",
       "      <td>2011-04-26 20:00:00-04:00</td>\n",
       "    </tr>\n",
       "    <tr>\n",
       "      <th>1</th>\n",
       "      <td>2</td>\n",
       "      <td>72383</td>\n",
       "      <td>25104</td>\n",
       "      <td>1</td>\n",
       "      <td>2012-09-06 20:00:00-04:00</td>\n",
       "    </tr>\n",
       "    <tr>\n",
       "      <th>2</th>\n",
       "      <td>3</td>\n",
       "      <td>15267</td>\n",
       "      <td>210468</td>\n",
       "      <td>4</td>\n",
       "      <td>2008-08-17 20:00:00-04:00</td>\n",
       "    </tr>\n",
       "    <tr>\n",
       "      <th>3</th>\n",
       "      <td>4</td>\n",
       "      <td>19718</td>\n",
       "      <td>152622</td>\n",
       "      <td>2</td>\n",
       "      <td>2011-06-12 20:00:00-04:00</td>\n",
       "    </tr>\n",
       "    <tr>\n",
       "      <th>4</th>\n",
       "      <td>5</td>\n",
       "      <td>69007</td>\n",
       "      <td>57800</td>\n",
       "      <td>5</td>\n",
       "      <td>2012-10-20 20:00:00-04:00</td>\n",
       "    </tr>\n",
       "  </tbody>\n",
       "</table>\n",
       "</div>"
      ],
      "text/plain": [
       "   Id  ProductId  UserId  Score                      Time\n",
       "0   1      27619  188633      5 2011-04-26 20:00:00-04:00\n",
       "1   2      72383   25104      1 2012-09-06 20:00:00-04:00\n",
       "2   3      15267  210468      4 2008-08-17 20:00:00-04:00\n",
       "3   4      19718  152622      2 2011-06-12 20:00:00-04:00\n",
       "4   5      69007   57800      5 2012-10-20 20:00:00-04:00"
      ]
     },
     "execution_count": 15,
     "metadata": {},
     "output_type": "execute_result"
    }
   ],
   "source": [
    "ds.head()"
   ]
  },
  {
   "cell_type": "code",
   "execution_count": 16,
   "id": "48c8fc73",
   "metadata": {
    "papermill": {
     "duration": 0.030039,
     "end_time": "2024-07-31T08:18:00.655529",
     "exception": false,
     "start_time": "2024-07-31T08:18:00.625490",
     "status": "completed"
    },
    "tags": []
   },
   "outputs": [
    {
     "data": {
      "text/html": [
       "<div>\n",
       "<style scoped>\n",
       "    .dataframe tbody tr th:only-of-type {\n",
       "        vertical-align: middle;\n",
       "    }\n",
       "\n",
       "    .dataframe tbody tr th {\n",
       "        vertical-align: top;\n",
       "    }\n",
       "\n",
       "    .dataframe thead th {\n",
       "        text-align: right;\n",
       "    }\n",
       "</style>\n",
       "<table border=\"1\" class=\"dataframe\">\n",
       "  <thead>\n",
       "    <tr style=\"text-align: right;\">\n",
       "      <th></th>\n",
       "      <th>Id</th>\n",
       "      <th>ProductId</th>\n",
       "      <th>UserId</th>\n",
       "      <th>Score</th>\n",
       "      <th>Time</th>\n",
       "    </tr>\n",
       "  </thead>\n",
       "  <tbody>\n",
       "    <tr>\n",
       "      <th>0</th>\n",
       "      <td>1</td>\n",
       "      <td>27619</td>\n",
       "      <td>188633</td>\n",
       "      <td>5</td>\n",
       "      <td>2011-04-26 20:00:00-04:00</td>\n",
       "    </tr>\n",
       "    <tr>\n",
       "      <th>1</th>\n",
       "      <td>2</td>\n",
       "      <td>72383</td>\n",
       "      <td>25104</td>\n",
       "      <td>1</td>\n",
       "      <td>2012-09-06 20:00:00-04:00</td>\n",
       "    </tr>\n",
       "    <tr>\n",
       "      <th>2</th>\n",
       "      <td>3</td>\n",
       "      <td>15267</td>\n",
       "      <td>210468</td>\n",
       "      <td>4</td>\n",
       "      <td>2008-08-17 20:00:00-04:00</td>\n",
       "    </tr>\n",
       "    <tr>\n",
       "      <th>3</th>\n",
       "      <td>4</td>\n",
       "      <td>19718</td>\n",
       "      <td>152622</td>\n",
       "      <td>2</td>\n",
       "      <td>2011-06-12 20:00:00-04:00</td>\n",
       "    </tr>\n",
       "    <tr>\n",
       "      <th>4</th>\n",
       "      <td>5</td>\n",
       "      <td>69007</td>\n",
       "      <td>57800</td>\n",
       "      <td>5</td>\n",
       "      <td>2012-10-20 20:00:00-04:00</td>\n",
       "    </tr>\n",
       "  </tbody>\n",
       "</table>\n",
       "</div>"
      ],
      "text/plain": [
       "   Id  ProductId  UserId  Score                      Time\n",
       "0   1      27619  188633      5 2011-04-26 20:00:00-04:00\n",
       "1   2      72383   25104      1 2012-09-06 20:00:00-04:00\n",
       "2   3      15267  210468      4 2008-08-17 20:00:00-04:00\n",
       "3   4      19718  152622      2 2011-06-12 20:00:00-04:00\n",
       "4   5      69007   57800      5 2012-10-20 20:00:00-04:00"
      ]
     },
     "execution_count": 16,
     "metadata": {},
     "output_type": "execute_result"
    }
   ],
   "source": [
    "ds.head()"
   ]
  },
  {
   "cell_type": "code",
   "execution_count": 17,
   "id": "b98e5cf2",
   "metadata": {
    "papermill": {
     "duration": 0.617674,
     "end_time": "2024-07-31T08:18:01.286361",
     "exception": false,
     "start_time": "2024-07-31T08:18:00.668687",
     "status": "completed"
    },
    "tags": []
   },
   "outputs": [],
   "source": [
    "#year\n",
    "ds['year']=ds['Time'].dt.year\n",
    "#month\n",
    "ds['month']=ds['Time'].dt.month\n",
    "#week\n",
    "ds['day_of_week']=ds['Time'].dt.dayofweek\n",
    "#hour\n",
    "ds['hour']=ds['Time'].dt.time"
   ]
  },
  {
   "cell_type": "code",
   "execution_count": 18,
   "id": "c3372d28",
   "metadata": {
    "papermill": {
     "duration": 0.032374,
     "end_time": "2024-07-31T08:18:01.331995",
     "exception": false,
     "start_time": "2024-07-31T08:18:01.299621",
     "status": "completed"
    },
    "tags": []
   },
   "outputs": [
    {
     "data": {
      "text/html": [
       "<div>\n",
       "<style scoped>\n",
       "    .dataframe tbody tr th:only-of-type {\n",
       "        vertical-align: middle;\n",
       "    }\n",
       "\n",
       "    .dataframe tbody tr th {\n",
       "        vertical-align: top;\n",
       "    }\n",
       "\n",
       "    .dataframe thead th {\n",
       "        text-align: right;\n",
       "    }\n",
       "</style>\n",
       "<table border=\"1\" class=\"dataframe\">\n",
       "  <thead>\n",
       "    <tr style=\"text-align: right;\">\n",
       "      <th></th>\n",
       "      <th>Id</th>\n",
       "      <th>ProductId</th>\n",
       "      <th>UserId</th>\n",
       "      <th>Score</th>\n",
       "      <th>Time</th>\n",
       "      <th>year</th>\n",
       "      <th>month</th>\n",
       "      <th>day_of_week</th>\n",
       "      <th>hour</th>\n",
       "    </tr>\n",
       "  </thead>\n",
       "  <tbody>\n",
       "    <tr>\n",
       "      <th>0</th>\n",
       "      <td>1</td>\n",
       "      <td>27619</td>\n",
       "      <td>188633</td>\n",
       "      <td>5</td>\n",
       "      <td>2011-04-26 20:00:00-04:00</td>\n",
       "      <td>2011</td>\n",
       "      <td>4</td>\n",
       "      <td>1</td>\n",
       "      <td>20:00:00</td>\n",
       "    </tr>\n",
       "    <tr>\n",
       "      <th>1</th>\n",
       "      <td>2</td>\n",
       "      <td>72383</td>\n",
       "      <td>25104</td>\n",
       "      <td>1</td>\n",
       "      <td>2012-09-06 20:00:00-04:00</td>\n",
       "      <td>2012</td>\n",
       "      <td>9</td>\n",
       "      <td>3</td>\n",
       "      <td>20:00:00</td>\n",
       "    </tr>\n",
       "    <tr>\n",
       "      <th>2</th>\n",
       "      <td>3</td>\n",
       "      <td>15267</td>\n",
       "      <td>210468</td>\n",
       "      <td>4</td>\n",
       "      <td>2008-08-17 20:00:00-04:00</td>\n",
       "      <td>2008</td>\n",
       "      <td>8</td>\n",
       "      <td>6</td>\n",
       "      <td>20:00:00</td>\n",
       "    </tr>\n",
       "    <tr>\n",
       "      <th>3</th>\n",
       "      <td>4</td>\n",
       "      <td>19718</td>\n",
       "      <td>152622</td>\n",
       "      <td>2</td>\n",
       "      <td>2011-06-12 20:00:00-04:00</td>\n",
       "      <td>2011</td>\n",
       "      <td>6</td>\n",
       "      <td>6</td>\n",
       "      <td>20:00:00</td>\n",
       "    </tr>\n",
       "    <tr>\n",
       "      <th>4</th>\n",
       "      <td>5</td>\n",
       "      <td>69007</td>\n",
       "      <td>57800</td>\n",
       "      <td>5</td>\n",
       "      <td>2012-10-20 20:00:00-04:00</td>\n",
       "      <td>2012</td>\n",
       "      <td>10</td>\n",
       "      <td>5</td>\n",
       "      <td>20:00:00</td>\n",
       "    </tr>\n",
       "  </tbody>\n",
       "</table>\n",
       "</div>"
      ],
      "text/plain": [
       "   Id  ProductId  UserId  Score                      Time  year  month  \\\n",
       "0   1      27619  188633      5 2011-04-26 20:00:00-04:00  2011      4   \n",
       "1   2      72383   25104      1 2012-09-06 20:00:00-04:00  2012      9   \n",
       "2   3      15267  210468      4 2008-08-17 20:00:00-04:00  2008      8   \n",
       "3   4      19718  152622      2 2011-06-12 20:00:00-04:00  2011      6   \n",
       "4   5      69007   57800      5 2012-10-20 20:00:00-04:00  2012     10   \n",
       "\n",
       "   day_of_week      hour  \n",
       "0            1  20:00:00  \n",
       "1            3  20:00:00  \n",
       "2            6  20:00:00  \n",
       "3            6  20:00:00  \n",
       "4            5  20:00:00  "
      ]
     },
     "execution_count": 18,
     "metadata": {},
     "output_type": "execute_result"
    }
   ],
   "source": [
    "ds.head()"
   ]
  },
  {
   "cell_type": "code",
   "execution_count": 19,
   "id": "1e462c4e",
   "metadata": {
    "papermill": {
     "duration": 0.214153,
     "end_time": "2024-07-31T08:18:01.559615",
     "exception": false,
     "start_time": "2024-07-31T08:18:01.345462",
     "status": "completed"
    },
    "tags": []
   },
   "outputs": [
    {
     "data": {
      "text/plain": [
       "Id             0\n",
       "ProductId      0\n",
       "UserId         0\n",
       "Score          0\n",
       "Time           0\n",
       "year           0\n",
       "month          0\n",
       "day_of_week    0\n",
       "hour           0\n",
       "dtype: int64"
      ]
     },
     "execution_count": 19,
     "metadata": {},
     "output_type": "execute_result"
    }
   ],
   "source": [
    "ds.isnull().sum()"
   ]
  },
  {
   "cell_type": "code",
   "execution_count": 20,
   "id": "3a3e8159",
   "metadata": {
    "papermill": {
     "duration": 0.056283,
     "end_time": "2024-07-31T08:18:01.629484",
     "exception": false,
     "start_time": "2024-07-31T08:18:01.573201",
     "status": "completed"
    },
    "tags": []
   },
   "outputs": [],
   "source": [
    "#droping the time column\n",
    "clean_data=ds.drop(['Time'],axis=1)"
   ]
  },
  {
   "cell_type": "code",
   "execution_count": 21,
   "id": "a7b704d2",
   "metadata": {
    "papermill": {
     "duration": 0.073619,
     "end_time": "2024-07-31T08:18:01.716750",
     "exception": false,
     "start_time": "2024-07-31T08:18:01.643131",
     "status": "completed"
    },
    "tags": []
   },
   "outputs": [],
   "source": [
    "#dropign the ID\n",
    "clean_data.drop(['Id'],axis=1,inplace=True)"
   ]
  },
  {
   "cell_type": "code",
   "execution_count": 22,
   "id": "8dc77e6d",
   "metadata": {
    "papermill": {
     "duration": 0.213197,
     "end_time": "2024-07-31T08:18:01.943593",
     "exception": false,
     "start_time": "2024-07-31T08:18:01.730396",
     "status": "completed"
    },
    "tags": []
   },
   "outputs": [
    {
     "name": "stdout",
     "output_type": "stream",
     "text": [
      "<class 'pandas.core.frame.DataFrame'>\n",
      "Index: 568401 entries, 0 to 568453\n",
      "Data columns (total 7 columns):\n",
      " #   Column       Non-Null Count   Dtype \n",
      "---  ------       --------------   ----- \n",
      " 0   ProductId    568401 non-null  int32 \n",
      " 1   UserId       568401 non-null  int32 \n",
      " 2   Score        568401 non-null  int64 \n",
      " 3   year         568401 non-null  int32 \n",
      " 4   month        568401 non-null  int32 \n",
      " 5   day_of_week  568401 non-null  int32 \n",
      " 6   hour         568401 non-null  object\n",
      "dtypes: int32(5), int64(1), object(1)\n",
      "memory usage: 23.9+ MB\n"
     ]
    }
   ],
   "source": [
    "clean_data.info()"
   ]
  },
  {
   "cell_type": "code",
   "execution_count": 23,
   "id": "6de227fc",
   "metadata": {
    "papermill": {
     "duration": 0.466623,
     "end_time": "2024-07-31T08:18:02.424213",
     "exception": false,
     "start_time": "2024-07-31T08:18:01.957590",
     "status": "completed"
    },
    "tags": []
   },
   "outputs": [],
   "source": [
    "#convert the hour feature into int\n",
    "clean_data['hour']=clean_data['hour'].apply(lambda x:x.hour )"
   ]
  },
  {
   "cell_type": "markdown",
   "id": "d3c7bad1",
   "metadata": {
    "papermill": {
     "duration": 0.01349,
     "end_time": "2024-07-31T08:18:02.451882",
     "exception": false,
     "start_time": "2024-07-31T08:18:02.438392",
     "status": "completed"
    },
    "tags": []
   },
   "source": [
    "# lets add another feature:\n",
    "        * Name of the feature is: recomended\n",
    "        * the feature if gonna be boolean\n",
    "        * we are gonna assign it True if its equal or greater than 3 : False other wise"
   ]
  },
  {
   "cell_type": "code",
   "execution_count": 24,
   "id": "d4aa6a8f",
   "metadata": {
    "papermill": {
     "duration": 0.024652,
     "end_time": "2024-07-31T08:18:02.490510",
     "exception": false,
     "start_time": "2024-07-31T08:18:02.465858",
     "status": "completed"
    },
    "tags": []
   },
   "outputs": [],
   "source": [
    "clean_data['Recomended']=clean_data['Score']>=3"
   ]
  },
  {
   "cell_type": "code",
   "execution_count": 25,
   "id": "0c0854cc",
   "metadata": {
    "papermill": {
     "duration": 0.025856,
     "end_time": "2024-07-31T08:18:02.530143",
     "exception": false,
     "start_time": "2024-07-31T08:18:02.504287",
     "status": "completed"
    },
    "tags": []
   },
   "outputs": [
    {
     "data": {
      "text/plain": [
       "Index(['ProductId', 'UserId', 'Score', 'year', 'month', 'day_of_week', 'hour',\n",
       "       'Recomended'],\n",
       "      dtype='object')"
      ]
     },
     "execution_count": 25,
     "metadata": {},
     "output_type": "execute_result"
    }
   ],
   "source": [
    "clean_data.columns"
   ]
  },
  {
   "cell_type": "markdown",
   "id": "d74c1f35-d859-44d6-b16f-9830f4088ded",
   "metadata": {},
   "source": [
    "## droping the 'Rate'---> Score"
   ]
  },
  {
   "cell_type": "code",
   "execution_count": 26,
   "id": "bc610759-7fd3-4ace-86bc-45f0e6c7be6e",
   "metadata": {},
   "outputs": [],
   "source": [
    "clean_data.drop(['Score'],axis=1,inplace=True)"
   ]
  },
  {
   "cell_type": "markdown",
   "id": "e87ff0f5-7e49-4443-9dd8-f0f2411be1f4",
   "metadata": {},
   "source": [
    "# mapping features"
   ]
  },
  {
   "cell_type": "code",
   "execution_count": 27,
   "id": "f1c8f965-eda1-4232-874b-6fb9bb33e48c",
   "metadata": {},
   "outputs": [
    {
     "data": {
      "text/plain": [
       "year\n",
       "2012    198050\n",
       "2011    163536\n",
       "2010     86088\n",
       "2009     55403\n",
       "2008     34144\n",
       "2007     22333\n",
       "2006      6686\n",
       "2005      1344\n",
       "2004       560\n",
       "2003       133\n",
       "2002        73\n",
       "2000        32\n",
       "2001        13\n",
       "1999         6\n",
       "Name: count, dtype: int64"
      ]
     },
     "execution_count": 27,
     "metadata": {},
     "output_type": "execute_result"
    }
   ],
   "source": [
    "clean_data['year'].value_counts()"
   ]
  },
  {
   "cell_type": "code",
   "execution_count": 28,
   "id": "ebcddec0-b3a2-4b7e-9446-ae916ec172fc",
   "metadata": {},
   "outputs": [],
   "source": [
    "def mapping_function_year(year):\n",
    "    return year-1999"
   ]
  },
  {
   "cell_type": "code",
   "execution_count": 29,
   "id": "40bd15ee-fdf4-490a-9242-4c4e9df128c9",
   "metadata": {},
   "outputs": [],
   "source": [
    "#clone=clean_data.copy()"
   ]
  },
  {
   "cell_type": "code",
   "execution_count": 30,
   "id": "0d087ce3-9dac-488e-bf7c-535febb028a2",
   "metadata": {},
   "outputs": [],
   "source": [
    "clean_data['year']=clean_data['year'].apply(mapping_function_year)"
   ]
  },
  {
   "cell_type": "markdown",
   "id": "b1553f9f-e855-445e-b843-5444c4a76c48",
   "metadata": {},
   "source": [
    "# mapping hour"
   ]
  },
  {
   "cell_type": "code",
   "execution_count": 31,
   "id": "8c6e93a0-1400-4c9d-a8bc-24362b0caf07",
   "metadata": {},
   "outputs": [],
   "source": [
    "def mapping_function_hour(hour):\n",
    "    return hour-19"
   ]
  },
  {
   "cell_type": "code",
   "execution_count": 32,
   "id": "4bf149b7-d5be-4c1c-8226-db607a7427f9",
   "metadata": {},
   "outputs": [
    {
     "data": {
      "text/plain": [
       "hour\n",
       "20    382504\n",
       "19    185897\n",
       "Name: count, dtype: int64"
      ]
     },
     "execution_count": 32,
     "metadata": {},
     "output_type": "execute_result"
    }
   ],
   "source": [
    "clean_data['hour'].value_counts()"
   ]
  },
  {
   "cell_type": "code",
   "execution_count": 33,
   "id": "c410eb28-2cfe-4299-b3f8-01f7c476c312",
   "metadata": {},
   "outputs": [],
   "source": [
    "clean_data['hour']=clean_data['hour'].apply(mapping_function_hour)"
   ]
  },
  {
   "cell_type": "code",
   "execution_count": 34,
   "id": "85e0ffc4-dbe7-4ce1-aa66-fa8505f2ba6f",
   "metadata": {},
   "outputs": [
    {
     "data": {
      "text/html": [
       "<div>\n",
       "<style scoped>\n",
       "    .dataframe tbody tr th:only-of-type {\n",
       "        vertical-align: middle;\n",
       "    }\n",
       "\n",
       "    .dataframe tbody tr th {\n",
       "        vertical-align: top;\n",
       "    }\n",
       "\n",
       "    .dataframe thead th {\n",
       "        text-align: right;\n",
       "    }\n",
       "</style>\n",
       "<table border=\"1\" class=\"dataframe\">\n",
       "  <thead>\n",
       "    <tr style=\"text-align: right;\">\n",
       "      <th></th>\n",
       "      <th>ProductId</th>\n",
       "      <th>UserId</th>\n",
       "      <th>year</th>\n",
       "      <th>month</th>\n",
       "      <th>day_of_week</th>\n",
       "      <th>hour</th>\n",
       "      <th>Recomended</th>\n",
       "    </tr>\n",
       "  </thead>\n",
       "  <tbody>\n",
       "    <tr>\n",
       "      <th>0</th>\n",
       "      <td>27619</td>\n",
       "      <td>188633</td>\n",
       "      <td>12</td>\n",
       "      <td>4</td>\n",
       "      <td>1</td>\n",
       "      <td>1</td>\n",
       "      <td>True</td>\n",
       "    </tr>\n",
       "    <tr>\n",
       "      <th>1</th>\n",
       "      <td>72383</td>\n",
       "      <td>25104</td>\n",
       "      <td>13</td>\n",
       "      <td>9</td>\n",
       "      <td>3</td>\n",
       "      <td>1</td>\n",
       "      <td>False</td>\n",
       "    </tr>\n",
       "    <tr>\n",
       "      <th>2</th>\n",
       "      <td>15267</td>\n",
       "      <td>210468</td>\n",
       "      <td>9</td>\n",
       "      <td>8</td>\n",
       "      <td>6</td>\n",
       "      <td>1</td>\n",
       "      <td>True</td>\n",
       "    </tr>\n",
       "    <tr>\n",
       "      <th>3</th>\n",
       "      <td>19718</td>\n",
       "      <td>152622</td>\n",
       "      <td>12</td>\n",
       "      <td>6</td>\n",
       "      <td>6</td>\n",
       "      <td>1</td>\n",
       "      <td>False</td>\n",
       "    </tr>\n",
       "    <tr>\n",
       "      <th>4</th>\n",
       "      <td>69007</td>\n",
       "      <td>57800</td>\n",
       "      <td>13</td>\n",
       "      <td>10</td>\n",
       "      <td>5</td>\n",
       "      <td>1</td>\n",
       "      <td>True</td>\n",
       "    </tr>\n",
       "  </tbody>\n",
       "</table>\n",
       "</div>"
      ],
      "text/plain": [
       "   ProductId  UserId  year  month  day_of_week  hour  Recomended\n",
       "0      27619  188633    12      4            1     1        True\n",
       "1      72383   25104    13      9            3     1       False\n",
       "2      15267  210468     9      8            6     1        True\n",
       "3      19718  152622    12      6            6     1       False\n",
       "4      69007   57800    13     10            5     1        True"
      ]
     },
     "execution_count": 34,
     "metadata": {},
     "output_type": "execute_result"
    }
   ],
   "source": [
    "clean_data.head()"
   ]
  },
  {
   "cell_type": "code",
   "execution_count": 35,
   "id": "0b3c3258-0066-4de0-b4d6-3207dd7f66fd",
   "metadata": {},
   "outputs": [],
   "source": [
    "# scaler=MinMaxScaler()\n",
    "\n",
    "# columns_to_scale=['year','month','hour','day_of_week']\n",
    "# clean_data[columns_to_scale]=scaler.fit_transform(clean_data[columns_to_scale])"
   ]
  },
  {
   "cell_type": "code",
   "execution_count": 36,
   "id": "627ff3ca-6907-4ce1-877c-f8eaa3bd826f",
   "metadata": {},
   "outputs": [],
   "source": [
    "# lets change the boolean into number\n",
    "clean_data['Recomended']=clean_data['Recomended'].astype(int)"
   ]
  },
  {
   "cell_type": "markdown",
   "id": "4b015648",
   "metadata": {
    "papermill": {
     "duration": 0.013438,
     "end_time": "2024-07-31T08:18:02.557604",
     "exception": false,
     "start_time": "2024-07-31T08:18:02.544166",
     "status": "completed"
    },
    "tags": []
   },
   "source": [
    "# split into train and test"
   ]
  },
  {
   "cell_type": "code",
   "execution_count": 37,
   "id": "8abb0f83",
   "metadata": {
    "papermill": {
     "duration": 0.43086,
     "end_time": "2024-07-31T08:18:03.003150",
     "exception": false,
     "start_time": "2024-07-31T08:18:02.572290",
     "status": "completed"
    },
    "tags": []
   },
   "outputs": [],
   "source": [
    "#split into train and test\n",
    "train,test=train_test_split(\n",
    "    clean_data,\n",
    "    random_state=42,\n",
    "    test_size=0.2,\n",
    "    stratify=clean_data['Recomended']\n",
    ")"
   ]
  },
  {
   "cell_type": "markdown",
   "id": "a5aaa40b-beac-4322-9c53-61829c39a982",
   "metadata": {},
   "source": [
    "# lets check for data distribution"
   ]
  },
  {
   "cell_type": "code",
   "execution_count": 38,
   "id": "33669a63-cde3-46b5-8c72-655d85f2b25e",
   "metadata": {},
   "outputs": [
    {
     "data": {
      "image/png": "[encoded data removed]",
      "text/plain": [
       "<Figure size 640x480 with 1 Axes>"
      ]
     },
     "metadata": {},
     "output_type": "display_data"
    }
   ],
   "source": [
    "plt.hist(clean_data['month'],edgecolor=\"black\")\n",
    "plt.show()"
   ]
  },
  {
   "cell_type": "code",
   "execution_count": 39,
   "id": "90104e61-7511-4fda-b6f2-20dfb309dc9d",
   "metadata": {},
   "outputs": [
    {
     "data": {
      "image/png": "[encoded data removed]",
      "text/plain": [
       "<Figure size 640x480 with 1 Axes>"
      ]
     },
     "metadata": {},
     "output_type": "display_data"
    }
   ],
   "source": [
    "plt.hist(clean_data['year'],edgecolor='black')\n",
    "plt.show()"
   ]
  },
  {
   "cell_type": "code",
   "execution_count": 40,
   "id": "36b566ea-23a4-4730-a5ed-8a5edbc320ab",
   "metadata": {},
   "outputs": [
    {
     "data": {
      "image/png": "[encoded data removed]",
      "text/plain": [
       "<Figure size 640x480 with 1 Axes>"
      ]
     },
     "metadata": {},
     "output_type": "display_data"
    }
   ],
   "source": [
    "plt.hist(clean_data['hour'],edgecolor='black')\n",
    "plt.show()"
   ]
  },
  {
   "cell_type": "code",
   "execution_count": 41,
   "id": "97f23911-738e-4cec-a270-b1d081338a3b",
   "metadata": {},
   "outputs": [
    {
     "data": {
      "image/png": "[encoded data removed]",
      "text/plain": [
       "<Figure size 640x480 with 1 Axes>"
      ]
     },
     "metadata": {},
     "output_type": "display_data"
    }
   ],
   "source": [
    "plt.hist(clean_data['Recomended'],edgecolor=\"black\")\n",
    "plt.show()"
   ]
  },
  {
   "cell_type": "code",
   "execution_count": 42,
   "id": "384944c6-dc17-4a4e-94ab-dc3eb4dfd486",
   "metadata": {},
   "outputs": [
    {
     "data": {
      "image/png": "[encoded data removed]",
      "text/plain": [
       "<Figure size 640x480 with 1 Axes>"
      ]
     },
     "metadata": {},
     "output_type": "display_data"
    }
   ],
   "source": [
    "plt.hist(clean_data['day_of_week'],edgecolor=\"black\")\n",
    "plt.show()"
   ]
  },
  {
   "cell_type": "markdown",
   "id": "876d7ec2",
   "metadata": {
    "papermill": {
     "duration": 0.013714,
     "end_time": "2024-07-31T08:18:03.030890",
     "exception": false,
     "start_time": "2024-07-31T08:18:03.017176",
     "status": "completed"
    },
    "tags": []
   },
   "source": [
    "# turn them into torch dataset"
   ]
  },
  {
   "cell_type": "code",
   "execution_count": 43,
   "id": "acd10c7c-6648-472a-bdd0-37069efddb8a",
   "metadata": {},
   "outputs": [],
   "source": [
    "device=torch.device('cuda' if torch.cuda.is_available() else 'cpu')"
   ]
  },
  {
   "cell_type": "code",
   "execution_count": 44,
   "id": "ed412d1a-dde5-46f3-bf1a-7df209dba3a4",
   "metadata": {},
   "outputs": [],
   "source": [
    "p=torch.tensor(90,dtype=torch.long)"
   ]
  },
  {
   "cell_type": "code",
   "execution_count": 45,
   "id": "674254ec",
   "metadata": {
    "papermill": {
     "duration": 0.026573,
     "end_time": "2024-07-31T08:18:03.071328",
     "exception": false,
     "start_time": "2024-07-31T08:18:03.044755",
     "status": "completed"
    },
    "tags": []
   },
   "outputs": [],
   "source": [
    "class Mydataset(Dataset):\n",
    "    def __init__(self,data):\n",
    "        super().__init__()\n",
    "        self.data=data\n",
    "        \n",
    "    def __len__(self):\n",
    "        return len(self.data)\n",
    "    \n",
    "    def __getitem__(self,idx):\n",
    "        #element to extract\n",
    "        item=self.data.iloc[idx]\n",
    "        \n",
    "        return {\n",
    "            \"product_id\":torch.tensor([item['ProductId']],dtype=torch.long).to(device),\n",
    "            \"user_id\":torch.tensor([item['UserId']],dtype=torch.long).to(device) ,\n",
    "            \"year\":torch.tensor([item['year']],dtype=torch.long).to(device) ,\n",
    "            \"month\":torch.tensor([item['month']],dtype=torch.long).to(device) ,\n",
    "            \"day_of_week\":torch.tensor([item['day_of_week']],dtype=torch.long).to(device) ,\n",
    "            \"hour\":torch.tensor([item['hour']],dtype=torch.long).to(device) ,\n",
    "            \"recomended\":torch.tensor([item['Recomended']],dtype=torch.float).to(device)\n",
    "        }"
   ]
  },
  {
   "cell_type": "markdown",
   "id": "9cf3d9a7",
   "metadata": {
    "papermill": {
     "duration": 0.013483,
     "end_time": "2024-07-31T08:18:03.099038",
     "exception": false,
     "start_time": "2024-07-31T08:18:03.085555",
     "status": "completed"
    },
    "tags": []
   },
   "source": [
    "## loading the torch dataset format"
   ]
  },
  {
   "cell_type": "code",
   "execution_count": 46,
   "id": "d1d2dcd1",
   "metadata": {
    "papermill": {
     "duration": 0.022494,
     "end_time": "2024-07-31T08:18:03.135384",
     "exception": false,
     "start_time": "2024-07-31T08:18:03.112890",
     "status": "completed"
    },
    "tags": []
   },
   "outputs": [],
   "source": [
    "#trainig dataset\n",
    "train_dataset=Mydataset(train)\n",
    "test_dataset=Mydataset(test)"
   ]
  },
  {
   "cell_type": "code",
   "execution_count": 47,
   "id": "7e0924bb",
   "metadata": {
    "papermill": {
     "duration": 0.023508,
     "end_time": "2024-07-31T08:18:03.172672",
     "exception": false,
     "start_time": "2024-07-31T08:18:03.149164",
     "status": "completed"
    },
    "tags": []
   },
   "outputs": [
    {
     "name": "stdout",
     "output_type": "stream",
     "text": [
      "<__main__.Mydataset object at 0x00000226409AEAC0>\n",
      "<__main__.Mydataset object at 0x00000226409AE790>\n"
     ]
    }
   ],
   "source": [
    "print(train_dataset)\n",
    "print(test_dataset)"
   ]
  },
  {
   "cell_type": "markdown",
   "id": "4f3f5407",
   "metadata": {
    "papermill": {
     "duration": 0.013516,
     "end_time": "2024-07-31T08:18:03.200493",
     "exception": false,
     "start_time": "2024-07-31T08:18:03.186977",
     "status": "completed"
    },
    "tags": []
   },
   "source": [
    "# turning it into torch dataloader"
   ]
  },
  {
   "cell_type": "code",
   "execution_count": 48,
   "id": "88c8a2b1",
   "metadata": {
    "papermill": {
     "duration": 0.025701,
     "end_time": "2024-07-31T08:18:03.240029",
     "exception": false,
     "start_time": "2024-07-31T08:18:03.214328",
     "status": "completed"
    },
    "tags": []
   },
   "outputs": [],
   "source": [
    "#making the train dataloader\n",
    "train_dataloader=DataLoader(\n",
    "    dataset=train_dataset,\n",
    "    batch_size=32\n",
    ")\n",
    "\n",
    "#making test dataloader\n",
    "test_dataloader=DataLoader(\n",
    "    dataset=test_dataset,\n",
    "    batch_size=32\n",
    ")"
   ]
  },
  {
   "cell_type": "code",
   "execution_count": 49,
   "id": "9e39715f-ed1f-4b99-82a4-319306faeaf2",
   "metadata": {
    "scrolled": true
   },
   "outputs": [
    {
     "name": "stdout",
     "output_type": "stream",
     "text": [
      "torch.Size([32, 1])\n",
      "torch.Size([32, 1])\n"
     ]
    }
   ],
   "source": [
    "# acessing elements of the dataloader\n",
    "for batch in train_dataloader:\n",
    "    print(batch['product_id'].shape)\n",
    "    print(batch['user_id'].shape)\n",
    "    break"
   ]
  },
  {
   "cell_type": "markdown",
   "id": "91e16b4e-aa05-4321-95c9-c3e4570931c5",
   "metadata": {},
   "source": [
    "# model package importing"
   ]
  },
  {
   "cell_type": "code",
   "execution_count": 50,
   "id": "59a2329d",
   "metadata": {},
   "outputs": [],
   "source": [
    "import sys\n",
    "sys.path.append('C:/Users/nebiy/Documents/recommendation_system/tiny_recommendation/jupyter_notes/trial.py')\n",
    "from trial import WideDeep,WD_Config"
   ]
  },
  {
   "cell_type": "code",
   "execution_count": 51,
   "id": "fdddf7bf-f1d2-4eb8-97cc-423a3c966d91",
   "metadata": {},
   "outputs": [],
   "source": [
    "config=WD_Config()\n",
    "config.num_product=clean_data['ProductId'].nunique()\n",
    "config.num_users=clean_data['UserId'].nunique() \n",
    "config.num_year=clean_data[\"year\"].nunique()\n",
    "config.num_time_day=clean_data[\"hour\"].nunique()\n",
    "config.num_month=clean_data['month'].nunique()+1   #since in this column it start from 1\n",
    "config.num_day_week=clean_data[\"day_of_week\"].nunique()\n",
    "config.embedding_dim=100"
   ]
  },
  {
   "cell_type": "code",
   "execution_count": 52,
   "id": "b8092a9c-c4f8-4674-8baa-776351aaf271",
   "metadata": {},
   "outputs": [
    {
     "name": "stdout",
     "output_type": "stream",
     "text": [
      "WD_Config(num_product=74257, num_users=256042, num_day_week=7, num_month=13, num_time_day=2, num_feature=6, embedding_dim=100, num_year=14)\n"
     ]
    }
   ],
   "source": [
    "print(config)"
   ]
  },
  {
   "cell_type": "code",
   "execution_count": 53,
   "id": "05459af5",
   "metadata": {},
   "outputs": [],
   "source": [
    "model=WideDeep(config)"
   ]
  },
  {
   "cell_type": "markdown",
   "id": "fe015709-d785-4b0c-a387-52eed6d6f477",
   "metadata": {},
   "source": [
    "# setup the config of the model"
   ]
  },
  {
   "cell_type": "code",
   "execution_count": 54,
   "id": "a04b7939-6e3a-4bbc-82e9-2acb15949ff4",
   "metadata": {},
   "outputs": [
    {
     "data": {
      "text/plain": [
       "day_of_week\n",
       "2    87051\n",
       "1    85986\n",
       "0    85850\n",
       "6    85360\n",
       "3    79679\n",
       "5    72791\n",
       "4    71684\n",
       "Name: count, dtype: int64"
      ]
     },
     "execution_count": 54,
     "metadata": {},
     "output_type": "execute_result"
    }
   ],
   "source": [
    "clean_data[\"day_of_week\"].value_counts()"
   ]
  },
  {
   "cell_type": "code",
   "execution_count": 55,
   "id": "d3c6194e-d77b-48d7-b27b-e798e353a6b7",
   "metadata": {},
   "outputs": [],
   "source": [
    "# config.num_product=clean_data['ProductId'].nunique()+1\n",
    "# config.num_users=clean_data['UserId'].nunique() +1\n",
    "# config.num_year=clean_data[\"year\"].nunique()+1\n",
    "# config.num_time_day=clean_data[\"hour\"].nunique()+1\n",
    "# config.num_month=clean_data['month'].nunique()+1\n",
    "# config.num_day_week=clean_data[\"day_of_week\"].nunique()+1\n",
    "# config.embedding_dim=100"
   ]
  },
  {
   "cell_type": "code",
   "execution_count": 56,
   "id": "fba89ee1",
   "metadata": {},
   "outputs": [],
   "source": [
    "model=model.to(device)"
   ]
  },
  {
   "cell_type": "code",
   "execution_count": 57,
   "id": "efa3712d",
   "metadata": {},
   "outputs": [],
   "source": [
    "optim=torch.optim.AdamW(model.parameters(),lr=0.01,weight_decay=0.01)  #the deep component\n",
    "#loss_fn=torch.nn.BCELoss() \n",
    "\n",
    "#bce with logits\n",
    "loss_fn=nn.BCEWithLogitsLoss()\n",
    "\n",
    "#lets use different loss calculation\n",
    "#loss_rn=nn.MSELoss()"
   ]
  },
  {
   "cell_type": "markdown",
   "id": "fc78406d-eefe-49b5-9175-d242f594f928",
   "metadata": {},
   "source": [
    "# lets debug some stuff with data and model"
   ]
  },
  {
   "cell_type": "code",
   "execution_count": 58,
   "id": "fe58e7ed-753b-4886-b33c-fbba9793e645",
   "metadata": {
    "scrolled": true
   },
   "outputs": [
    {
     "name": "stdout",
     "output_type": "stream",
     "text": [
      "32\n",
      "torch.Size([32, 1])\n",
      "torch.Size([32, 1])\n",
      "torch.Size([32, 1])\n",
      "torch.Size([32, 1])\n",
      "torch.Size([32, 1])\n",
      "torch.Size([32, 1])\n"
     ]
    }
   ],
   "source": [
    "# lets access 10 elements from one batch\n",
    "for batch in train_dataloader:\n",
    "    product_id=batch[\"product_id\"]\n",
    "    user_id=batch[\"user_id\"]\n",
    "    year=batch[\"year\"]\n",
    "    month=batch[\"month\"]\n",
    "    day_of_week=batch[\"day_of_week\"]\n",
    "    hour=batch[\"hour\"]\n",
    "    recomended=batch[\"recomended\"]\n",
    "    \n",
    "    print(product_id.size(0))\n",
    "    print(user_id.shape)\n",
    "    print(year.shape)\n",
    "    print(recomended.shape)\n",
    "    print(month.shape)\n",
    "    print(year.shape)\n",
    "    print(day_of_week.shape)\n",
    "    \n",
    "    break"
   ]
  },
  {
   "cell_type": "markdown",
   "id": "81634b8a",
   "metadata": {},
   "source": [
    "# train my model"
   ]
  },
  {
   "cell_type": "code",
   "execution_count": 59,
   "id": "c12b4fc4-6fab-4617-a067-d4e0a5283dcc",
   "metadata": {},
   "outputs": [],
   "source": [
    "# extraxt one batch \n",
    "for batch in train_dataloader:\n",
    "    one_batch=batch\n",
    "    break"
   ]
  },
  {
   "cell_type": "code",
   "execution_count": 60,
   "id": "a15d949c-9a7b-47af-b3aa-af935514b380",
   "metadata": {},
   "outputs": [],
   "source": [
    "batches=[]\n",
    "for idx,batch in enumerate(train_dataloader):\n",
    "    if(idx<4):\n",
    "        batches.append(batch)\n",
    "    else:\n",
    "        break"
   ]
  },
  {
   "cell_type": "code",
   "execution_count": 61,
   "id": "2fdbf23d-34a5-4d05-be1b-3fee33b3e1f3",
   "metadata": {},
   "outputs": [],
   "source": [
    "#print(model_pred)"
   ]
  },
  {
   "cell_type": "code",
   "execution_count": 62,
   "id": "c5351552-e7f5-4796-8efa-92ee0803abe4",
   "metadata": {},
   "outputs": [],
   "source": [
    "writer=SummaryWriter('runs/wide_deep_weights_grads')"
   ]
  },
  {
   "cell_type": "code",
   "execution_count": null,
   "id": "2bd98dc7",
   "metadata": {
    "papermill": {
     "duration": 0.013723,
     "end_time": "2024-07-31T08:18:03.268739",
     "exception": false,
     "start_time": "2024-07-31T08:18:03.255016",
     "status": "completed"
    },
    "scrolled": true,
    "tags": []
   },
   "outputs": [
    {
     "name": "stdout",
     "output_type": "stream",
     "text": [
      "the loss is 5255.77734375\n",
      "the loss is 0.0\n"
     ]
    }
   ],
   "source": [
    "#lets start the training\n",
    "n_epoch=100\n",
    "for epoch in range(n_epoch):\n",
    "    for batch in batches:\n",
    "        #getting the shape right\n",
    "        product_id=batch['product_id']\n",
    "        user_id=batch['user_id']\n",
    "        year=batch['year']\n",
    "        month=batch['month']\n",
    "        day_of_week=batch['day_of_week']\n",
    "        hour=batch['hour']\n",
    "        recomended=batch['recomended']\n",
    "    \n",
    "        #changing the value of the recomended\n",
    "        recomended=recomended.float()\n",
    "        \n",
    "        #feed forward model\n",
    "        model_pred=model(\n",
    "            product_id,\n",
    "            user_id,\n",
    "            year,\n",
    "            month,\n",
    "            day_of_week,\n",
    "            hour\n",
    "        )\n",
    "    \n",
    "        #print(f\"loss at {epoch} epoch : is {model_pred} \")\n",
    "    \n",
    "        #calculate the loss\n",
    "        loss=loss_fn(model_pred,recomended)\n",
    "        \n",
    "        #zero grad\n",
    "        optim.zero_grad()\n",
    "        loss.backward()\n",
    "    \n",
    "        #lets clip the gradient of the module\n",
    "        #torch.nn.utils.clip_grad_norm_(model.parameters(), max_norm=1)\n",
    "        \n",
    "        optim.step() #update the gradient \n",
    "\n",
    "        #lets see the weights\n",
    "        for name,param in model.named_parameters():\n",
    "            writer.add_histogram(name,param,epoch)\n",
    "\n",
    "        #lets see the gradient norm\n",
    "        total_norm=0\n",
    "        for param in model.parameters():\n",
    "            param_norm=param.grad.data.norm(2)\n",
    "            total_norm+=param_norm.item()**2\n",
    "        \n",
    "        total_norm=total_norm**5\n",
    "        writer.add_scalar('gradient norm',total_norm,epoch)\n",
    "\n",
    "\n",
    "        #lets recoord the loss\n",
    "        writer.add_scalar('loss/train',loss.item(),epoch)\n",
    "        \n",
    "        \n",
    "        \n",
    "        #display the loss every 5 epoch\n",
    "    if(epoch%10==0):\n",
    "        print(f\"the loss is {loss.item()}\")\n",
    "\n",
    "#lets close the tenosrboard\n",
    "writer.close()"
   ]
  },
  {
   "cell_type": "code",
   "execution_count": null,
   "id": "f646c84b-32e7-4eae-a9e8-360fabf6dccd",
   "metadata": {},
   "outputs": [],
   "source": []
  },
  {
   "cell_type": "code",
   "execution_count": null,
   "id": "8e92bb15-61f4-4906-8029-1692b2af98ca",
   "metadata": {},
   "outputs": [],
   "source": []
  },
  {
   "cell_type": "code",
   "execution_count": null,
   "id": "10686ff9-9e72-44d1-ada7-fb1b8a311704",
   "metadata": {},
   "outputs": [],
   "source": []
  },
  {
   "cell_type": "code",
   "execution_count": null,
   "id": "8a263d05-b2da-44fa-b3f9-b32d3a7df7fa",
   "metadata": {},
   "outputs": [],
   "source": []
  },
  {
   "cell_type": "code",
   "execution_count": null,
   "id": "b16f1e1e-a06a-471f-ba18-5638b21c0c96",
   "metadata": {},
   "outputs": [],
   "source": []
  },
  {
   "cell_type": "code",
   "execution_count": null,
   "id": "859eacfb-fdaa-48ff-8221-cf6d6e5a38ca",
   "metadata": {},
   "outputs": [],
   "source": []
  },
  {
   "cell_type": "code",
   "execution_count": null,
   "id": "d3e52333-0fa8-4b28-ac56-4653c2f48100",
   "metadata": {},
   "outputs": [],
   "source": []
  },
  {
   "cell_type": "code",
   "execution_count": null,
   "id": "96968e84-e5aa-4832-961a-784b9e28c84b",
   "metadata": {},
   "outputs": [],
   "source": []
  },
  {
   "cell_type": "markdown",
   "id": "8eafe0e0-596b-4f2f-9ef1-b97587296d6a",
   "metadata": {
    "jp-MarkdownHeadingCollapsed": true
   },
   "source": [
    "# lets debug"
   ]
  },
  {
   "cell_type": "markdown",
   "id": "fc10183d-b2fb-4353-9a5b-45c91bbfa375",
   "metadata": {},
   "source": [
    "## check for nan values in our dataset"
   ]
  },
  {
   "cell_type": "code",
   "execution_count": null,
   "id": "ddefb514-8f29-4e9e-b452-c1873d39b5a7",
   "metadata": {},
   "outputs": [],
   "source": [
    "# clean_data.columns"
   ]
  },
  {
   "cell_type": "code",
   "execution_count": null,
   "id": "c84344ed-20d8-4334-a180-1989c4abbf4c",
   "metadata": {},
   "outputs": [],
   "source": [
    "# print(f\"product id: {clean_data['ProductId'].isnull().sum()} \")\n",
    "# print(f\"user id: {clean_data['UserId'].isnull().sum()} \")\n",
    "# print(f\"year : {clean_data['year'].isnull().sum()} \")\n",
    "# print(f\"month: {clean_data['month'].isnull().sum()} \")\n",
    "# print(f\"day of week: {clean_data['day_of_week'].isnull().sum()} \")\n",
    "# print(f\"hour: {clean_data['hour'].isnull().sum()} \")\n",
    "# print(f\"recomended: {clean_data['Recomended'].isnull().sum()} \")"
   ]
  },
  {
   "cell_type": "markdown",
   "id": "476f8e9b-5f63-41c3-9127-6e4db9e8068a",
   "metadata": {
    "jp-MarkdownHeadingCollapsed": true
   },
   "source": [
    "# wide part"
   ]
  },
  {
   "cell_type": "code",
   "execution_count": null,
   "id": "8e2a8f7c-dcfa-4f74-8c95-9af5d3fb6ab3",
   "metadata": {
    "scrolled": true
   },
   "outputs": [],
   "source": [
    "# lin=nn.Linear(2,1)\n",
    "# a=one_batch['product_id']\n",
    "# b=one_batch['user_id']\n",
    "\n",
    "# a=a.float()\n",
    "# b=b.float()\n",
    "\n",
    "# #print(a)\n",
    "# #print(b)\n",
    "# for i in range(1000):\n",
    "#     c=lin(torch.cat((a,b),dim=1))\n",
    "#     if(i%100==0):\n",
    "#         print(f\"epoch is {i} and value is {c} \")"
   ]
  },
  {
   "cell_type": "markdown",
   "id": "10640bba-ca37-4936-9665-a0b9ef4dbf15",
   "metadata": {},
   "source": [
    "# deep part"
   ]
  },
  {
   "cell_type": "code",
   "execution_count": null,
   "id": "3526dfd3-e4a5-4088-a8f7-540efeccc212",
   "metadata": {},
   "outputs": [],
   "source": [
    "# config.num_product=clean_data['ProductId'].nunique()+1\n",
    "# config.num_users=clean_data['UserId'].nunique() +1\n",
    "# config.num_year=clean_data[\"year\"].nunique()+1\n",
    "# config.num_time_day=clean_data[\"hour\"].nunique()+1\n",
    "# config.num_month=clean_data['month'].nunique()+1\n",
    "# config.num_day_week=clean_data[\"day_of_week\"].nunique()+1\n",
    "# config.embedding_dim=100"
   ]
  },
  {
   "cell_type": "code",
   "execution_count": null,
   "id": "dce47bba-4adb-4f5d-97cf-f6dae226d5b9",
   "metadata": {},
   "outputs": [],
   "source": [
    "# embed_input.shape"
   ]
  },
  {
   "cell_type": "code",
   "execution_count": null,
   "id": "0fb0dba6-6a3a-4123-89ed-9e0bcf86ae77",
   "metadata": {
    "scrolled": true
   },
   "outputs": [],
   "source": [
    "# em1=nn.Embedding(clean_data['ProductId'].nunique()+1,100)\n",
    "# em2=nn.Embedding(clean_data['UserId'].nunique()+1,100)\n",
    "# em3=nn.Embedding(clean_data['year'].nunique()+1,100)\n",
    "# em4=nn.Embedding(clean_data['hour'].nunique()+1,100)\n",
    "# em5=nn.Embedding(clean_data['month'].nunique()+1,100)\n",
    "# em6=nn.Embedding(clean_data['day_of_week'].nunique()+1,100)\n",
    "\n",
    "# #em6=nn.Embedding(clean_data['Recomended'].nunique()+1,100)\n",
    "# true_label=one_batch['recomended']\n",
    "\n",
    "# #lets forward data through it\n",
    "# em1_embd=em1(one_batch['product_id'])\n",
    "# em2_embd=em2(one_batch['user_id'])\n",
    "# em3_embd=em3(one_batch['year'])\n",
    "# em4_embd=em4(one_batch['hour'])\n",
    "# em5_embd=em5(one_batch['month'])\n",
    "# em6_embd=em6(one_batch['day_of_week'])\n",
    "\n",
    "\n",
    "# #lets concatinate man\n",
    "# embed_input=torch.cat((\n",
    "#     em1_embd.view(em1_embd.size(0),-1),\n",
    "#     em2_embd.view(em2_embd.size(0),-1),\n",
    "#     em3_embd.view(em3_embd.size(0),-1),\n",
    "#     em4_embd.view(em4_embd.size(0),-1),\n",
    "#     em5_embd.view(em5_embd.size(0),-1),\n",
    "#     em6_embd.view(em6_embd.size(0),-1)\n",
    "# ),dim=1)\n",
    "\n",
    "# #model architecture\n",
    "# l1=nn.Linear(600,800)\n",
    "# a1=nn.ReLU()\n",
    "\n",
    "# l2=nn.Linear(800,400)\n",
    "# a2=nn.ReLU()\n",
    "\n",
    "# l3=nn.Linear(400,360)\n",
    "# a3=nn.ReLU()\n",
    "\n",
    "# l4=nn.Linear(360,1)\n",
    "\n",
    "# all_model=nn.Sequential(\n",
    "#     nn.Linear(600,800),\n",
    "#     nn.ReLU(),\n",
    "    \n",
    "#     nn.Linear(800,400),\n",
    "#     nn.ReLU(),\n",
    "    \n",
    "#     nn.Linear(400,200)\n",
    "# )\n",
    "\n",
    "# optim=torch.optim.Adam(all_model.parameters())\n",
    "# loss_fn=nn.BCELoss()\n",
    "\n",
    "\n",
    "# #lets feed forward through man\n",
    "# for i in range(1000):\n",
    "#     out1=l1(embed_input)\n",
    "#     act=a1(out1)\n",
    "    \n",
    "#     out2=l2(act)\n",
    "#     act2=a2(out2)\n",
    "    \n",
    "#     out3=l3(act2)\n",
    "#     act3=a3(out3)\n",
    "    \n",
    "#     out4=l4(out3)\n",
    "\n",
    "#     out4=torch.sigmoid(out4)\n",
    "\n",
    "#     loss=loss_fn(out4,true_label)\n",
    "    \n",
    "#     if(i%100==0):\n",
    "#         print(loss.item())"
   ]
  },
  {
   "cell_type": "code",
   "execution_count": null,
   "id": "ab334bd1-186f-402f-baeb-15f0dd1475a0",
   "metadata": {},
   "outputs": [],
   "source": [
    "# true_label.shape"
   ]
  },
  {
   "cell_type": "code",
   "execution_count": null,
   "id": "12756e19-7b1e-489c-b4ee-156d1388192b",
   "metadata": {},
   "outputs": [],
   "source": []
  },
  {
   "cell_type": "code",
   "execution_count": null,
   "id": "c874c802-1678-42c1-909a-2ed2e66d5064",
   "metadata": {},
   "outputs": [],
   "source": []
  }
 ],
 "metadata": {
  "kaggle": {
   "accelerator": "none",
   "dataSources": [
    {
     "datasetId": 2038205,
     "sourceId": 3380672,
     "sourceType": "datasetVersion"
    },
    {
     "datasetId": 5468798,
     "sourceId": 9067293,
     "sourceType": "datasetVersion"
    }
   ],
   "dockerImageVersionId": 30746,
   "isGpuEnabled": false,
   "isInternetEnabled": true,
   "language": "python",
   "sourceType": "notebook"
  },
  "kernelspec": {
   "display_name": "Python 3 (ipykernel)",
   "language": "python",
   "name": "python3"
  },
  "language_info": {
   "codemirror_mode": {
    "name": "ipython",
    "version": 3
   },
   "file_extension": ".py",
   "mimetype": "text/x-python",
   "name": "python",
   "nbconvert_exporter": "python",
   "pygments_lexer": "ipython3",
   "version": "3.8.18"
  },
  "papermill": {
   "default_parameters": {},
   "duration": 25.610004,
   "end_time": "2024-07-31T08:18:04.735322",
   "environment_variables": {},
   "exception": null,
   "input_path": "__notebook__.ipynb",
   "output_path": "__notebook__.ipynb",
   "parameters": {},
   "start_time": "2024-07-31T08:17:39.125318",
   "version": "2.5.0"
  }
 },
 "nbformat": 4,
 "nbformat_minor": 5
}
