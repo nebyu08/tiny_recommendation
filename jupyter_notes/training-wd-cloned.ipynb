{
 "cells": [
  {
   "cell_type": "code",
   "execution_count": 1,
   "id": "c7f528c5",
   "metadata": {
    "execution": {
     "iopub.execute_input": "2024-08-13T06:22:55.037026Z",
     "iopub.status.busy": "2024-08-13T06:22:55.036469Z",
     "iopub.status.idle": "2024-08-13T06:22:55.041372Z",
     "shell.execute_reply": "2024-08-13T06:22:55.040441Z",
     "shell.execute_reply.started": "2024-08-13T06:22:55.036998Z"
    }
   },
   "outputs": [],
   "source": [
    "# %load_ext autoreload\n",
    "# %autoreload 2"
   ]
  },
  {
   "cell_type": "code",
   "execution_count": 2,
   "id": "22b7b798",
   "metadata": {},
   "outputs": [],
   "source": [
    "#!pip install tensorboard -qq"
   ]
  },
  {
   "cell_type": "code",
   "execution_count": 3,
   "id": "e708f8b2",
   "metadata": {
    "_cell_guid": "b1076dfc-b9ad-4769-8c92-a6c4dae69d19",
    "_uuid": "8f2839f25d086af736a60e9eeb907d3b93b6e0e5",
    "papermill": {
     "duration": 7.708278,
     "end_time": "2024-07-31T08:17:49.974919",
     "exception": false,
     "start_time": "2024-07-31T08:17:42.266641",
     "status": "completed"
    },
    "tags": []
   },
   "outputs": [],
   "source": [
    "import os\n",
    "import torch\n",
    "import numpy as np\n",
    "import torch.nn as nn\n",
    "import pandas as pd\n",
    "import matplotlib.pyplot as plt\n",
    "from torch.utils.data import Dataset,DataLoader\n",
    "#from datasets import load_dataset\n",
    "from sklearn.model_selection import train_test_split\n",
    "from sklearn.preprocessing import LabelEncoder\n",
    "#from torch.utils.tensorboard import SummaryWriter"
   ]
  },
  {
   "cell_type": "markdown",
   "id": "25988c62",
   "metadata": {
    "papermill": {
     "duration": 0.01157,
     "end_time": "2024-07-31T08:17:49.998182",
     "exception": false,
     "start_time": "2024-07-31T08:17:49.986612",
     "status": "completed"
    },
    "tags": []
   },
   "source": [
    "# importing the dataset"
   ]
  },
  {
   "cell_type": "code",
   "execution_count": 4,
   "id": "8db89230",
   "metadata": {
    "papermill": {
     "duration": 8.74337,
     "end_time": "2024-07-31T08:17:58.753064",
     "exception": false,
     "start_time": "2024-07-31T08:17:50.009694",
     "status": "completed"
    },
    "tags": []
   },
   "outputs": [
    {
     "ename": "FileNotFoundError",
     "evalue": "[Errno 2] No such file or directory: '/kaggle/input/amazon-product-reviews/Reviews.csv'",
     "output_type": "error",
     "traceback": [
      "\u001b[0;31m---------------------------------------------------------------------------\u001b[0m",
      "\u001b[0;31mFileNotFoundError\u001b[0m                         Traceback (most recent call last)",
      "Cell \u001b[0;32mIn[4], line 2\u001b[0m\n\u001b[1;32m      1\u001b[0m \u001b[38;5;66;03m#import dataset\u001b[39;00m\n\u001b[0;32m----> 2\u001b[0m ds\u001b[38;5;241m=\u001b[39m\u001b[43mpd\u001b[49m\u001b[38;5;241;43m.\u001b[39;49m\u001b[43mread_csv\u001b[49m\u001b[43m(\u001b[49m\u001b[38;5;124;43m'\u001b[39;49m\u001b[38;5;124;43m/kaggle/input/amazon-product-reviews/Reviews.csv\u001b[39;49m\u001b[38;5;124;43m'\u001b[39;49m\u001b[43m)\u001b[49m\n",
      "File \u001b[0;32m~/miniconda3/envs/snakey/lib/python3.8/site-packages/pandas/io/parsers/readers.py:912\u001b[0m, in \u001b[0;36mread_csv\u001b[0;34m(filepath_or_buffer, sep, delimiter, header, names, index_col, usecols, dtype, engine, converters, true_values, false_values, skipinitialspace, skiprows, skipfooter, nrows, na_values, keep_default_na, na_filter, verbose, skip_blank_lines, parse_dates, infer_datetime_format, keep_date_col, date_parser, date_format, dayfirst, cache_dates, iterator, chunksize, compression, thousands, decimal, lineterminator, quotechar, quoting, doublequote, escapechar, comment, encoding, encoding_errors, dialect, on_bad_lines, delim_whitespace, low_memory, memory_map, float_precision, storage_options, dtype_backend)\u001b[0m\n\u001b[1;32m    899\u001b[0m kwds_defaults \u001b[38;5;241m=\u001b[39m _refine_defaults_read(\n\u001b[1;32m    900\u001b[0m     dialect,\n\u001b[1;32m    901\u001b[0m     delimiter,\n\u001b[0;32m   (...)\u001b[0m\n\u001b[1;32m    908\u001b[0m     dtype_backend\u001b[38;5;241m=\u001b[39mdtype_backend,\n\u001b[1;32m    909\u001b[0m )\n\u001b[1;32m    910\u001b[0m kwds\u001b[38;5;241m.\u001b[39mupdate(kwds_defaults)\n\u001b[0;32m--> 912\u001b[0m \u001b[38;5;28;01mreturn\u001b[39;00m \u001b[43m_read\u001b[49m\u001b[43m(\u001b[49m\u001b[43mfilepath_or_buffer\u001b[49m\u001b[43m,\u001b[49m\u001b[43m \u001b[49m\u001b[43mkwds\u001b[49m\u001b[43m)\u001b[49m\n",
      "File \u001b[0;32m~/miniconda3/envs/snakey/lib/python3.8/site-packages/pandas/io/parsers/readers.py:577\u001b[0m, in \u001b[0;36m_read\u001b[0;34m(filepath_or_buffer, kwds)\u001b[0m\n\u001b[1;32m    574\u001b[0m _validate_names(kwds\u001b[38;5;241m.\u001b[39mget(\u001b[38;5;124m\"\u001b[39m\u001b[38;5;124mnames\u001b[39m\u001b[38;5;124m\"\u001b[39m, \u001b[38;5;28;01mNone\u001b[39;00m))\n\u001b[1;32m    576\u001b[0m \u001b[38;5;66;03m# Create the parser.\u001b[39;00m\n\u001b[0;32m--> 577\u001b[0m parser \u001b[38;5;241m=\u001b[39m \u001b[43mTextFileReader\u001b[49m\u001b[43m(\u001b[49m\u001b[43mfilepath_or_buffer\u001b[49m\u001b[43m,\u001b[49m\u001b[43m \u001b[49m\u001b[38;5;241;43m*\u001b[39;49m\u001b[38;5;241;43m*\u001b[39;49m\u001b[43mkwds\u001b[49m\u001b[43m)\u001b[49m\n\u001b[1;32m    579\u001b[0m \u001b[38;5;28;01mif\u001b[39;00m chunksize \u001b[38;5;129;01mor\u001b[39;00m iterator:\n\u001b[1;32m    580\u001b[0m     \u001b[38;5;28;01mreturn\u001b[39;00m parser\n",
      "File \u001b[0;32m~/miniconda3/envs/snakey/lib/python3.8/site-packages/pandas/io/parsers/readers.py:1407\u001b[0m, in \u001b[0;36mTextFileReader.__init__\u001b[0;34m(self, f, engine, **kwds)\u001b[0m\n\u001b[1;32m   1404\u001b[0m     \u001b[38;5;28mself\u001b[39m\u001b[38;5;241m.\u001b[39moptions[\u001b[38;5;124m\"\u001b[39m\u001b[38;5;124mhas_index_names\u001b[39m\u001b[38;5;124m\"\u001b[39m] \u001b[38;5;241m=\u001b[39m kwds[\u001b[38;5;124m\"\u001b[39m\u001b[38;5;124mhas_index_names\u001b[39m\u001b[38;5;124m\"\u001b[39m]\n\u001b[1;32m   1406\u001b[0m \u001b[38;5;28mself\u001b[39m\u001b[38;5;241m.\u001b[39mhandles: IOHandles \u001b[38;5;241m|\u001b[39m \u001b[38;5;28;01mNone\u001b[39;00m \u001b[38;5;241m=\u001b[39m \u001b[38;5;28;01mNone\u001b[39;00m\n\u001b[0;32m-> 1407\u001b[0m \u001b[38;5;28mself\u001b[39m\u001b[38;5;241m.\u001b[39m_engine \u001b[38;5;241m=\u001b[39m \u001b[38;5;28;43mself\u001b[39;49m\u001b[38;5;241;43m.\u001b[39;49m\u001b[43m_make_engine\u001b[49m\u001b[43m(\u001b[49m\u001b[43mf\u001b[49m\u001b[43m,\u001b[49m\u001b[43m \u001b[49m\u001b[38;5;28;43mself\u001b[39;49m\u001b[38;5;241;43m.\u001b[39;49m\u001b[43mengine\u001b[49m\u001b[43m)\u001b[49m\n",
      "File \u001b[0;32m~/miniconda3/envs/snakey/lib/python3.8/site-packages/pandas/io/parsers/readers.py:1661\u001b[0m, in \u001b[0;36mTextFileReader._make_engine\u001b[0;34m(self, f, engine)\u001b[0m\n\u001b[1;32m   1659\u001b[0m     \u001b[38;5;28;01mif\u001b[39;00m \u001b[38;5;124m\"\u001b[39m\u001b[38;5;124mb\u001b[39m\u001b[38;5;124m\"\u001b[39m \u001b[38;5;129;01mnot\u001b[39;00m \u001b[38;5;129;01min\u001b[39;00m mode:\n\u001b[1;32m   1660\u001b[0m         mode \u001b[38;5;241m+\u001b[39m\u001b[38;5;241m=\u001b[39m \u001b[38;5;124m\"\u001b[39m\u001b[38;5;124mb\u001b[39m\u001b[38;5;124m\"\u001b[39m\n\u001b[0;32m-> 1661\u001b[0m \u001b[38;5;28mself\u001b[39m\u001b[38;5;241m.\u001b[39mhandles \u001b[38;5;241m=\u001b[39m \u001b[43mget_handle\u001b[49m\u001b[43m(\u001b[49m\n\u001b[1;32m   1662\u001b[0m \u001b[43m    \u001b[49m\u001b[43mf\u001b[49m\u001b[43m,\u001b[49m\n\u001b[1;32m   1663\u001b[0m \u001b[43m    \u001b[49m\u001b[43mmode\u001b[49m\u001b[43m,\u001b[49m\n\u001b[1;32m   1664\u001b[0m \u001b[43m    \u001b[49m\u001b[43mencoding\u001b[49m\u001b[38;5;241;43m=\u001b[39;49m\u001b[38;5;28;43mself\u001b[39;49m\u001b[38;5;241;43m.\u001b[39;49m\u001b[43moptions\u001b[49m\u001b[38;5;241;43m.\u001b[39;49m\u001b[43mget\u001b[49m\u001b[43m(\u001b[49m\u001b[38;5;124;43m\"\u001b[39;49m\u001b[38;5;124;43mencoding\u001b[39;49m\u001b[38;5;124;43m\"\u001b[39;49m\u001b[43m,\u001b[49m\u001b[43m \u001b[49m\u001b[38;5;28;43;01mNone\u001b[39;49;00m\u001b[43m)\u001b[49m\u001b[43m,\u001b[49m\n\u001b[1;32m   1665\u001b[0m \u001b[43m    \u001b[49m\u001b[43mcompression\u001b[49m\u001b[38;5;241;43m=\u001b[39;49m\u001b[38;5;28;43mself\u001b[39;49m\u001b[38;5;241;43m.\u001b[39;49m\u001b[43moptions\u001b[49m\u001b[38;5;241;43m.\u001b[39;49m\u001b[43mget\u001b[49m\u001b[43m(\u001b[49m\u001b[38;5;124;43m\"\u001b[39;49m\u001b[38;5;124;43mcompression\u001b[39;49m\u001b[38;5;124;43m\"\u001b[39;49m\u001b[43m,\u001b[49m\u001b[43m \u001b[49m\u001b[38;5;28;43;01mNone\u001b[39;49;00m\u001b[43m)\u001b[49m\u001b[43m,\u001b[49m\n\u001b[1;32m   1666\u001b[0m \u001b[43m    \u001b[49m\u001b[43mmemory_map\u001b[49m\u001b[38;5;241;43m=\u001b[39;49m\u001b[38;5;28;43mself\u001b[39;49m\u001b[38;5;241;43m.\u001b[39;49m\u001b[43moptions\u001b[49m\u001b[38;5;241;43m.\u001b[39;49m\u001b[43mget\u001b[49m\u001b[43m(\u001b[49m\u001b[38;5;124;43m\"\u001b[39;49m\u001b[38;5;124;43mmemory_map\u001b[39;49m\u001b[38;5;124;43m\"\u001b[39;49m\u001b[43m,\u001b[49m\u001b[43m \u001b[49m\u001b[38;5;28;43;01mFalse\u001b[39;49;00m\u001b[43m)\u001b[49m\u001b[43m,\u001b[49m\n\u001b[1;32m   1667\u001b[0m \u001b[43m    \u001b[49m\u001b[43mis_text\u001b[49m\u001b[38;5;241;43m=\u001b[39;49m\u001b[43mis_text\u001b[49m\u001b[43m,\u001b[49m\n\u001b[1;32m   1668\u001b[0m \u001b[43m    \u001b[49m\u001b[43merrors\u001b[49m\u001b[38;5;241;43m=\u001b[39;49m\u001b[38;5;28;43mself\u001b[39;49m\u001b[38;5;241;43m.\u001b[39;49m\u001b[43moptions\u001b[49m\u001b[38;5;241;43m.\u001b[39;49m\u001b[43mget\u001b[49m\u001b[43m(\u001b[49m\u001b[38;5;124;43m\"\u001b[39;49m\u001b[38;5;124;43mencoding_errors\u001b[39;49m\u001b[38;5;124;43m\"\u001b[39;49m\u001b[43m,\u001b[49m\u001b[43m \u001b[49m\u001b[38;5;124;43m\"\u001b[39;49m\u001b[38;5;124;43mstrict\u001b[39;49m\u001b[38;5;124;43m\"\u001b[39;49m\u001b[43m)\u001b[49m\u001b[43m,\u001b[49m\n\u001b[1;32m   1669\u001b[0m \u001b[43m    \u001b[49m\u001b[43mstorage_options\u001b[49m\u001b[38;5;241;43m=\u001b[39;49m\u001b[38;5;28;43mself\u001b[39;49m\u001b[38;5;241;43m.\u001b[39;49m\u001b[43moptions\u001b[49m\u001b[38;5;241;43m.\u001b[39;49m\u001b[43mget\u001b[49m\u001b[43m(\u001b[49m\u001b[38;5;124;43m\"\u001b[39;49m\u001b[38;5;124;43mstorage_options\u001b[39;49m\u001b[38;5;124;43m\"\u001b[39;49m\u001b[43m,\u001b[49m\u001b[43m \u001b[49m\u001b[38;5;28;43;01mNone\u001b[39;49;00m\u001b[43m)\u001b[49m\u001b[43m,\u001b[49m\n\u001b[1;32m   1670\u001b[0m \u001b[43m\u001b[49m\u001b[43m)\u001b[49m\n\u001b[1;32m   1671\u001b[0m \u001b[38;5;28;01massert\u001b[39;00m \u001b[38;5;28mself\u001b[39m\u001b[38;5;241m.\u001b[39mhandles \u001b[38;5;129;01mis\u001b[39;00m \u001b[38;5;129;01mnot\u001b[39;00m \u001b[38;5;28;01mNone\u001b[39;00m\n\u001b[1;32m   1672\u001b[0m f \u001b[38;5;241m=\u001b[39m \u001b[38;5;28mself\u001b[39m\u001b[38;5;241m.\u001b[39mhandles\u001b[38;5;241m.\u001b[39mhandle\n",
      "File \u001b[0;32m~/miniconda3/envs/snakey/lib/python3.8/site-packages/pandas/io/common.py:859\u001b[0m, in \u001b[0;36mget_handle\u001b[0;34m(path_or_buf, mode, encoding, compression, memory_map, is_text, errors, storage_options)\u001b[0m\n\u001b[1;32m    854\u001b[0m \u001b[38;5;28;01melif\u001b[39;00m \u001b[38;5;28misinstance\u001b[39m(handle, \u001b[38;5;28mstr\u001b[39m):\n\u001b[1;32m    855\u001b[0m     \u001b[38;5;66;03m# Check whether the filename is to be opened in binary mode.\u001b[39;00m\n\u001b[1;32m    856\u001b[0m     \u001b[38;5;66;03m# Binary mode does not support 'encoding' and 'newline'.\u001b[39;00m\n\u001b[1;32m    857\u001b[0m     \u001b[38;5;28;01mif\u001b[39;00m ioargs\u001b[38;5;241m.\u001b[39mencoding \u001b[38;5;129;01mand\u001b[39;00m \u001b[38;5;124m\"\u001b[39m\u001b[38;5;124mb\u001b[39m\u001b[38;5;124m\"\u001b[39m \u001b[38;5;129;01mnot\u001b[39;00m \u001b[38;5;129;01min\u001b[39;00m ioargs\u001b[38;5;241m.\u001b[39mmode:\n\u001b[1;32m    858\u001b[0m         \u001b[38;5;66;03m# Encoding\u001b[39;00m\n\u001b[0;32m--> 859\u001b[0m         handle \u001b[38;5;241m=\u001b[39m \u001b[38;5;28;43mopen\u001b[39;49m\u001b[43m(\u001b[49m\n\u001b[1;32m    860\u001b[0m \u001b[43m            \u001b[49m\u001b[43mhandle\u001b[49m\u001b[43m,\u001b[49m\n\u001b[1;32m    861\u001b[0m \u001b[43m            \u001b[49m\u001b[43mioargs\u001b[49m\u001b[38;5;241;43m.\u001b[39;49m\u001b[43mmode\u001b[49m\u001b[43m,\u001b[49m\n\u001b[1;32m    862\u001b[0m \u001b[43m            \u001b[49m\u001b[43mencoding\u001b[49m\u001b[38;5;241;43m=\u001b[39;49m\u001b[43mioargs\u001b[49m\u001b[38;5;241;43m.\u001b[39;49m\u001b[43mencoding\u001b[49m\u001b[43m,\u001b[49m\n\u001b[1;32m    863\u001b[0m \u001b[43m            \u001b[49m\u001b[43merrors\u001b[49m\u001b[38;5;241;43m=\u001b[39;49m\u001b[43merrors\u001b[49m\u001b[43m,\u001b[49m\n\u001b[1;32m    864\u001b[0m \u001b[43m            \u001b[49m\u001b[43mnewline\u001b[49m\u001b[38;5;241;43m=\u001b[39;49m\u001b[38;5;124;43m\"\u001b[39;49m\u001b[38;5;124;43m\"\u001b[39;49m\u001b[43m,\u001b[49m\n\u001b[1;32m    865\u001b[0m \u001b[43m        \u001b[49m\u001b[43m)\u001b[49m\n\u001b[1;32m    866\u001b[0m     \u001b[38;5;28;01melse\u001b[39;00m:\n\u001b[1;32m    867\u001b[0m         \u001b[38;5;66;03m# Binary mode\u001b[39;00m\n\u001b[1;32m    868\u001b[0m         handle \u001b[38;5;241m=\u001b[39m \u001b[38;5;28mopen\u001b[39m(handle, ioargs\u001b[38;5;241m.\u001b[39mmode)\n",
      "\u001b[0;31mFileNotFoundError\u001b[0m: [Errno 2] No such file or directory: '/kaggle/input/amazon-product-reviews/Reviews.csv'"
     ]
    }
   ],
   "source": [
    "#import dataset\n",
    "ds=pd.read_csv('/kaggle/input/amazon-product-reviews/Reviews.csv')"
   ]
  },
  {
   "cell_type": "code",
   "execution_count": null,
   "id": "ec3de330",
   "metadata": {
    "papermill": {
     "duration": 0.042471,
     "end_time": "2024-07-31T08:17:58.807558",
     "exception": false,
     "start_time": "2024-07-31T08:17:58.765087",
     "status": "completed"
    },
    "tags": []
   },
   "outputs": [],
   "source": [
    "ds.head()"
   ]
  },
  {
   "cell_type": "markdown",
   "id": "f9123f32",
   "metadata": {
    "papermill": {
     "duration": 0.01134,
     "end_time": "2024-07-31T08:17:58.830645",
     "exception": false,
     "start_time": "2024-07-31T08:17:58.819305",
     "status": "completed"
    },
    "tags": []
   },
   "source": [
    "# EDA"
   ]
  },
  {
   "cell_type": "code",
   "execution_count": null,
   "id": "6f37ef18",
   "metadata": {
    "papermill": {
     "duration": 0.377752,
     "end_time": "2024-07-31T08:17:59.220775",
     "exception": false,
     "start_time": "2024-07-31T08:17:58.843023",
     "status": "completed"
    },
    "tags": []
   },
   "outputs": [],
   "source": [
    "ds.info()"
   ]
  },
  {
   "cell_type": "code",
   "execution_count": null,
   "id": "9654a202",
   "metadata": {
    "papermill": {
     "duration": 0.361146,
     "end_time": "2024-07-31T08:17:59.593853",
     "exception": false,
     "start_time": "2024-07-31T08:17:59.232707",
     "status": "completed"
    },
    "tags": []
   },
   "outputs": [],
   "source": [
    "ds.isnull().sum()"
   ]
  },
  {
   "cell_type": "code",
   "execution_count": null,
   "id": "a816d4a2",
   "metadata": {
    "papermill": {
     "duration": 0.421641,
     "end_time": "2024-07-31T08:18:00.028486",
     "exception": false,
     "start_time": "2024-07-31T08:17:59.606845",
     "status": "completed"
    },
    "tags": []
   },
   "outputs": [],
   "source": [
    "ds=ds.dropna(how='any')"
   ]
  },
  {
   "cell_type": "code",
   "execution_count": null,
   "id": "69bdb7e3",
   "metadata": {
    "papermill": {
     "duration": 0.03114,
     "end_time": "2024-07-31T08:18:00.071896",
     "exception": false,
     "start_time": "2024-07-31T08:18:00.040756",
     "status": "completed"
    },
    "tags": []
   },
   "outputs": [],
   "source": [
    "ds.head()"
   ]
  },
  {
   "cell_type": "code",
   "execution_count": null,
   "id": "4d7d3b49",
   "metadata": {
    "papermill": {
     "duration": 0.02115,
     "end_time": "2024-07-31T08:18:00.105674",
     "exception": false,
     "start_time": "2024-07-31T08:18:00.084524",
     "status": "completed"
    },
    "tags": []
   },
   "outputs": [],
   "source": [
    "#ds[ds['UserId']]"
   ]
  },
  {
   "cell_type": "code",
   "execution_count": null,
   "id": "b8117298",
   "metadata": {
    "papermill": {
     "duration": 0.041994,
     "end_time": "2024-07-31T08:18:00.160182",
     "exception": false,
     "start_time": "2024-07-31T08:18:00.118188",
     "status": "completed"
    },
    "tags": []
   },
   "outputs": [],
   "source": [
    "ds.drop(['ProfileName','HelpfulnessNumerator','HelpfulnessDenominator','Summary','Text'],axis=1,inplace=True)"
   ]
  },
  {
   "cell_type": "code",
   "execution_count": null,
   "id": "9190e3e1",
   "metadata": {
    "papermill": {
     "duration": 0.048516,
     "end_time": "2024-07-31T08:18:00.221127",
     "exception": false,
     "start_time": "2024-07-31T08:18:00.172611",
     "status": "completed"
    },
    "tags": []
   },
   "outputs": [],
   "source": [
    "ds['Time'].value_counts()"
   ]
  },
  {
   "cell_type": "code",
   "execution_count": null,
   "id": "39c9e0fa",
   "metadata": {
    "papermill": {
     "duration": 0.152684,
     "end_time": "2024-07-31T08:18:00.386372",
     "exception": false,
     "start_time": "2024-07-31T08:18:00.233688",
     "status": "completed"
    },
    "tags": []
   },
   "outputs": [],
   "source": [
    "ds.info()"
   ]
  },
  {
   "cell_type": "markdown",
   "id": "1b691c62",
   "metadata": {},
   "source": [
    "# Encoding the features"
   ]
  },
  {
   "cell_type": "code",
   "execution_count": null,
   "id": "c23e91d7",
   "metadata": {},
   "outputs": [],
   "source": [
    "object_encoders={}\n",
    "columns=['ProductId','UserId']\n",
    "for col in columns:\n",
    "    le=LabelEncoder()\n",
    "    ds[col]=le.fit_transform(ds[col])\n",
    "    #storing the feature values and its encoded values\n",
    "    object_encoders[col]=le"
   ]
  },
  {
   "cell_type": "markdown",
   "id": "09a0aa52",
   "metadata": {
    "papermill": {
     "duration": 0.01308,
     "end_time": "2024-07-31T08:18:00.412989",
     "exception": false,
     "start_time": "2024-07-31T08:18:00.399909",
     "status": "completed"
    },
    "tags": []
   },
   "source": [
    "# lets make more features:\n",
    "    * day of the week\n",
    "    * month\n",
    "    * time of the day(Hour)"
   ]
  },
  {
   "cell_type": "code",
   "execution_count": null,
   "id": "c2c29aa2",
   "metadata": {
    "papermill": {
     "duration": 0.138275,
     "end_time": "2024-07-31T08:18:00.563937",
     "exception": false,
     "start_time": "2024-07-31T08:18:00.425662",
     "status": "completed"
    },
    "tags": []
   },
   "outputs": [],
   "source": [
    "#change the time stamp into datatime\n",
    "ds['Time']=pd.to_datetime(ds['Time'],unit='s',utc=True)\n",
    "ds['Time']=ds['Time'].dt.tz_convert('America/New_York')"
   ]
  },
  {
   "cell_type": "code",
   "execution_count": null,
   "id": "3d1bbec2",
   "metadata": {
    "papermill": {
     "duration": 0.035731,
     "end_time": "2024-07-31T08:18:00.612410",
     "exception": false,
     "start_time": "2024-07-31T08:18:00.576679",
     "status": "completed"
    },
    "tags": []
   },
   "outputs": [],
   "source": [
    "ds.head()"
   ]
  },
  {
   "cell_type": "code",
   "execution_count": null,
   "id": "4b4763b8",
   "metadata": {
    "papermill": {
     "duration": 0.030039,
     "end_time": "2024-07-31T08:18:00.655529",
     "exception": false,
     "start_time": "2024-07-31T08:18:00.625490",
     "status": "completed"
    },
    "tags": []
   },
   "outputs": [],
   "source": [
    "ds.head()"
   ]
  },
  {
   "cell_type": "code",
   "execution_count": null,
   "id": "546dfb12",
   "metadata": {
    "papermill": {
     "duration": 0.617674,
     "end_time": "2024-07-31T08:18:01.286361",
     "exception": false,
     "start_time": "2024-07-31T08:18:00.668687",
     "status": "completed"
    },
    "tags": []
   },
   "outputs": [],
   "source": [
    "#year\n",
    "ds['year']=ds['Time'].dt.year\n",
    "#month\n",
    "ds['month']=ds['Time'].dt.month\n",
    "#week\n",
    "ds['day_of_week']=ds['Time'].dt.dayofweek\n",
    "#hour\n",
    "ds['hour']=ds['Time'].dt.time"
   ]
  },
  {
   "cell_type": "code",
   "execution_count": null,
   "id": "70113684",
   "metadata": {
    "papermill": {
     "duration": 0.032374,
     "end_time": "2024-07-31T08:18:01.331995",
     "exception": false,
     "start_time": "2024-07-31T08:18:01.299621",
     "status": "completed"
    },
    "tags": []
   },
   "outputs": [],
   "source": [
    "ds.head()"
   ]
  },
  {
   "cell_type": "code",
   "execution_count": null,
   "id": "d9a144ed",
   "metadata": {
    "papermill": {
     "duration": 0.214153,
     "end_time": "2024-07-31T08:18:01.559615",
     "exception": false,
     "start_time": "2024-07-31T08:18:01.345462",
     "status": "completed"
    },
    "tags": []
   },
   "outputs": [],
   "source": [
    "ds.isnull().sum()"
   ]
  },
  {
   "cell_type": "code",
   "execution_count": null,
   "id": "f2a61274",
   "metadata": {
    "papermill": {
     "duration": 0.056283,
     "end_time": "2024-07-31T08:18:01.629484",
     "exception": false,
     "start_time": "2024-07-31T08:18:01.573201",
     "status": "completed"
    },
    "tags": []
   },
   "outputs": [],
   "source": [
    "#droping the time column\n",
    "clean_data=ds.drop(['Time'],axis=1)"
   ]
  },
  {
   "cell_type": "code",
   "execution_count": null,
   "id": "f3432c5c",
   "metadata": {
    "papermill": {
     "duration": 0.073619,
     "end_time": "2024-07-31T08:18:01.716750",
     "exception": false,
     "start_time": "2024-07-31T08:18:01.643131",
     "status": "completed"
    },
    "tags": []
   },
   "outputs": [],
   "source": [
    "#dropign the ID\n",
    "clean_data.drop(['Id'],axis=1,inplace=True)"
   ]
  },
  {
   "cell_type": "code",
   "execution_count": null,
   "id": "fe11f92b",
   "metadata": {
    "papermill": {
     "duration": 0.213197,
     "end_time": "2024-07-31T08:18:01.943593",
     "exception": false,
     "start_time": "2024-07-31T08:18:01.730396",
     "status": "completed"
    },
    "tags": []
   },
   "outputs": [],
   "source": [
    "clean_data.info()"
   ]
  },
  {
   "cell_type": "code",
   "execution_count": null,
   "id": "7a022765",
   "metadata": {
    "papermill": {
     "duration": 0.466623,
     "end_time": "2024-07-31T08:18:02.424213",
     "exception": false,
     "start_time": "2024-07-31T08:18:01.957590",
     "status": "completed"
    },
    "tags": []
   },
   "outputs": [],
   "source": [
    "#convert the hour feature into int\n",
    "clean_data['hour']=clean_data['hour'].apply(lambda x:x.hour )"
   ]
  },
  {
   "cell_type": "markdown",
   "id": "659c00c1",
   "metadata": {
    "papermill": {
     "duration": 0.01349,
     "end_time": "2024-07-31T08:18:02.451882",
     "exception": false,
     "start_time": "2024-07-31T08:18:02.438392",
     "status": "completed"
    },
    "tags": []
   },
   "source": [
    "# lets add another feature:\n",
    "        * Name of the feature is: recomended\n",
    "        * the feature if gonna be boolean\n",
    "        * we are gonna assign it True if its equal or greater than 3 : False other wise"
   ]
  },
  {
   "cell_type": "code",
   "execution_count": null,
   "id": "4e93a127",
   "metadata": {
    "papermill": {
     "duration": 0.024652,
     "end_time": "2024-07-31T08:18:02.490510",
     "exception": false,
     "start_time": "2024-07-31T08:18:02.465858",
     "status": "completed"
    },
    "tags": []
   },
   "outputs": [],
   "source": [
    "clean_data['Recomended']=clean_data['Score']>=3"
   ]
  },
  {
   "cell_type": "code",
   "execution_count": null,
   "id": "3cd4b9a1",
   "metadata": {
    "papermill": {
     "duration": 0.025856,
     "end_time": "2024-07-31T08:18:02.530143",
     "exception": false,
     "start_time": "2024-07-31T08:18:02.504287",
     "status": "completed"
    },
    "tags": []
   },
   "outputs": [],
   "source": [
    "clean_data.columns"
   ]
  },
  {
   "cell_type": "markdown",
   "id": "e58c889b",
   "metadata": {},
   "source": [
    "## droping the 'Rate'---> Score"
   ]
  },
  {
   "cell_type": "code",
   "execution_count": null,
   "id": "442cbb8b",
   "metadata": {},
   "outputs": [],
   "source": [
    "clean_data.drop(['Score'],axis=1,inplace=True)"
   ]
  },
  {
   "cell_type": "markdown",
   "id": "fb742ecf",
   "metadata": {},
   "source": [
    "# mapping features"
   ]
  },
  {
   "cell_type": "code",
   "execution_count": null,
   "id": "91c21236",
   "metadata": {},
   "outputs": [],
   "source": [
    "clean_data['year'].value_counts()"
   ]
  },
  {
   "cell_type": "code",
   "execution_count": null,
   "id": "b16a03b2",
   "metadata": {},
   "outputs": [],
   "source": [
    "def mapping_function_year(year):\n",
    "    return year-1999"
   ]
  },
  {
   "cell_type": "code",
   "execution_count": null,
   "id": "a4b0cead",
   "metadata": {},
   "outputs": [],
   "source": [
    "#clone=clean_data.copy()"
   ]
  },
  {
   "cell_type": "code",
   "execution_count": null,
   "id": "8fdd1383",
   "metadata": {},
   "outputs": [],
   "source": [
    "clean_data['year']=clean_data['year'].apply(mapping_function_year)"
   ]
  },
  {
   "cell_type": "markdown",
   "id": "2e10dfb9",
   "metadata": {},
   "source": [
    "# mapping hour"
   ]
  },
  {
   "cell_type": "code",
   "execution_count": null,
   "id": "01bc1b80",
   "metadata": {},
   "outputs": [],
   "source": [
    "def mapping_function_hour(hour):\n",
    "    return hour-19"
   ]
  },
  {
   "cell_type": "code",
   "execution_count": null,
   "id": "445b4605",
   "metadata": {},
   "outputs": [],
   "source": [
    "clean_data['hour'].value_counts()"
   ]
  },
  {
   "cell_type": "code",
   "execution_count": null,
   "id": "8477ef97",
   "metadata": {},
   "outputs": [],
   "source": [
    "clean_data['hour']=clean_data['hour'].apply(mapping_function_hour)"
   ]
  },
  {
   "cell_type": "code",
   "execution_count": null,
   "id": "62eac426",
   "metadata": {},
   "outputs": [],
   "source": [
    "clean_data.head()"
   ]
  },
  {
   "cell_type": "code",
   "execution_count": null,
   "id": "a3fcf418",
   "metadata": {},
   "outputs": [],
   "source": [
    "# scaler=MinMaxScaler()\n",
    "\n",
    "# columns_to_scale=['year','month','hour','day_of_week']\n",
    "# clean_data[columns_to_scale]=scaler.fit_transform(clean_data[columns_to_scale])"
   ]
  },
  {
   "cell_type": "code",
   "execution_count": null,
   "id": "d84281f0",
   "metadata": {},
   "outputs": [],
   "source": [
    "# lets change the boolean into number\n",
    "clean_data['Recomended']=clean_data['Recomended'].astype(int)"
   ]
  },
  {
   "cell_type": "markdown",
   "id": "b253ddbf",
   "metadata": {
    "papermill": {
     "duration": 0.013438,
     "end_time": "2024-07-31T08:18:02.557604",
     "exception": false,
     "start_time": "2024-07-31T08:18:02.544166",
     "status": "completed"
    },
    "tags": []
   },
   "source": [
    "# split into train and test"
   ]
  },
  {
   "cell_type": "code",
   "execution_count": null,
   "id": "ae055020",
   "metadata": {
    "papermill": {
     "duration": 0.43086,
     "end_time": "2024-07-31T08:18:03.003150",
     "exception": false,
     "start_time": "2024-07-31T08:18:02.572290",
     "status": "completed"
    },
    "tags": []
   },
   "outputs": [],
   "source": [
    "#split into train and test\n",
    "train,test=train_test_split(\n",
    "    clean_data,\n",
    "    random_state=42,\n",
    "    test_size=0.2,\n",
    "    stratify=clean_data['Recomended']\n",
    ")"
   ]
  },
  {
   "cell_type": "markdown",
   "id": "d3103064",
   "metadata": {},
   "source": [
    "# lets check for data distribution"
   ]
  },
  {
   "cell_type": "code",
   "execution_count": null,
   "id": "07023320",
   "metadata": {},
   "outputs": [],
   "source": [
    "plt.hist(clean_data['year'],edgecolor='black')\n",
    "plt.show()"
   ]
  },
  {
   "cell_type": "code",
   "execution_count": null,
   "id": "23d0d692",
   "metadata": {},
   "outputs": [],
   "source": [
    "plt.hist(clean_data['hour'],edgecolor='black')\n",
    "plt.show()"
   ]
  },
  {
   "cell_type": "markdown",
   "id": "00db7028",
   "metadata": {
    "papermill": {
     "duration": 0.013714,
     "end_time": "2024-07-31T08:18:03.030890",
     "exception": false,
     "start_time": "2024-07-31T08:18:03.017176",
     "status": "completed"
    },
    "tags": []
   },
   "source": [
    "# turn them into torch dataset"
   ]
  },
  {
   "cell_type": "code",
   "execution_count": null,
   "id": "5f706d44",
   "metadata": {},
   "outputs": [],
   "source": [
    "device=torch.device('cuda' if torch.cuda.is_available() else 'cpu')"
   ]
  },
  {
   "cell_type": "code",
   "execution_count": null,
   "id": "92a53107",
   "metadata": {},
   "outputs": [],
   "source": [
    "p=torch.tensor(90,dtype=torch.long)"
   ]
  },
  {
   "cell_type": "code",
   "execution_count": null,
   "id": "9515c938",
   "metadata": {
    "papermill": {
     "duration": 0.026573,
     "end_time": "2024-07-31T08:18:03.071328",
     "exception": false,
     "start_time": "2024-07-31T08:18:03.044755",
     "status": "completed"
    },
    "tags": []
   },
   "outputs": [],
   "source": [
    "class Mydataset(Dataset):\n",
    "    def __init__(self,data):\n",
    "        super().__init__()\n",
    "        self.data=data\n",
    "        \n",
    "    def __len__(self):\n",
    "        return len(self.data)\n",
    "    \n",
    "    def __getitem__(self,idx):\n",
    "        #element to extract\n",
    "        item=self.data.iloc[idx]\n",
    "        \n",
    "        return {\n",
    "            \"product_id\":torch.tensor([item['ProductId']],dtype=torch.long).to(device),\n",
    "            \"user_id\":torch.tensor([item['UserId']],dtype=torch.long).to(device) ,\n",
    "            \"year\":torch.tensor([item['year']],dtype=torch.long).to(device) ,\n",
    "            \"month\":torch.tensor([item['month']],dtype=torch.long).to(device) ,\n",
    "            \"day_of_week\":torch.tensor([item['day_of_week']],dtype=torch.long).to(device) ,\n",
    "            \"hour\":torch.tensor([item['hour']],dtype=torch.long).to(device) ,\n",
    "            \"recomended\":torch.tensor([item['Recomended']],dtype=torch.float).to(device)\n",
    "        }"
   ]
  },
  {
   "cell_type": "markdown",
   "id": "1d95fb1f",
   "metadata": {
    "papermill": {
     "duration": 0.013483,
     "end_time": "2024-07-31T08:18:03.099038",
     "exception": false,
     "start_time": "2024-07-31T08:18:03.085555",
     "status": "completed"
    },
    "tags": []
   },
   "source": [
    "## loading the torch dataset format"
   ]
  },
  {
   "cell_type": "code",
   "execution_count": null,
   "id": "5c241a26",
   "metadata": {
    "papermill": {
     "duration": 0.022494,
     "end_time": "2024-07-31T08:18:03.135384",
     "exception": false,
     "start_time": "2024-07-31T08:18:03.112890",
     "status": "completed"
    },
    "tags": []
   },
   "outputs": [],
   "source": [
    "#trainig dataset\n",
    "train_dataset=Mydataset(train)\n",
    "test_dataset=Mydataset(test)"
   ]
  },
  {
   "cell_type": "code",
   "execution_count": null,
   "id": "e86a3b86",
   "metadata": {
    "papermill": {
     "duration": 0.023508,
     "end_time": "2024-07-31T08:18:03.172672",
     "exception": false,
     "start_time": "2024-07-31T08:18:03.149164",
     "status": "completed"
    },
    "tags": []
   },
   "outputs": [],
   "source": [
    "print(train_dataset)\n",
    "print(test_dataset)"
   ]
  },
  {
   "cell_type": "markdown",
   "id": "6f8635a3",
   "metadata": {
    "papermill": {
     "duration": 0.013516,
     "end_time": "2024-07-31T08:18:03.200493",
     "exception": false,
     "start_time": "2024-07-31T08:18:03.186977",
     "status": "completed"
    },
    "tags": []
   },
   "source": [
    "# turning it into torch dataloader"
   ]
  },
  {
   "cell_type": "code",
   "execution_count": null,
   "id": "7f9e6d2f",
   "metadata": {
    "papermill": {
     "duration": 0.025701,
     "end_time": "2024-07-31T08:18:03.240029",
     "exception": false,
     "start_time": "2024-07-31T08:18:03.214328",
     "status": "completed"
    },
    "tags": []
   },
   "outputs": [],
   "source": [
    "#making the train dataloader\n",
    "train_dataloader=DataLoader(\n",
    "    dataset=train_dataset,\n",
    "    batch_size=32\n",
    ")\n",
    "\n",
    "#making test dataloader\n",
    "test_dataloader=DataLoader(\n",
    "    dataset=test_dataset,\n",
    "    batch_size=32\n",
    ")"
   ]
  },
  {
   "cell_type": "code",
   "execution_count": null,
   "id": "a4c5bae2",
   "metadata": {
    "scrolled": true
   },
   "outputs": [],
   "source": [
    "# acessing elements of the dataloader\n",
    "for batch in train_dataloader:\n",
    "    print(batch['product_id'].shape)\n",
    "    print(batch['user_id'].shape)\n",
    "    break"
   ]
  },
  {
   "cell_type": "code",
   "execution_count": null,
   "id": "be624169",
   "metadata": {},
   "outputs": [],
   "source": [
    "import shutil"
   ]
  },
  {
   "cell_type": "code",
   "execution_count": null,
   "id": "79041240",
   "metadata": {},
   "outputs": [],
   "source": [
    "#shutil.rmtree(\"/kaggle/working/tiny_recommendation\")"
   ]
  },
  {
   "cell_type": "code",
   "execution_count": null,
   "id": "32399f04",
   "metadata": {},
   "outputs": [],
   "source": [
    "!git clone https://github.com/nebyu08/tiny_recommendation.git"
   ]
  },
  {
   "cell_type": "markdown",
   "id": "ab866fe0",
   "metadata": {},
   "source": [
    "# model package importing"
   ]
  },
  {
   "cell_type": "code",
   "execution_count": null,
   "id": "e5425b2a",
   "metadata": {},
   "outputs": [],
   "source": [
    "#import sys\n",
    "#sys.path.append('C:/Users/nebiy/Documents/recommendation_system/tiny_recommendation/jupyter_notes/main.py')\n",
    "from tiny_recommendation.main import WideDeep,WD_Config"
   ]
  },
  {
   "cell_type": "code",
   "execution_count": null,
   "id": "d3f89f4a",
   "metadata": {},
   "outputs": [],
   "source": [
    "config=WD_Config()\n",
    "config.num_product=clean_data['ProductId'].nunique()\n",
    "config.num_users=clean_data['UserId'].nunique() \n",
    "config.num_year=clean_data[\"year\"].nunique()\n",
    "config.num_time_day=clean_data[\"hour\"].nunique()\n",
    "config.num_month=clean_data['month'].nunique()+1   #since in this column it start from 1\n",
    "config.num_day_week=clean_data[\"day_of_week\"].nunique()\n",
    "config.embedding_dim=100"
   ]
  },
  {
   "cell_type": "code",
   "execution_count": null,
   "id": "e366db6e",
   "metadata": {},
   "outputs": [],
   "source": [
    "print(config)"
   ]
  },
  {
   "cell_type": "code",
   "execution_count": null,
   "id": "97860d2a",
   "metadata": {},
   "outputs": [],
   "source": [
    "model=WideDeep(config)"
   ]
  },
  {
   "cell_type": "markdown",
   "id": "fe704485",
   "metadata": {},
   "source": [
    "# setup the config of the model"
   ]
  },
  {
   "cell_type": "code",
   "execution_count": null,
   "id": "61fb4a87",
   "metadata": {},
   "outputs": [],
   "source": [
    "clean_data[\"day_of_week\"].value_counts()"
   ]
  },
  {
   "cell_type": "code",
   "execution_count": null,
   "id": "8f925b7f",
   "metadata": {},
   "outputs": [],
   "source": [
    "# config.num_product=clean_data['ProductId'].nunique()+1\n",
    "# config.num_users=clean_data['UserId'].nunique() +1\n",
    "# config.num_year=clean_data[\"year\"].nunique()+1\n",
    "# config.num_time_day=clean_data[\"hour\"].nunique()+1\n",
    "# config.num_month=clean_data['month'].nunique()+1\n",
    "# config.num_day_week=clean_data[\"day_of_week\"].nunique()+1\n",
    "# config.embedding_dim=100"
   ]
  },
  {
   "cell_type": "code",
   "execution_count": null,
   "id": "5b176ad9",
   "metadata": {},
   "outputs": [],
   "source": [
    "model=model.to(device)"
   ]
  },
  {
   "cell_type": "code",
   "execution_count": null,
   "id": "8c1bf369",
   "metadata": {},
   "outputs": [],
   "source": [
    "# for name,param in model.named_parameters():\n",
    "#     if(param.requires_grad):\n",
    "#         print(name)"
   ]
  },
  {
   "cell_type": "code",
   "execution_count": null,
   "id": "281c6641",
   "metadata": {},
   "outputs": [],
   "source": [
    "# for name,param in model.named_parameters():\n",
    "#     if not(param.requires_grad):\n",
    "#         print(name)"
   ]
  },
  {
   "cell_type": "code",
   "execution_count": null,
   "id": "694f5e0c",
   "metadata": {},
   "outputs": [],
   "source": [
    "optim=torch.optim.AdamW(model.parameters(),lr=0.01,weight_decay=0.01)  #the deep component\n",
    "loss_fn=torch.nn.BCEWithLogitsLoss() "
   ]
  },
  {
   "cell_type": "markdown",
   "id": "8bc28224",
   "metadata": {},
   "source": [
    "# lets debug some stuff with data and model"
   ]
  },
  {
   "cell_type": "code",
   "execution_count": null,
   "id": "4c170c5a",
   "metadata": {
    "scrolled": true
   },
   "outputs": [],
   "source": [
    "# lets access 10 elements from one batch\n",
    "for batch in train_dataloader:\n",
    "    product_id=batch[\"product_id\"]\n",
    "    user_id=batch[\"user_id\"]\n",
    "    year=batch[\"year\"]\n",
    "    month=batch[\"month\"]\n",
    "    day_of_week=batch[\"day_of_week\"]\n",
    "    hour=batch[\"hour\"]\n",
    "    recomended=batch[\"recomended\"]\n",
    "    \n",
    "    print(product_id.size(0))\n",
    "    print(user_id.shape)\n",
    "    print(year.shape)\n",
    "    print(recomended.shape)\n",
    "    print(month.shape)\n",
    "    print(year.shape)\n",
    "    print(day_of_week.shape)\n",
    "\n",
    "    break"
   ]
  },
  {
   "cell_type": "code",
   "execution_count": null,
   "id": "ba28a2b2",
   "metadata": {},
   "outputs": [],
   "source": [
    "print(device)"
   ]
  },
  {
   "cell_type": "code",
   "execution_count": null,
   "id": "d0e2d2ec",
   "metadata": {},
   "outputs": [],
   "source": [
    "model=model.to(device)"
   ]
  },
  {
   "cell_type": "markdown",
   "id": "c4f04cc9",
   "metadata": {},
   "source": [
    "# train my model"
   ]
  },
  {
   "cell_type": "code",
   "execution_count": null,
   "id": "de0bfaf4",
   "metadata": {},
   "outputs": [],
   "source": [
    "# extraxt one batch \n",
    "for batch in train_dataloader:\n",
    "    one_batch=batch\n",
    "    break"
   ]
  },
  {
   "cell_type": "code",
   "execution_count": null,
   "id": "f1f6ee12",
   "metadata": {
    "scrolled": true
   },
   "outputs": [],
   "source": [
    "# reco=batch['recomended']\n",
    "# print(reco)"
   ]
  },
  {
   "cell_type": "code",
   "execution_count": null,
   "id": "f07b8f43",
   "metadata": {},
   "outputs": [],
   "source": [
    "writer=SummaryWriter('runs/wide_deep_model')"
   ]
  },
  {
   "cell_type": "code",
   "execution_count": null,
   "id": "c5570c06",
   "metadata": {},
   "outputs": [],
   "source": [
    "batches=[]\n",
    "for idx,batch in enumerate(train_dataloader):\n",
    "    if(idx<10):\n",
    "        batches.append(batch)\n",
    "    break"
   ]
  },
  {
   "cell_type": "code",
   "execution_count": null,
   "id": "b21da959",
   "metadata": {},
   "outputs": [],
   "source": [
    "# devices={param.is_cuda for param in model.parameters()}"
   ]
  },
  {
   "cell_type": "code",
   "execution_count": null,
   "id": "47645729",
   "metadata": {},
   "outputs": [],
   "source": [
    "#print(devices)"
   ]
  },
  {
   "cell_type": "code",
   "execution_count": null,
   "id": "454ae33d",
   "metadata": {},
   "outputs": [],
   "source": [
    "# for idx,items in enumerate(train_dataloader):\n",
    "#     print(items['product_id'].is_cuda)\n",
    "#     print(items['user_id'].is_cuda)\n",
    "#     print(items['year'].is_cuda)\n",
    "#     print(items['month'].is_cuda)\n",
    "#     print(items['day_of_week'].is_cuda)\n",
    "#     print(items['recomended'].is_cuda)\n",
    "#     break"
   ]
  },
  {
   "cell_type": "code",
   "execution_count": null,
   "id": "8c295612",
   "metadata": {
    "papermill": {
     "duration": 0.013723,
     "end_time": "2024-07-31T08:18:03.268739",
     "exception": false,
     "start_time": "2024-07-31T08:18:03.255016",
     "status": "completed"
    },
    "scrolled": true,
    "tags": []
   },
   "outputs": [],
   "source": [
    "#lets start the training\n",
    "n_epoch=1000\n",
    "for epoch in range(n_epoch):\n",
    "    for batch in batches:\n",
    "        #getting the shape right\n",
    "        product_id=batch['product_id']\n",
    "        user_id=batch['user_id']\n",
    "        year=batch['year']\n",
    "        month=batch['month']\n",
    "        day_of_week=batch['day_of_week']\n",
    "        hour=batch['hour']\n",
    "        recomended=batch['recomended']\n",
    "    \n",
    "        #changing the value of the recomended\n",
    "        #recomended=recomended.float()\n",
    "        \n",
    "        #feed forward model\n",
    "        model_pred=model(\n",
    "            product_id,\n",
    "            user_id,\n",
    "            year,\n",
    "            month,\n",
    "            day_of_week,\n",
    "            hour\n",
    "        )\n",
    "    \n",
    "        #print(f\"loss at {epoch} epoch : is {model_pred} \")\n",
    "    \n",
    "        #calculate the loss\n",
    "        loss=loss_fn(model_pred,recomended)\n",
    "        \n",
    "        #zero grad\n",
    "        optim.zero_grad()\n",
    "        loss.backward()\n",
    "    \n",
    "        #lets clip the gradient of the module\n",
    "        #torch.nn.utils.clip_grad_norm_(model.parameters(), max_norm=1)\n",
    "        \n",
    "        optim.step() #update the gradient \n",
    "\n",
    "        #lets see the weights\n",
    "        for name,param in model.named_parameters():\n",
    "            writer.add_histogram(name,param,epoch)\n",
    "\n",
    "        #lets see the gradient norm\n",
    "        total_norm=0\n",
    "        for param in model.parameters():\n",
    "            param_norm=param.grad.data.norm(2)\n",
    "            total_norm+=param_norm.item()**2\n",
    "        \n",
    "        total_norm=total_norm**0.5\n",
    "        writer.add_scalar('gradient norm',total_norm,epoch)\n",
    "\n",
    "\n",
    "        #lets recoord the loss\n",
    "        writer.add_scalar('loss/train',loss.item(),epoch)\n",
    "        \n",
    "        \n",
    "        #display the loss every 5 epoch\n",
    "    if(epoch%100==0):\n",
    "        print(f\"the loss is {loss.item()}\")\n",
    "\n",
    "#lets close the tenosrboard\n",
    "writer.close()"
   ]
  },
  {
   "cell_type": "code",
   "execution_count": null,
   "id": "ee802728",
   "metadata": {},
   "outputs": [],
   "source": [
    "%load_ext tensorboard\n",
    "\n",
    "%tensorboard -logdir runs/wide_deep_model"
   ]
  },
  {
   "cell_type": "code",
   "execution_count": null,
   "id": "b06f81ce",
   "metadata": {},
   "outputs": [],
   "source": []
  },
  {
   "cell_type": "code",
   "execution_count": null,
   "id": "ca50b5e3",
   "metadata": {},
   "outputs": [],
   "source": []
  },
  {
   "cell_type": "code",
   "execution_count": null,
   "id": "3d752375",
   "metadata": {},
   "outputs": [],
   "source": []
  }
 ],
 "metadata": {
  "kaggle": {
   "accelerator": "nvidiaTeslaT4",
   "dataSources": [
    {
     "datasetId": 2038205,
     "sourceId": 3380672,
     "sourceType": "datasetVersion"
    },
    {
     "datasetId": 5468798,
     "sourceId": 9067293,
     "sourceType": "datasetVersion"
    }
   ],
   "dockerImageVersionId": 30747,
   "isGpuEnabled": true,
   "isInternetEnabled": true,
   "language": "python",
   "sourceType": "notebook"
  },
  "kernelspec": {
   "display_name": "Python 3 (ipykernel)",
   "language": "python",
   "name": "python3"
  },
  "language_info": {
   "codemirror_mode": {
    "name": "ipython",
    "version": 3
   },
   "file_extension": ".py",
   "mimetype": "text/x-python",
   "name": "python",
   "nbconvert_exporter": "python",
   "pygments_lexer": "ipython3",
   "version": "3.8.19"
  },
  "papermill": {
   "default_parameters": {},
   "duration": 25.610004,
   "end_time": "2024-07-31T08:18:04.735322",
   "environment_variables": {},
   "exception": null,
   "input_path": "__notebook__.ipynb",
   "output_path": "__notebook__.ipynb",
   "parameters": {},
   "start_time": "2024-07-31T08:17:39.125318",
   "version": "2.5.0"
  }
 },
 "nbformat": 4,
 "nbformat_minor": 5
}
